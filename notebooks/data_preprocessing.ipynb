{
 "cells": [
  {
   "cell_type": "markdown",
   "id": "82352f7621188426",
   "metadata": {
    "collapsed": false
   },
   "source": [
    "# Data preprocessing"
   ]
  },
  {
   "cell_type": "markdown",
   "id": "c44920d9a529a294",
   "metadata": {
    "collapsed": false
   },
   "source": [
    "## 0. Setup"
   ]
  },
  {
   "cell_type": "code",
   "execution_count": 2,
   "id": "3526372ad24e85a4",
   "metadata": {
    "collapsed": false,
    "ExecuteTime": {
     "end_time": "2024-03-25T17:22:00.513058Z",
     "start_time": "2024-03-25T17:22:00.035024600Z"
    }
   },
   "outputs": [],
   "source": [
    "import time\n",
    "import pandas as pd\n",
    "\n",
    "import rust_sketch\n",
    "\n",
    "from src.utils import plot_doodle"
   ]
  },
  {
   "cell_type": "markdown",
   "id": "9218dc26756eb05b",
   "metadata": {
    "collapsed": false
   },
   "source": [
    "## 1. Load datasets"
   ]
  },
  {
   "cell_type": "code",
   "execution_count": 3,
   "id": "initial_id",
   "metadata": {
    "ExecuteTime": {
     "end_time": "2024-03-25T17:22:22.442393100Z",
     "start_time": "2024-03-25T17:22:01.478452Z"
    }
   },
   "outputs": [],
   "source": [
    "camera_df = pd.read_json('../data/full_simplified_camera.ndjson', lines=True)\n",
    "phone_df = pd.read_json('../data/full_simplified_cell phone.ndjson', lines=True)\n",
    "\n",
    "for df in [camera_df, phone_df]:\n",
    "    df.drop([\"timestamp\", \"countrycode\", \"key_id\", \"recognized\"], axis=1, inplace=True)"
   ]
  },
  {
   "cell_type": "code",
   "execution_count": 5,
   "id": "4813999ee763fee6",
   "metadata": {
    "collapsed": false,
    "ExecuteTime": {
     "end_time": "2024-03-25T17:22:36.870719Z",
     "start_time": "2024-03-25T17:22:36.843716Z"
    }
   },
   "outputs": [
    {
     "data": {
      "text/plain": "         word                                            drawing\n0  cell phone  [[[9, 9], [32, 32]], [[9, 12, 8, 9, 6, 8, 0, 9...\n1  cell phone  [[[31, 6, 0, 94, 119, 144, 151, 173, 54, 32, 2...\n2  cell phone  [[[33, 98, 154, 168, 177, 178, 170, 149, 118, ...\n3  cell phone  [[[76, 81, 82, 71, 56, 35, 0, 31, 46, 64, 71, ...\n4  cell phone  [[[26, 1, 0, 9, 142, 154, 154, 145, 144, 140, ...",
      "text/html": "<div>\n<style scoped>\n    .dataframe tbody tr th:only-of-type {\n        vertical-align: middle;\n    }\n\n    .dataframe tbody tr th {\n        vertical-align: top;\n    }\n\n    .dataframe thead th {\n        text-align: right;\n    }\n</style>\n<table border=\"1\" class=\"dataframe\">\n  <thead>\n    <tr style=\"text-align: right;\">\n      <th></th>\n      <th>word</th>\n      <th>drawing</th>\n    </tr>\n  </thead>\n  <tbody>\n    <tr>\n      <th>0</th>\n      <td>cell phone</td>\n      <td>[[[9, 9], [32, 32]], [[9, 12, 8, 9, 6, 8, 0, 9...</td>\n    </tr>\n    <tr>\n      <th>1</th>\n      <td>cell phone</td>\n      <td>[[[31, 6, 0, 94, 119, 144, 151, 173, 54, 32, 2...</td>\n    </tr>\n    <tr>\n      <th>2</th>\n      <td>cell phone</td>\n      <td>[[[33, 98, 154, 168, 177, 178, 170, 149, 118, ...</td>\n    </tr>\n    <tr>\n      <th>3</th>\n      <td>cell phone</td>\n      <td>[[[76, 81, 82, 71, 56, 35, 0, 31, 46, 64, 71, ...</td>\n    </tr>\n    <tr>\n      <th>4</th>\n      <td>cell phone</td>\n      <td>[[[26, 1, 0, 9, 142, 154, 154, 145, 144, 140, ...</td>\n    </tr>\n  </tbody>\n</table>\n</div>"
     },
     "execution_count": 5,
     "metadata": {},
     "output_type": "execute_result"
    }
   ],
   "source": [
    "phone_df.head()"
   ]
  },
  {
   "cell_type": "code",
   "execution_count": null,
   "id": "5e92f8beb8ade37a",
   "metadata": {
    "collapsed": false,
    "is_executing": true
   },
   "outputs": [],
   "source": [
    "# Line coordinates for the drawing\n",
    "lines = phone_df['drawing'].iloc[34]\n",
    "plot_doodle(lines)"
   ]
  },
  {
   "cell_type": "raw",
   "source": [
    "import numpy as np\n",
    "from PIL import Image\n",
    "import time\n",
    "\n",
    "def scale_down_coordinate(coordinate, old_size, new_size):\n",
    "    \"\"\"\n",
    "    Scale down a single coordinate from old_size to new_size.\n",
    "\n",
    "    Parameters:\n",
    "    coordinate (int): The coordinate (x or y) to be scaled down.\n",
    "    old_size (int): The original size of the image (width/height).\n",
    "    new_size (int): The target size of the image (width/height).\n",
    "\n",
    "    Returns:\n",
    "    int: Scaled down coordinate.\n",
    "    \"\"\"\n",
    "    scale_factor = new_size / old_size\n",
    "    return int(coordinate * scale_factor)\n",
    "\n",
    "def draw_line(image, start, end):\n",
    "    \"\"\"\n",
    "    Draw a line on the image using Bresenham's line algorithm.\n",
    "\n",
    "    Parameters:\n",
    "    image (list of list of int): The image array to draw the line on.\n",
    "    start (tuple): The starting coordinate of the line.\n",
    "    end (tuple): The ending coordinate of the line.\n",
    "    \"\"\"\n",
    "    # Bresenham's line algorithm implementation\n",
    "    # This is a simplified version without anti-aliasing\n",
    "\n",
    "    x0, y0 = start\n",
    "    x1, y1 = end\n",
    "    dx = abs(x1 - x0)\n",
    "    dy = abs(y1 - y0)\n",
    "    sx = 1 if x0 < x1 else -1\n",
    "    sy = 1 if y0 < y1 else -1\n",
    "    err = dx - dy\n",
    "\n",
    "    while True:\n",
    "        if 0 <= x0 < len(image) and 0 <= y0 < len(image):\n",
    "            image[y0][x0] = 255  # Set the pixel value to white\n",
    "        if x0 == x1 and y0 == y1:\n",
    "            break\n",
    "        e2 = 2 * err\n",
    "        if e2 > -dy:\n",
    "            err -= dy\n",
    "            x0 += sx\n",
    "        if e2 < dx:\n",
    "            err += dx\n",
    "            y0 += sy\n",
    "\n",
    "def convert_sketch_to_image(sketch, old_size=255, new_size=28):\n",
    "    \"\"\"\n",
    "    Convert a sketch to a grayscale image.\n",
    "\n",
    "    Parameters:\n",
    "    sketch (list): The sketch represented as a list of line segments with coordinates.\n",
    "    old_size (int): The original size of the sketch area.\n",
    "    new_size (int): The desired size of the output image.\n",
    "\n",
    "    Returns:\n",
    "    list of list of int: The resulting grayscale image.\n",
    "    \"\"\"\n",
    "    image = [[0 for _ in range(new_size)] for _ in range(new_size)]  # Create a blank image\n",
    "\n",
    "    for segment in sketch:\n",
    "        x_coords, y_coords = segment\n",
    "        scaled_x = [scale_down_coordinate(x, old_size, new_size) for x in x_coords]\n",
    "        scaled_y = [scale_down_coordinate(y, old_size, new_size) for y in y_coords]\n",
    "        for i in range(len(scaled_x) - 1):\n",
    "            draw_line(image, (scaled_x[i], scaled_y[i]), (scaled_x[i + 1], scaled_y[i + 1]))\n",
    "\n",
    "    return image\n",
    "\n",
    "def print_image(image):\n",
    "    \"\"\"\n",
    "    Print the image as ASCII art.\n",
    "\n",
    "    Parameters:\n",
    "    image (list of list of int): The image to print.\n",
    "    \"\"\"\n",
    "    for row in image:\n",
    "        print(''.join(['#' if pixel else ' ' for pixel in row]))\n",
    "\n",
    "\n",
    "def batch_process_sketches(df, batch_size=1000):\n",
    "    images = []  # List to store the processed images\n",
    "\n",
    "    init = time.time()  # Start timing\n",
    "\n",
    "    for i in range(df.shape[0]):\n",
    "        image = convert_sketch_to_image(df['drawing'].iloc[i])\n",
    "        image = np.array(image, dtype=np.uint8)\n",
    "        images.append(Image.fromarray(image, 'L'))\n",
    "\n",
    "    print(f\"Processing time for {df.shape[0]} sketches: {time.time() - init} s\")\n",
    "\n",
    "    return images\n",
    "\n",
    "init = time.time()\n",
    "image_data = batch_process_sketches(phone_df)[0]\n",
    "image_array = np.array(image_data, dtype=np.uint8).reshape((28, 28))\n",
    "image = Image.fromarray(image_array, 'L')\n",
    "print(f\"Processing time for {phone_df.shape[0]} sketches: {time.time() - init} s\")\n",
    "image.show()"
   ],
   "metadata": {
    "collapsed": false
   },
   "id": "656155ecc7fcbc76"
  },
  {
   "cell_type": "markdown",
   "source": [
    "## 2. Preprocess datasets"
   ],
   "metadata": {
    "collapsed": false
   },
   "id": "55a6fbd4f7797a62"
  },
  {
   "cell_type": "code",
   "outputs": [],
   "source": [
    "init = time.time()\n",
    "for df in [camera_df, phone_df]:\n",
    "    name = df[\"word\"].iloc[0]\n",
    "    df[\"drawing\"] = rust_sketch.sketches_to_images(df.drawing.array, 255, 28)\n",
    "    df.to_excel(f\"../data/{name}.xlsx\")\n",
    "print(f\"Processing time for {phone_df.shape[0]} sketches: {time.time() - init} s\")"
   ],
   "metadata": {
    "collapsed": false,
    "is_executing": true
   },
   "id": "e19ff757d85ac7fe",
   "execution_count": null
  }
 ],
 "metadata": {
  "kernelspec": {
   "display_name": "Python 3 (ipykernel)",
   "language": "python",
   "name": "python3"
  },
  "language_info": {
   "codemirror_mode": {
    "name": "ipython",
    "version": 3
   },
   "file_extension": ".py",
   "mimetype": "text/x-python",
   "name": "python",
   "nbconvert_exporter": "python",
   "pygments_lexer": "ipython3",
   "version": "3.10.11"
  }
 },
 "nbformat": 4,
 "nbformat_minor": 5
}
