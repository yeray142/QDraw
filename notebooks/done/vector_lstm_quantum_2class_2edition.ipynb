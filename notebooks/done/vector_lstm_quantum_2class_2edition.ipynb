{
 "cells": [
  {
   "cell_type": "markdown",
   "source": [
    "# Classifier using LSTM layers"
   ],
   "metadata": {
    "collapsed": false
   },
   "id": "5229e8479776427a"
  },
  {
   "cell_type": "markdown",
   "source": [
    "## 1. Importing Libraries"
   ],
   "metadata": {
    "collapsed": false
   },
   "id": "39f18e42aad23ab2"
  },
  {
   "cell_type": "code",
   "execution_count": 1,
   "id": "initial_id",
   "metadata": {
    "collapsed": true,
    "ExecuteTime": {
     "end_time": "2024-05-16T08:54:41.508425Z",
     "start_time": "2024-05-16T08:54:37.286383Z"
    }
   },
   "outputs": [
    {
     "name": "stdout",
     "output_type": "stream",
     "text": [
      "cuda\n"
     ]
    }
   ],
   "source": [
    "import torch\n",
    "\n",
    "import pennylane as qml\n",
    "import numpy as np\n",
    "import pandas as pd\n",
    "\n",
    "data_folder = '../data/quickdraw'\n",
    "\n",
    "EPOCHS = 10\n",
    "BATCH_SIZE = 40\n",
    "\n",
    "MAX_SEQ_LENGTH = 95\n",
    "\n",
    "device = torch.device(\"cuda\" if torch.cuda.is_available() else \"cpu\")\n",
    "print(device)"
   ]
  },
  {
   "cell_type": "markdown",
   "source": [
    "## 2. Data Preprocessing"
   ],
   "metadata": {
    "collapsed": false
   },
   "id": "5b992f62c4ee6b1e"
  },
  {
   "cell_type": "markdown",
   "source": [
    "### 2.1. Loading the data"
   ],
   "metadata": {
    "collapsed": false
   },
   "id": "daf8e6a6a64418c0"
  },
  {
   "cell_type": "code",
   "outputs": [
    {
     "data": {
      "text/plain": "{'camera': 0, 'cell phone': 1}"
     },
     "execution_count": 2,
     "metadata": {},
     "output_type": "execute_result"
    }
   ],
   "source": [
    "import os\n",
    "\n",
    "\n",
    "def get_categories_from_data(folder, n=None):\n",
    "    categories = []\n",
    "    files = os.listdir(folder)\n",
    "\n",
    "    for file in files:\n",
    "        fname = file[16:-7]\n",
    "        if len(fname) > 0:\n",
    "            categories.append(fname)\n",
    "\n",
    "    if n is None:\n",
    "        return categories\n",
    "    \n",
    "    return categories[:n]\n",
    "\n",
    "classes = get_categories_from_data(data_folder)\n",
    "class_id = dict(zip(classes, range(len(classes))))\n",
    "\n",
    "\n",
    "camera_data = np.load(f'../data/sketchrnn/sketchrnn_camera.npz', allow_pickle=True, encoding='latin1')\n",
    "cellphone_data = np.load(f'../data/sketchrnn/sketchrnn_cell_phone.npz', allow_pickle=True, encoding='latin1')\n",
    "\n",
    "class_id"
   ],
   "metadata": {
    "collapsed": false,
    "ExecuteTime": {
     "end_time": "2024-05-16T08:54:41.524423Z",
     "start_time": "2024-05-16T08:54:41.509430Z"
    }
   },
   "id": "7dfa8ee273347850",
   "execution_count": 2
  },
  {
   "cell_type": "code",
   "outputs": [
    {
     "data": {
      "text/plain": "((5000, 95, 3), (5000, 95, 3))"
     },
     "execution_count": 3,
     "metadata": {},
     "output_type": "execute_result"
    }
   ],
   "source": [
    "def interpolate_strokes(strokes, target_length):\n",
    "    \"\"\"Interpolate a sequence of strokes to the target length.\"\"\"\n",
    "    current_length = len(strokes)\n",
    "    if current_length == target_length:\n",
    "        return strokes\n",
    "    \n",
    "    interpolated_strokes = np.zeros((target_length, 3), dtype=np.float32)\n",
    "    interp_indices = np.floor(np.linspace(0, current_length-1, num=target_length)).astype(int)\n",
    "    \n",
    "    for i, idx in enumerate(interp_indices):\n",
    "        interpolated_strokes[i] = strokes[idx]\n",
    "    \n",
    "    for i in range(target_length - 1):\n",
    "        if interp_indices[i] != interp_indices[i + 1]:\n",
    "            interpolated_strokes[i, 2] = strokes[interp_indices[i], 2]\n",
    "        else:\n",
    "            interpolated_strokes[i, 2] = 0\n",
    "    \n",
    "    # Ensure the last pen_state remains as the original last one\n",
    "    interpolated_strokes[-1, 2] = strokes[-1, 2]\n",
    "    \n",
    "    return interpolated_strokes\n",
    "\n",
    "def resize_and_normalize_drawings(data, size):\n",
    "    \"\"\"Resize and normalize drawing datasets.\"\"\"\n",
    "    resized_data = []\n",
    "    for drawing in data['train']:\n",
    "        resized_drawing = interpolate_strokes(drawing, size)\n",
    "        resized_data.append(resized_drawing)\n",
    "    return np.array(resized_data)\n",
    "\n",
    "resized_camera_drawings = resize_and_normalize_drawings(camera_data, size=MAX_SEQ_LENGTH)\n",
    "resized_cellphone_drawings = resize_and_normalize_drawings(cellphone_data, size=MAX_SEQ_LENGTH)\n",
    "\n",
    "\n",
    "# TODO: Limitar dataset\n",
    "resized_cellphone_drawings = resized_cellphone_drawings[:5000]\n",
    "resized_camera_drawings = resized_camera_drawings[:5000]\n",
    "\n",
    "resized_camera_drawings.shape, resized_cellphone_drawings.shape"
   ],
   "metadata": {
    "collapsed": false,
    "ExecuteTime": {
     "end_time": "2024-05-16T08:54:58.501438Z",
     "start_time": "2024-05-16T08:54:41.526423Z"
    }
   },
   "id": "e66cda42347d5270",
   "execution_count": 3
  },
  {
   "cell_type": "code",
   "outputs": [
    {
     "data": {
      "text/plain": "<Figure size 640x480 with 1 Axes>",
      "image/png": "[encoded data removed]"
     },
     "metadata": {},
     "output_type": "display_data"
    }
   ],
   "source": [
    "from matplotlib import pyplot as plt\n",
    "\n",
    "\n",
    "def draw_strokes(data):\n",
    "    \"\"\"\n",
    "    Draw stroke data from an array of (dx, dy, pen_state).\n",
    "\n",
    "    Args:\n",
    "    data (np.array): Stroke data array of shape (n, 3) where each row is (dx, dy, pen_state)\n",
    "    \"\"\"\n",
    "    # Initialize a plot\n",
    "    fig, ax = plt.subplots()\n",
    "    \n",
    "    # Starting point\n",
    "    x, y = 0, 0\n",
    "    points_x = [x]\n",
    "    points_y = [y]\n",
    "\n",
    "    # Iterate over the stroke data\n",
    "    for dx, dy, pen_state in data:\n",
    "        # Update position\n",
    "        x += dx\n",
    "        y += dy\n",
    "        points_x.append(x)\n",
    "        points_y.append(y)\n",
    "\n",
    "        # If pen_state is 1, plot the current segment and start a new one\n",
    "        if pen_state == 1:\n",
    "            ax.plot(points_x, points_y, marker='.')\n",
    "            points_x = [x]\n",
    "            points_y = [y]\n",
    "\n",
    "    # Plot the last segment\n",
    "    ax.plot(points_x, points_y, marker='.')\n",
    "\n",
    "    ax.axis('equal')\n",
    "    plt.show()\n",
    "    \n",
    "draw_strokes(resized_cellphone_drawings[0])"
   ],
   "metadata": {
    "collapsed": false,
    "ExecuteTime": {
     "end_time": "2024-05-16T08:54:58.661437Z",
     "start_time": "2024-05-16T08:54:58.502438Z"
    }
   },
   "id": "7d42ecac5b793e2f",
   "execution_count": 4
  },
  {
   "cell_type": "code",
   "outputs": [],
   "source": [
    "from sklearn.model_selection import train_test_split\n",
    "\n",
    "def prepare_train_test_datasets(camera_drawings, cellphone_drawings, test_size=0.2):\n",
    "    \"\"\"\n",
    "    Prepare training and testing datasets from the resized drawing data of cameras and cellphones.\n",
    "    \n",
    "    Args:\n",
    "    camera_drawings (np.array): Resized drawings of cameras.\n",
    "    cellphone_drawings (np.array): Resized drawings of cellphones.\n",
    "    test_size (float): The proportion of the dataset to include in the test split.\n",
    "    \n",
    "    Returns:\n",
    "    tuple: Train and test datasets containing features and labels.\n",
    "    \"\"\"\n",
    "    # Labels for the datasets\n",
    "    camera_labels = np.zeros(camera_drawings.shape[0])\n",
    "    cellphone_labels = np.ones(cellphone_drawings.shape[0])\n",
    "    \n",
    "    # Combine the drawings from both categories\n",
    "    combined_drawings = np.concatenate([camera_drawings, cellphone_drawings], axis=0)\n",
    "    combined_labels = np.concatenate([camera_labels, cellphone_labels], axis=0)\n",
    "    \n",
    "    # Split into training and testing datasets\n",
    "    X_train, X_test, y_train, y_test = train_test_split(\n",
    "        combined_drawings, combined_labels, test_size=test_size, random_state=42)\n",
    "    \n",
    "    return X_train, X_test, y_train, y_test\n",
    "\n",
    "X_train, X_test, y_train, y_test = prepare_train_test_datasets(resized_camera_drawings, resized_cellphone_drawings, test_size=0.2)"
   ],
   "metadata": {
    "collapsed": false,
    "ExecuteTime": {
     "end_time": "2024-05-16T08:54:58.898441Z",
     "start_time": "2024-05-16T08:54:58.663441Z"
    }
   },
   "id": "6020aad56ee84d09",
   "execution_count": 5
  },
  {
   "cell_type": "code",
   "outputs": [
    {
     "data": {
      "text/plain": "((8000, 95, 3), (8000,), (2000, 95, 3), (2000,))"
     },
     "execution_count": 6,
     "metadata": {},
     "output_type": "execute_result"
    }
   ],
   "source": [
    "X_train.shape, y_train.shape, X_test.shape, y_test.shape"
   ],
   "metadata": {
    "collapsed": false,
    "ExecuteTime": {
     "end_time": "2024-05-16T08:54:58.914441Z",
     "start_time": "2024-05-16T08:54:58.899441Z"
    }
   },
   "id": "9a1216a5332b763f",
   "execution_count": 6
  },
  {
   "cell_type": "code",
   "outputs": [],
   "source": [
    "from torch.utils.data import TensorDataset, DataLoader\n",
    "\n",
    "\n",
    "def convert_to_tensor_datasets(X_train, X_test, y_train, y_test):\n",
    "    \"\"\"\n",
    "    Convert numpy arrays into TensorFlow tensor datasets ready for model training.\n",
    "    \n",
    "    Args:\n",
    "    X_train (np.array): Training features.\n",
    "    X_test (np.array): Testing features.\n",
    "    y_train (np.array): Training labels.\n",
    "    y_test (np.array): Testing labels.\n",
    "    batch_size (int): Size of batches for the dataset.\n",
    "\n",
    "    Returns:\n",
    "    tuple: TensorFlow datasets for training and testing.\n",
    "    \"\"\"\n",
    "    # Convert numpy arrays to TensorFlow tensors\n",
    "    train_dataset = TensorDataset(torch.tensor(X_train).to(device), torch.tensor(y_train, dtype=torch.long).to(device))\n",
    "    test_dataset = TensorDataset(torch.tensor(X_test).to(device), torch.tensor(y_test, dtype=torch.long).to(device))\n",
    "    \n",
    "    return train_dataset, test_dataset\n",
    "\n",
    "train_dataset, test_dataset = convert_to_tensor_datasets(X_train, X_test, y_train, y_test)\n",
    "\n",
    "# Setup DataLoader\n",
    "train_loader = DataLoader(train_dataset, batch_size=BATCH_SIZE, shuffle=True)\n",
    "test_loader = DataLoader(test_dataset, batch_size=BATCH_SIZE, shuffle=False)"
   ],
   "metadata": {
    "collapsed": false,
    "ExecuteTime": {
     "end_time": "2024-05-16T08:54:59.055440Z",
     "start_time": "2024-05-16T08:54:58.916438Z"
    }
   },
   "id": "f08ca72c1b1fb327",
   "execution_count": 7
  },
  {
   "cell_type": "code",
   "outputs": [
    {
     "name": "stdout",
     "output_type": "stream",
     "text": [
      "200\n",
      "50\n"
     ]
    }
   ],
   "source": [
    "print(len(train_loader))\n",
    "print(len(test_loader))"
   ],
   "metadata": {
    "collapsed": false,
    "ExecuteTime": {
     "end_time": "2024-05-16T08:54:59.071438Z",
     "start_time": "2024-05-16T08:54:59.059443Z"
    }
   },
   "id": "e580dce6f95fda90",
   "execution_count": 8
  },
  {
   "cell_type": "markdown",
   "source": [
    "## 3. Model Building"
   ],
   "metadata": {
    "collapsed": false
   },
   "id": "736300954d6c140b"
  },
  {
   "cell_type": "markdown",
   "source": [
    "### 3.1. Quantum Layer"
   ],
   "metadata": {
    "collapsed": false
   },
   "id": "e0fbe9347ed9c2c8"
  },
  {
   "cell_type": "code",
   "outputs": [
    {
     "data": {
      "text/plain": "<Figure size 872.774x451.5 with 1 Axes>",
      "image/png": "[encoded data removed]"
     },
     "execution_count": 9,
     "metadata": {},
     "output_type": "execute_result"
    }
   ],
   "source": [
    "from qiskit_machine_learning.neural_networks import SamplerQNN\n",
    "from qiskit import QuantumCircuit\n",
    "from qiskit.circuit import ParameterVector\n",
    "\n",
    "\n",
    "def quantum_feature_map(n: int) -> QuantumCircuit:\n",
    "    circuit = QuantumCircuit(n)\n",
    "    features = ParameterVector(\"x\", n)\n",
    "    \n",
    "    for i in range(n):\n",
    "        circuit.rx(features[i], i)\n",
    "    \n",
    "    return circuit\n",
    "    \n",
    "def quantum_ansatz(n: int) -> QuantumCircuit:\n",
    "    # Creamos un circuito cuántico con n qubits.\n",
    "    circuit = QuantumCircuit(n)\n",
    "    weights = ParameterVector(\"w\", n * 3)\n",
    "    \n",
    "    # Asumiendo que 'weights' es una lista de valores de peso,\n",
    "    # y la longitud es suficiente para aplicar Rz a cada qubit.\n",
    "    for i in range(n):\n",
    "        circuit.rz(weights[i], i)\n",
    "        \n",
    "    # Aplicar más rotaciones, que en la imagen parecen ser Ry\n",
    "    for i in range(n):\n",
    "        circuit.ry(weights[n+i], i)\n",
    "        \n",
    "    for i in range(n):\n",
    "        circuit.rz(weights[2*n+i], i)\n",
    "        \n",
    "    # Aplicar entrelazamiento con puertas CNOT\n",
    "    for i in range(n-1):\n",
    "        circuit.cx(i, i+1)\n",
    "    circuit.cx(n-1, 0)\n",
    "    \n",
    "    return circuit\n",
    "\n",
    "# Define and create QNN\n",
    "def create_qnn(n):\n",
    "    feature_map = quantum_feature_map(n)\n",
    "    ansatz = quantum_ansatz(n)\n",
    "    \n",
    "    qc = QuantumCircuit(n)\n",
    "    qc.compose(feature_map, inplace=True)\n",
    "    qc.compose(ansatz, inplace=True)\n",
    "\n",
    "    # REMEMBER TO SET input_gradients=True FOR ENABLING HYBRID GRADIENT BACKPROP\n",
    "    qnn = SamplerQNN (\n",
    "        circuit=qc,\n",
    "        input_params=feature_map.parameters,\n",
    "        weight_params=ansatz.parameters,\n",
    "        input_gradients=True,\n",
    "    )\n",
    "    return qnn, qc\n",
    "\n",
    "qnn, qc = create_qnn(5)\n",
    "qc.draw(\"mpl\")"
   ],
   "metadata": {
    "collapsed": false,
    "ExecuteTime": {
     "end_time": "2024-05-16T08:55:00.643440Z",
     "start_time": "2024-05-16T08:54:59.073440Z"
    }
   },
   "id": "f3d980584768d91",
   "execution_count": 9
  },
  {
   "cell_type": "markdown",
   "source": [
    "### 3.2. Hybrid Neural Network"
   ],
   "metadata": {
    "collapsed": false
   },
   "id": "e2b6cd9b5fb141ad"
  },
  {
   "cell_type": "code",
   "outputs": [],
   "source": [
    "import torch\n",
    "import torch.nn as nn\n",
    "import torch.nn.functional as F\n",
    "import torch.optim as optim\n",
    "\n",
    "from qiskit_machine_learning.connectors import TorchConnector\n",
    "\n",
    "class HybridNN(nn.Module):\n",
    "    def __init__(self, input_shape, num_categories, n_qubits=5, fname=None):\n",
    "        super(HybridNN, self).__init__()\n",
    "        self.num_categories = num_categories\n",
    "        \n",
    "        # Convolutional layers\n",
    "        self.conv1 = nn.Conv1d(in_channels=input_shape[1], out_channels=16, kernel_size=4)\n",
    "        self.bn1 = nn.BatchNorm1d(num_features=16)\n",
    "        self.pool1 = nn.AvgPool1d(kernel_size=2)\n",
    "        \n",
    "        self.conv2 = nn.Conv1d(in_channels=16, out_channels=32, kernel_size=5)\n",
    "        self.bn2 = nn.BatchNorm1d(num_features=32)\n",
    "        self.pool2 = nn.AvgPool1d(kernel_size=2)\n",
    "        \n",
    "        self.conv3 = nn.Conv1d(in_channels=32, out_channels=64, kernel_size=3)\n",
    "        self.bn3 = nn.BatchNorm1d(num_features=64)\n",
    "        self.pool3 = nn.AvgPool1d(kernel_size=2)\n",
    "        \n",
    "        self.conv4 = nn.Conv1d(in_channels=64, out_channels=128, kernel_size=3)\n",
    "        self.bn4 = nn.BatchNorm1d(num_features=128)\n",
    "        self.pool4 = nn.AvgPool1d(kernel_size=2)\n",
    "\n",
    "        # LSTM layers\n",
    "        self.lstm1 = nn.LSTM(input_size=128, hidden_size=128, batch_first=True)\n",
    "        self.lstm2 = nn.LSTM(input_size=128, hidden_size=128, batch_first=True)\n",
    "        \n",
    "        self.pool5 = nn.AvgPool1d(kernel_size=2)\n",
    "        \n",
    "        # Dense layers\n",
    "        self.fc1 = nn.Linear(64, 64)\n",
    "        self.fc2 = nn.Linear(64, 64)\n",
    "        \n",
    "        # Quantum layer\n",
    "        self.fc3 = nn.Linear(64, n_qubits)\n",
    "        self.qnn = TorchConnector(create_qnn(n_qubits)[0])\n",
    "        \n",
    "        # Dense layer for classification\n",
    "        self.fc4 = nn.Linear(2**n_qubits, num_categories)\n",
    "        \n",
    "        # Load pre-trained weights\n",
    "        if fname:\n",
    "            self.load_state_dict(torch.load(fname))\n",
    "\n",
    "    def forward(self, x):\n",
    "        x = x.permute(0, 2, 1)\n",
    "        \n",
    "        # Convolutional layers\n",
    "        x = F.relu(self.bn1(self.conv1(x)))\n",
    "        x = self.pool1(x)\n",
    "        \n",
    "        x = F.relu(self.bn2(self.conv2(x)))\n",
    "        x = self.pool2(x)\n",
    "        \n",
    "        x = F.relu(self.bn3(self.conv3(x)))\n",
    "        x = self.pool3(x)\n",
    "        \n",
    "        x = F.relu(self.bn4(self.conv4(x)))\n",
    "        x = self.pool4(x)\n",
    "\n",
    "        # Reshape for LSTM\n",
    "        x = x.permute(0, 2, 1)\n",
    "        x, _ = self.lstm1(x)\n",
    "        x, _ = self.lstm2(x)\n",
    "        x = x[:, -1, :]\n",
    "\n",
    "        # Pool layer\n",
    "        x = self.pool5(x)\n",
    "        \n",
    "        # Flatten the output for dense layer\n",
    "        x = torch.flatten(x, 1)\n",
    "        \n",
    "        # Dense layers\n",
    "        x = F.relu(self.fc1(x))\n",
    "        x = F.relu(self.fc2(x))\n",
    "        \n",
    "        # Quantum layer\n",
    "        x = F.relu(self.fc3(x))\n",
    "        x = self.qnn(x)\n",
    "        \n",
    "        # Dense layer for classification\n",
    "        x = F.relu(self.fc4(x))\n",
    "        return x\n",
    "\n",
    "    def predict(self, x):\n",
    "        self.eval()\n",
    "        with torch.no_grad():\n",
    "            x = torch.tensor(x, dtype=torch.float32)\n",
    "            prediction = self.forward(x)\n",
    "        return prediction.numpy()"
   ],
   "metadata": {
    "collapsed": false,
    "ExecuteTime": {
     "end_time": "2024-05-16T08:55:00.673437Z",
     "start_time": "2024-05-16T08:55:00.645440Z"
    }
   },
   "id": "49624a778b84529c",
   "execution_count": 10
  },
  {
   "cell_type": "markdown",
   "source": [
    "## 4. Training the Model"
   ],
   "metadata": {
    "collapsed": false
   },
   "id": "b7fb9e3bc8e4a44f"
  },
  {
   "cell_type": "code",
   "outputs": [],
   "source": [
    "checkpoint_filepath = 'models/2edition_quantum_lstm/best_model_weights.pth'"
   ],
   "metadata": {
    "collapsed": false,
    "ExecuteTime": {
     "end_time": "2024-05-16T08:55:00.689439Z",
     "start_time": "2024-05-16T08:55:00.674438Z"
    }
   },
   "id": "a033adbcc37ca961",
   "execution_count": 11
  },
  {
   "cell_type": "code",
   "outputs": [
    {
     "name": "stderr",
     "output_type": "stream",
     "text": [
      "100%|██████████| 200/200 [07:32<00:00,  2.26s/it]\n"
     ]
    },
    {
     "name": "stdout",
     "output_type": "stream",
     "text": [
      "Epoch 1, Accuracy: 0.759625, Loss: 0.6490708702802658, Validation Accuracy: 0.831, Validation Loss: 0.6378693580627441\n"
     ]
    },
    {
     "name": "stderr",
     "output_type": "stream",
     "text": [
      "100%|██████████| 200/200 [07:27<00:00,  2.24s/it]\n"
     ]
    },
    {
     "name": "stdout",
     "output_type": "stream",
     "text": [
      "Epoch 2, Accuracy: 0.831375, Loss: 0.5826811653375625, Validation Accuracy: 0.955, Validation Loss: 0.5550097823143005\n"
     ]
    },
    {
     "name": "stderr",
     "output_type": "stream",
     "text": [
      "100%|██████████| 200/200 [07:25<00:00,  2.23s/it]\n"
     ]
    },
    {
     "name": "stdout",
     "output_type": "stream",
     "text": [
      "Epoch 3, Accuracy: 0.855, Loss: 0.5368579970300198, Validation Accuracy: 0.926, Validation Loss: 0.5325438976287842\n"
     ]
    },
    {
     "name": "stderr",
     "output_type": "stream",
     "text": [
      "100%|██████████| 200/200 [07:18<00:00,  2.19s/it]\n"
     ]
    },
    {
     "name": "stdout",
     "output_type": "stream",
     "text": [
      "Epoch 4, Accuracy: 0.874625, Loss: 0.5058306595683097, Validation Accuracy: 0.876, Validation Loss: 0.501969575881958\n"
     ]
    },
    {
     "name": "stderr",
     "output_type": "stream",
     "text": [
      "100%|██████████| 200/200 [07:07<00:00,  2.14s/it]\n"
     ]
    },
    {
     "name": "stdout",
     "output_type": "stream",
     "text": [
      "Epoch 5, Accuracy: 0.882125, Loss: 0.48539565488696096, Validation Accuracy: 0.904, Validation Loss: 0.5009397268295288\n"
     ]
    },
    {
     "name": "stderr",
     "output_type": "stream",
     "text": [
      "100%|██████████| 200/200 [07:00<00:00,  2.10s/it]\n"
     ]
    },
    {
     "name": "stdout",
     "output_type": "stream",
     "text": [
      "Epoch 6, Accuracy: 0.897, Loss: 0.4705350460112095, Validation Accuracy: 0.9475, Validation Loss: 0.46581578254699707\n"
     ]
    },
    {
     "name": "stderr",
     "output_type": "stream",
     "text": [
      "100%|██████████| 200/200 [07:02<00:00,  2.11s/it]\n"
     ]
    },
    {
     "name": "stdout",
     "output_type": "stream",
     "text": [
      "Epoch 7, Accuracy: 0.90575, Loss: 0.4508393079042435, Validation Accuracy: 0.9705, Validation Loss: 0.4396044611930847\n"
     ]
    },
    {
     "name": "stderr",
     "output_type": "stream",
     "text": [
      "100%|██████████| 200/200 [06:50<00:00,  2.05s/it]\n"
     ]
    },
    {
     "name": "stdout",
     "output_type": "stream",
     "text": [
      "Epoch 8, Accuracy: 0.923875, Loss: 0.4362569400668144, Validation Accuracy: 0.946, Validation Loss: 0.43309637904167175\n"
     ]
    },
    {
     "name": "stderr",
     "output_type": "stream",
     "text": [
      "100%|██████████| 200/200 [06:51<00:00,  2.06s/it]\n"
     ]
    },
    {
     "name": "stdout",
     "output_type": "stream",
     "text": [
      "Epoch 9, Accuracy: 0.929625, Loss: 0.42778494730591776, Validation Accuracy: 0.9385, Validation Loss: 0.4375241994857788\n"
     ]
    },
    {
     "name": "stderr",
     "output_type": "stream",
     "text": [
      "100%|██████████| 200/200 [06:59<00:00,  2.10s/it]\n"
     ]
    },
    {
     "name": "stdout",
     "output_type": "stream",
     "text": [
      "Epoch 10, Accuracy: 0.942875, Loss: 0.41786366313695905, Validation Accuracy: 0.9795, Validation Loss: 0.41376790404319763\n"
     ]
    },
    {
     "name": "stderr",
     "output_type": "stream",
     "text": [
      "100%|██████████| 200/200 [07:50<00:00,  2.35s/it]\n"
     ]
    },
    {
     "name": "stdout",
     "output_type": "stream",
     "text": [
      "Epoch 11, Accuracy: 0.942625, Loss: 0.4112245756387711, Validation Accuracy: 0.639, Validation Loss: 0.4034059941768646\n"
     ]
    },
    {
     "name": "stderr",
     "output_type": "stream",
     "text": [
      "100%|██████████| 200/200 [07:07<00:00,  2.14s/it]\n"
     ]
    },
    {
     "name": "stdout",
     "output_type": "stream",
     "text": [
      "Epoch 12, Accuracy: 0.940875, Loss: 0.40739042475819587, Validation Accuracy: 0.9735, Validation Loss: 0.40710094571113586\n"
     ]
    },
    {
     "name": "stderr",
     "output_type": "stream",
     "text": [
      "100%|██████████| 200/200 [07:19<00:00,  2.20s/it]\n"
     ]
    },
    {
     "name": "stdout",
     "output_type": "stream",
     "text": [
      "Epoch 13, Accuracy: 0.95625, Loss: 0.3994977295398712, Validation Accuracy: 0.8555, Validation Loss: 0.407858669757843\n"
     ]
    },
    {
     "name": "stderr",
     "output_type": "stream",
     "text": [
      "100%|██████████| 200/200 [07:13<00:00,  2.17s/it]\n"
     ]
    },
    {
     "name": "stdout",
     "output_type": "stream",
     "text": [
      "Epoch 14, Accuracy: 0.9625, Loss: 0.39578219547867777, Validation Accuracy: 0.9775, Validation Loss: 0.3993125259876251\n"
     ]
    },
    {
     "name": "stderr",
     "output_type": "stream",
     "text": [
      "100%|██████████| 200/200 [07:03<00:00,  2.12s/it]\n"
     ]
    },
    {
     "name": "stdout",
     "output_type": "stream",
     "text": [
      "Epoch 15, Accuracy: 0.955125, Loss: 0.39253208830952646, Validation Accuracy: 0.98, Validation Loss: 0.3925868570804596\n"
     ]
    },
    {
     "name": "stderr",
     "output_type": "stream",
     "text": [
      "100%|██████████| 200/200 [06:57<00:00,  2.09s/it]\n"
     ]
    },
    {
     "name": "stdout",
     "output_type": "stream",
     "text": [
      "Epoch 16, Accuracy: 0.958875, Loss: 0.38771184399724007, Validation Accuracy: 0.9735, Validation Loss: 0.39714837074279785\n"
     ]
    },
    {
     "name": "stderr",
     "output_type": "stream",
     "text": [
      "100%|██████████| 200/200 [07:13<00:00,  2.17s/it]\n"
     ]
    },
    {
     "name": "stdout",
     "output_type": "stream",
     "text": [
      "Epoch 17, Accuracy: 0.974, Loss: 0.38480728939175607, Validation Accuracy: 0.9825, Validation Loss: 0.38646262884140015\n"
     ]
    },
    {
     "name": "stderr",
     "output_type": "stream",
     "text": [
      "100%|██████████| 200/200 [07:16<00:00,  2.18s/it]\n"
     ]
    },
    {
     "name": "stdout",
     "output_type": "stream",
     "text": [
      "Epoch 18, Accuracy: 0.969875, Loss: 0.37955149114131925, Validation Accuracy: 0.984, Validation Loss: 0.3832789957523346\n"
     ]
    },
    {
     "name": "stderr",
     "output_type": "stream",
     "text": [
      "100%|██████████| 200/200 [07:10<00:00,  2.15s/it]\n"
     ]
    },
    {
     "name": "stdout",
     "output_type": "stream",
     "text": [
      "Epoch 19, Accuracy: 0.96, Loss: 0.3834020881354809, Validation Accuracy: 0.9775, Validation Loss: 0.38923150300979614\n"
     ]
    },
    {
     "name": "stderr",
     "output_type": "stream",
     "text": [
      "100%|██████████| 200/200 [07:17<00:00,  2.19s/it]\n"
     ]
    },
    {
     "name": "stdout",
     "output_type": "stream",
     "text": [
      "Epoch 20, Accuracy: 0.978125, Loss: 0.37934564739465715, Validation Accuracy: 0.981, Validation Loss: 0.38361790776252747\n"
     ]
    },
    {
     "name": "stderr",
     "output_type": "stream",
     "text": [
      "100%|██████████| 200/200 [07:12<00:00,  2.16s/it]\n"
     ]
    },
    {
     "name": "stdout",
     "output_type": "stream",
     "text": [
      "Epoch 21, Accuracy: 0.9775, Loss: 0.3758457265794277, Validation Accuracy: 0.984, Validation Loss: 0.3839958608150482\n"
     ]
    },
    {
     "name": "stderr",
     "output_type": "stream",
     "text": [
      "100%|██████████| 200/200 [07:08<00:00,  2.14s/it]\n"
     ]
    },
    {
     "name": "stdout",
     "output_type": "stream",
     "text": [
      "Epoch 22, Accuracy: 0.970375, Loss: 0.3754356721043587, Validation Accuracy: 0.9825, Validation Loss: 0.3827863037586212\n"
     ]
    },
    {
     "name": "stderr",
     "output_type": "stream",
     "text": [
      "100%|██████████| 200/200 [07:14<00:00,  2.17s/it]\n"
     ]
    },
    {
     "name": "stdout",
     "output_type": "stream",
     "text": [
      "Epoch 23, Accuracy: 0.97725, Loss: 0.3765769051015377, Validation Accuracy: 0.979, Validation Loss: 0.38442909717559814\n"
     ]
    },
    {
     "name": "stderr",
     "output_type": "stream",
     "text": [
      "100%|██████████| 200/200 [07:17<00:00,  2.19s/it]\n"
     ]
    },
    {
     "name": "stdout",
     "output_type": "stream",
     "text": [
      "Epoch 24, Accuracy: 0.965625, Loss: 0.3727046862244606, Validation Accuracy: 0.9805, Validation Loss: 0.38225966691970825\n"
     ]
    },
    {
     "name": "stderr",
     "output_type": "stream",
     "text": [
      "100%|██████████| 200/200 [07:08<00:00,  2.14s/it]\n"
     ]
    },
    {
     "name": "stdout",
     "output_type": "stream",
     "text": [
      "Epoch 25, Accuracy: 0.98675, Loss: 0.3662167662382126, Validation Accuracy: 0.984, Validation Loss: 0.38069331645965576\n"
     ]
    },
    {
     "name": "stderr",
     "output_type": "stream",
     "text": [
      "100%|██████████| 200/200 [07:10<00:00,  2.15s/it]\n"
     ]
    },
    {
     "name": "stdout",
     "output_type": "stream",
     "text": [
      "Epoch 26, Accuracy: 0.985375, Loss: 0.3669137775152922, Validation Accuracy: 0.983, Validation Loss: 0.379586786031723\n"
     ]
    },
    {
     "name": "stderr",
     "output_type": "stream",
     "text": [
      "100%|██████████| 200/200 [07:12<00:00,  2.16s/it]\n"
     ]
    },
    {
     "name": "stdout",
     "output_type": "stream",
     "text": [
      "Epoch 27, Accuracy: 0.972375, Loss: 0.3717459350824356, Validation Accuracy: 0.986, Validation Loss: 0.3776218295097351\n"
     ]
    },
    {
     "name": "stderr",
     "output_type": "stream",
     "text": [
      "100%|██████████| 200/200 [07:13<00:00,  2.17s/it]\n"
     ]
    },
    {
     "name": "stdout",
     "output_type": "stream",
     "text": [
      "Epoch 28, Accuracy: 0.983375, Loss: 0.367016663402319, Validation Accuracy: 0.9845, Validation Loss: 0.3773273527622223\n"
     ]
    },
    {
     "name": "stderr",
     "output_type": "stream",
     "text": [
      "100%|██████████| 200/200 [07:06<00:00,  2.13s/it]\n"
     ]
    },
    {
     "name": "stdout",
     "output_type": "stream",
     "text": [
      "Epoch 29, Accuracy: 0.978875, Loss: 0.36932356260716914, Validation Accuracy: 0.985, Validation Loss: 0.38427460193634033\n"
     ]
    },
    {
     "name": "stderr",
     "output_type": "stream",
     "text": [
      "100%|██████████| 200/200 [07:11<00:00,  2.16s/it]\n"
     ]
    },
    {
     "name": "stdout",
     "output_type": "stream",
     "text": [
      "Epoch 30, Accuracy: 0.984375, Loss: 0.36714209012687204, Validation Accuracy: 0.9805, Validation Loss: 0.3773318827152252\n"
     ]
    },
    {
     "name": "stderr",
     "output_type": "stream",
     "text": [
      "100%|██████████| 200/200 [07:13<00:00,  2.17s/it]\n"
     ]
    },
    {
     "name": "stdout",
     "output_type": "stream",
     "text": [
      "Epoch 31, Accuracy: 0.98775, Loss: 0.3630670250207186, Validation Accuracy: 0.9825, Validation Loss: 0.37538135051727295\n"
     ]
    },
    {
     "name": "stderr",
     "output_type": "stream",
     "text": [
      "100%|██████████| 200/200 [07:08<00:00,  2.14s/it]\n"
     ]
    },
    {
     "name": "stdout",
     "output_type": "stream",
     "text": [
      "Epoch 32, Accuracy: 0.9725, Loss: 0.36582823351025584, Validation Accuracy: 0.984, Validation Loss: 0.3812592625617981\n"
     ]
    },
    {
     "name": "stderr",
     "output_type": "stream",
     "text": [
      "100%|██████████| 200/200 [07:18<00:00,  2.19s/it]\n"
     ]
    },
    {
     "name": "stdout",
     "output_type": "stream",
     "text": [
      "Epoch 33, Accuracy: 0.97875, Loss: 0.36357831381261346, Validation Accuracy: 0.9855, Validation Loss: 0.37398868799209595\n"
     ]
    },
    {
     "name": "stderr",
     "output_type": "stream",
     "text": [
      "100%|██████████| 200/200 [07:27<00:00,  2.24s/it]\n"
     ]
    },
    {
     "name": "stdout",
     "output_type": "stream",
     "text": [
      "Epoch 34, Accuracy: 0.989125, Loss: 0.36119733907282353, Validation Accuracy: 0.981, Validation Loss: 0.37773510813713074\n"
     ]
    },
    {
     "name": "stderr",
     "output_type": "stream",
     "text": [
      "100%|██████████| 200/200 [07:24<00:00,  2.22s/it]\n"
     ]
    },
    {
     "name": "stdout",
     "output_type": "stream",
     "text": [
      "Epoch 35, Accuracy: 0.987125, Loss: 0.36216080173850057, Validation Accuracy: 0.978, Validation Loss: 0.3942742943763733\n"
     ]
    },
    {
     "name": "stderr",
     "output_type": "stream",
     "text": [
      "100%|██████████| 200/200 [07:08<00:00,  2.14s/it]\n"
     ]
    },
    {
     "name": "stdout",
     "output_type": "stream",
     "text": [
      "Epoch 36, Accuracy: 0.98075, Loss: 0.36032729744911196, Validation Accuracy: 0.9835, Validation Loss: 0.37912222743034363\n"
     ]
    },
    {
     "name": "stderr",
     "output_type": "stream",
     "text": [
      "100%|██████████| 200/200 [07:19<00:00,  2.20s/it]\n"
     ]
    },
    {
     "name": "stdout",
     "output_type": "stream",
     "text": [
      "Epoch 37, Accuracy: 0.990125, Loss: 0.3593886135518551, Validation Accuracy: 0.9825, Validation Loss: 0.38043105602264404\n"
     ]
    },
    {
     "name": "stderr",
     "output_type": "stream",
     "text": [
      "100%|██████████| 200/200 [07:23<00:00,  2.22s/it]\n"
     ]
    },
    {
     "name": "stdout",
     "output_type": "stream",
     "text": [
      "Epoch 38, Accuracy: 0.98975, Loss: 0.3580567090958357, Validation Accuracy: 0.9805, Validation Loss: 0.3781035244464874\n"
     ]
    },
    {
     "name": "stderr",
     "output_type": "stream",
     "text": [
      "100%|██████████| 200/200 [07:02<00:00,  2.11s/it]\n"
     ]
    },
    {
     "name": "stdout",
     "output_type": "stream",
     "text": [
      "Epoch 39, Accuracy: 0.990125, Loss: 0.35806791603565213, Validation Accuracy: 0.984, Validation Loss: 0.378797709941864\n"
     ]
    },
    {
     "name": "stderr",
     "output_type": "stream",
     "text": [
      "100%|██████████| 200/200 [06:47<00:00,  2.04s/it]\n"
     ]
    },
    {
     "name": "stdout",
     "output_type": "stream",
     "text": [
      "Epoch 40, Accuracy: 0.989, Loss: 0.35943928934633734, Validation Accuracy: 0.9725, Validation Loss: 0.40430065989494324\n"
     ]
    },
    {
     "name": "stderr",
     "output_type": "stream",
     "text": [
      "100%|██████████| 200/200 [06:40<00:00,  2.00s/it]\n"
     ]
    },
    {
     "name": "stdout",
     "output_type": "stream",
     "text": [
      "Epoch 41, Accuracy: 0.981625, Loss: 0.36573021426796914, Validation Accuracy: 0.986, Validation Loss: 0.371805876493454\n"
     ]
    },
    {
     "name": "stderr",
     "output_type": "stream",
     "text": [
      "100%|██████████| 200/200 [06:40<00:00,  2.00s/it]\n"
     ]
    },
    {
     "name": "stdout",
     "output_type": "stream",
     "text": [
      "Epoch 42, Accuracy: 0.985625, Loss: 0.35790147304534914, Validation Accuracy: 0.977, Validation Loss: 0.3888605237007141\n"
     ]
    },
    {
     "name": "stderr",
     "output_type": "stream",
     "text": [
      "100%|██████████| 200/200 [06:41<00:00,  2.01s/it]\n"
     ]
    },
    {
     "name": "stdout",
     "output_type": "stream",
     "text": [
      "Epoch 43, Accuracy: 0.99175, Loss: 0.35644842736423016, Validation Accuracy: 0.9845, Validation Loss: 0.37586113810539246\n"
     ]
    },
    {
     "name": "stderr",
     "output_type": "stream",
     "text": [
      "100%|██████████| 200/200 [06:38<00:00,  1.99s/it]\n"
     ]
    },
    {
     "name": "stdout",
     "output_type": "stream",
     "text": [
      "Epoch 44, Accuracy: 0.991375, Loss: 0.35608062528073786, Validation Accuracy: 0.9875, Validation Loss: 0.3753020465373993\n"
     ]
    },
    {
     "name": "stderr",
     "output_type": "stream",
     "text": [
      "100%|██████████| 200/200 [06:39<00:00,  2.00s/it]\n"
     ]
    },
    {
     "name": "stdout",
     "output_type": "stream",
     "text": [
      "Epoch 45, Accuracy: 0.98725, Loss: 0.35662114061415195, Validation Accuracy: 0.9835, Validation Loss: 0.37185269594192505\n"
     ]
    },
    {
     "name": "stderr",
     "output_type": "stream",
     "text": [
      "100%|██████████| 200/200 [06:40<00:00,  2.00s/it]\n"
     ]
    },
    {
     "name": "stdout",
     "output_type": "stream",
     "text": [
      "Epoch 46, Accuracy: 0.985125, Loss: 0.357231772467494, Validation Accuracy: 0.987, Validation Loss: 0.37392672896385193\n"
     ]
    },
    {
     "name": "stderr",
     "output_type": "stream",
     "text": [
      "100%|██████████| 200/200 [06:39<00:00,  2.00s/it]\n"
     ]
    },
    {
     "name": "stdout",
     "output_type": "stream",
     "text": [
      "Epoch 47, Accuracy: 0.992125, Loss: 0.35423752538859843, Validation Accuracy: 0.986, Validation Loss: 0.3739265203475952\n"
     ]
    },
    {
     "name": "stderr",
     "output_type": "stream",
     "text": [
      "100%|██████████| 200/200 [06:40<00:00,  2.00s/it]\n"
     ]
    },
    {
     "name": "stdout",
     "output_type": "stream",
     "text": [
      "Epoch 48, Accuracy: 0.984625, Loss: 0.36403417073190214, Validation Accuracy: 0.9755, Validation Loss: 0.3783635199069977\n"
     ]
    },
    {
     "name": "stderr",
     "output_type": "stream",
     "text": [
      "100%|██████████| 200/200 [06:41<00:00,  2.01s/it]\n"
     ]
    },
    {
     "name": "stdout",
     "output_type": "stream",
     "text": [
      "Epoch 49, Accuracy: 0.990125, Loss: 0.35880510076880456, Validation Accuracy: 0.976, Validation Loss: 0.3904263973236084\n"
     ]
    },
    {
     "name": "stderr",
     "output_type": "stream",
     "text": [
      "100%|██████████| 200/200 [06:40<00:00,  2.00s/it]\n"
     ]
    },
    {
     "name": "stdout",
     "output_type": "stream",
     "text": [
      "Epoch 50, Accuracy: 0.992375, Loss: 0.35411000773310664, Validation Accuracy: 0.9865, Validation Loss: 0.3730098009109497\n"
     ]
    },
    {
     "name": "stderr",
     "output_type": "stream",
     "text": [
      "100%|██████████| 200/200 [06:40<00:00,  2.00s/it]\n"
     ]
    },
    {
     "name": "stdout",
     "output_type": "stream",
     "text": [
      "Epoch 51, Accuracy: 0.98525, Loss: 0.3548852367699146, Validation Accuracy: 0.986, Validation Loss: 0.37594008445739746\n"
     ]
    },
    {
     "name": "stderr",
     "output_type": "stream",
     "text": [
      "100%|██████████| 200/200 [06:45<00:00,  2.03s/it]\n"
     ]
    },
    {
     "name": "stdout",
     "output_type": "stream",
     "text": [
      "Epoch 52, Accuracy: 0.986625, Loss: 0.35650342993438244, Validation Accuracy: 0.984, Validation Loss: 0.3747142553329468\n"
     ]
    },
    {
     "name": "stderr",
     "output_type": "stream",
     "text": [
      "100%|██████████| 200/200 [06:49<00:00,  2.05s/it]\n"
     ]
    },
    {
     "name": "stdout",
     "output_type": "stream",
     "text": [
      "Epoch 53, Accuracy: 0.98275, Loss: 0.35963030748069286, Validation Accuracy: 0.985, Validation Loss: 0.3685956299304962\n"
     ]
    },
    {
     "name": "stderr",
     "output_type": "stream",
     "text": [
      "100%|██████████| 200/200 [06:43<00:00,  2.02s/it]\n"
     ]
    },
    {
     "name": "stdout",
     "output_type": "stream",
     "text": [
      "Epoch 54, Accuracy: 0.992375, Loss: 0.3555419211089611, Validation Accuracy: 0.987, Validation Loss: 0.3807637393474579\n"
     ]
    },
    {
     "name": "stderr",
     "output_type": "stream",
     "text": [
      "100%|██████████| 200/200 [06:40<00:00,  2.00s/it]\n"
     ]
    },
    {
     "name": "stdout",
     "output_type": "stream",
     "text": [
      "Epoch 55, Accuracy: 0.99425, Loss: 0.3548759254813194, Validation Accuracy: 0.98, Validation Loss: 0.3790193200111389\n"
     ]
    },
    {
     "name": "stderr",
     "output_type": "stream",
     "text": [
      "100%|██████████| 200/200 [06:40<00:00,  2.00s/it]\n"
     ]
    },
    {
     "name": "stdout",
     "output_type": "stream",
     "text": [
      "Epoch 56, Accuracy: 0.984875, Loss: 0.35878902599215506, Validation Accuracy: 0.973, Validation Loss: 0.37703487277030945\n"
     ]
    },
    {
     "name": "stderr",
     "output_type": "stream",
     "text": [
      "100%|██████████| 200/200 [06:43<00:00,  2.02s/it]\n"
     ]
    },
    {
     "name": "stdout",
     "output_type": "stream",
     "text": [
      "Epoch 57, Accuracy: 0.987875, Loss: 0.3589758649468422, Validation Accuracy: 0.981, Validation Loss: 0.37797603011131287\n"
     ]
    },
    {
     "name": "stderr",
     "output_type": "stream",
     "text": [
      "100%|██████████| 200/200 [06:40<00:00,  2.00s/it]\n"
     ]
    },
    {
     "name": "stdout",
     "output_type": "stream",
     "text": [
      "Epoch 58, Accuracy: 0.994, Loss: 0.3543135718256235, Validation Accuracy: 0.985, Validation Loss: 0.38576048612594604\n"
     ]
    },
    {
     "name": "stderr",
     "output_type": "stream",
     "text": [
      "100%|██████████| 200/200 [06:40<00:00,  2.00s/it]\n"
     ]
    },
    {
     "name": "stdout",
     "output_type": "stream",
     "text": [
      "Epoch 59, Accuracy: 0.990625, Loss: 0.3576502671837807, Validation Accuracy: 0.9875, Validation Loss: 0.37450242042541504\n"
     ]
    },
    {
     "name": "stderr",
     "output_type": "stream",
     "text": [
      "100%|██████████| 200/200 [06:44<00:00,  2.02s/it]\n"
     ]
    },
    {
     "name": "stdout",
     "output_type": "stream",
     "text": [
      "Epoch 60, Accuracy: 0.987375, Loss: 0.35807857125997544, Validation Accuracy: 0.9865, Validation Loss: 0.3744805157184601\n"
     ]
    },
    {
     "name": "stderr",
     "output_type": "stream",
     "text": [
      "100%|██████████| 200/200 [06:45<00:00,  2.03s/it]\n"
     ]
    },
    {
     "name": "stdout",
     "output_type": "stream",
     "text": [
      "Epoch 61, Accuracy: 0.994375, Loss: 0.3529212663322687, Validation Accuracy: 0.9875, Validation Loss: 0.3901756703853607\n"
     ]
    },
    {
     "name": "stderr",
     "output_type": "stream",
     "text": [
      "100%|██████████| 200/200 [06:42<00:00,  2.01s/it]\n"
     ]
    },
    {
     "name": "stdout",
     "output_type": "stream",
     "text": [
      "Epoch 62, Accuracy: 0.993375, Loss: 0.3540061839669943, Validation Accuracy: 0.9845, Validation Loss: 0.3753163516521454\n"
     ]
    },
    {
     "name": "stderr",
     "output_type": "stream",
     "text": [
      "100%|██████████| 200/200 [06:41<00:00,  2.01s/it]\n"
     ]
    },
    {
     "name": "stdout",
     "output_type": "stream",
     "text": [
      "Epoch 63, Accuracy: 0.987625, Loss: 0.35763234972953795, Validation Accuracy: 0.9775, Validation Loss: 0.3837772607803345\n"
     ]
    },
    {
     "name": "stderr",
     "output_type": "stream",
     "text": [
      "100%|██████████| 200/200 [06:47<00:00,  2.04s/it]\n"
     ]
    },
    {
     "name": "stdout",
     "output_type": "stream",
     "text": [
      "Epoch 64, Accuracy: 0.991, Loss: 0.3557521352916956, Validation Accuracy: 0.984, Validation Loss: 0.3754477798938751\n"
     ]
    },
    {
     "name": "stderr",
     "output_type": "stream",
     "text": [
      "100%|██████████| 200/200 [06:42<00:00,  2.01s/it]\n"
     ]
    },
    {
     "name": "stdout",
     "output_type": "stream",
     "text": [
      "Epoch 65, Accuracy: 0.99275, Loss: 0.3557606068253517, Validation Accuracy: 0.9835, Validation Loss: 0.3730381429195404\n"
     ]
    },
    {
     "name": "stderr",
     "output_type": "stream",
     "text": [
      "100%|██████████| 200/200 [06:40<00:00,  2.00s/it]\n"
     ]
    },
    {
     "name": "stdout",
     "output_type": "stream",
     "text": [
      "Epoch 66, Accuracy: 0.993, Loss: 0.35386064447462556, Validation Accuracy: 0.986, Validation Loss: 0.3798399269580841\n"
     ]
    },
    {
     "name": "stderr",
     "output_type": "stream",
     "text": [
      "100%|██████████| 200/200 [06:42<00:00,  2.01s/it]\n"
     ]
    },
    {
     "name": "stdout",
     "output_type": "stream",
     "text": [
      "Epoch 67, Accuracy: 0.99625, Loss: 0.3508668827265501, Validation Accuracy: 0.9865, Validation Loss: 0.37948572635650635\n"
     ]
    },
    {
     "name": "stderr",
     "output_type": "stream",
     "text": [
      "100%|██████████| 200/200 [06:39<00:00,  2.00s/it]\n"
     ]
    },
    {
     "name": "stdout",
     "output_type": "stream",
     "text": [
      "Epoch 68, Accuracy: 0.98775, Loss: 0.3535977375507355, Validation Accuracy: 0.987, Validation Loss: 0.3778475522994995\n"
     ]
    },
    {
     "name": "stderr",
     "output_type": "stream",
     "text": [
      "100%|██████████| 200/200 [06:40<00:00,  2.00s/it]\n"
     ]
    },
    {
     "name": "stdout",
     "output_type": "stream",
     "text": [
      "Epoch 69, Accuracy: 0.99525, Loss: 0.3514688308537006, Validation Accuracy: 0.9855, Validation Loss: 0.3922732472419739\n"
     ]
    },
    {
     "name": "stderr",
     "output_type": "stream",
     "text": [
      "100%|██████████| 200/200 [06:42<00:00,  2.01s/it]\n"
     ]
    },
    {
     "name": "stdout",
     "output_type": "stream",
     "text": [
      "Epoch 70, Accuracy: 0.994875, Loss: 0.3524099313467741, Validation Accuracy: 0.9775, Validation Loss: 0.3848748505115509\n"
     ]
    },
    {
     "name": "stderr",
     "output_type": "stream",
     "text": [
      "100%|██████████| 200/200 [06:41<00:00,  2.01s/it]\n"
     ]
    },
    {
     "name": "stdout",
     "output_type": "stream",
     "text": [
      "Epoch 71, Accuracy: 0.994375, Loss: 0.35267877250909807, Validation Accuracy: 0.9815, Validation Loss: 0.3880237638950348\n"
     ]
    },
    {
     "name": "stderr",
     "output_type": "stream",
     "text": [
      "100%|██████████| 200/200 [06:40<00:00,  2.00s/it]\n"
     ]
    },
    {
     "name": "stdout",
     "output_type": "stream",
     "text": [
      "Epoch 72, Accuracy: 0.99475, Loss: 0.3526883642375469, Validation Accuracy: 0.9835, Validation Loss: 0.37863099575042725\n"
     ]
    },
    {
     "name": "stderr",
     "output_type": "stream",
     "text": [
      "100%|██████████| 200/200 [06:40<00:00,  2.00s/it]\n"
     ]
    },
    {
     "name": "stdout",
     "output_type": "stream",
     "text": [
      "Epoch 73, Accuracy: 0.990625, Loss: 0.35614933222532275, Validation Accuracy: 0.984, Validation Loss: 0.3788449168205261\n"
     ]
    },
    {
     "name": "stderr",
     "output_type": "stream",
     "text": [
      "100%|██████████| 200/200 [06:40<00:00,  2.00s/it]\n"
     ]
    },
    {
     "name": "stdout",
     "output_type": "stream",
     "text": [
      "Epoch 74, Accuracy: 0.993375, Loss: 0.35463262513279914, Validation Accuracy: 0.987, Validation Loss: 0.3749277591705322\n"
     ]
    },
    {
     "name": "stderr",
     "output_type": "stream",
     "text": [
      "100%|██████████| 200/200 [06:43<00:00,  2.02s/it]\n"
     ]
    },
    {
     "name": "stdout",
     "output_type": "stream",
     "text": [
      "Epoch 75, Accuracy: 0.994625, Loss: 0.3525769055634737, Validation Accuracy: 0.9845, Validation Loss: 0.37919798493385315\n"
     ]
    },
    {
     "name": "stderr",
     "output_type": "stream",
     "text": [
      "100%|██████████| 200/200 [06:42<00:00,  2.01s/it]\n"
     ]
    },
    {
     "name": "stdout",
     "output_type": "stream",
     "text": [
      "Epoch 76, Accuracy: 0.99, Loss: 0.3543309087306261, Validation Accuracy: 0.981, Validation Loss: 0.37422606348991394\n"
     ]
    },
    {
     "name": "stderr",
     "output_type": "stream",
     "text": [
      "100%|██████████| 200/200 [06:44<00:00,  2.02s/it]\n"
     ]
    },
    {
     "name": "stdout",
     "output_type": "stream",
     "text": [
      "Epoch 77, Accuracy: 0.992875, Loss: 0.3554500513523817, Validation Accuracy: 0.984, Validation Loss: 0.3776341378688812\n"
     ]
    },
    {
     "name": "stderr",
     "output_type": "stream",
     "text": [
      "100%|██████████| 200/200 [06:43<00:00,  2.02s/it]\n"
     ]
    },
    {
     "name": "stdout",
     "output_type": "stream",
     "text": [
      "Epoch 78, Accuracy: 0.9915, Loss: 0.35251195795834067, Validation Accuracy: 0.9855, Validation Loss: 0.3702833652496338\n"
     ]
    },
    {
     "name": "stderr",
     "output_type": "stream",
     "text": [
      "100%|██████████| 200/200 [06:42<00:00,  2.01s/it]\n"
     ]
    },
    {
     "name": "stdout",
     "output_type": "stream",
     "text": [
      "Epoch 79, Accuracy: 0.995375, Loss: 0.35151879355311394, Validation Accuracy: 0.9795, Validation Loss: 0.4009207785129547\n"
     ]
    },
    {
     "name": "stderr",
     "output_type": "stream",
     "text": [
      "100%|██████████| 200/200 [06:43<00:00,  2.02s/it]\n"
     ]
    },
    {
     "name": "stdout",
     "output_type": "stream",
     "text": [
      "Epoch 80, Accuracy: 0.99225, Loss: 0.3558928644657135, Validation Accuracy: 0.988, Validation Loss: 0.37874001264572144\n"
     ]
    },
    {
     "name": "stderr",
     "output_type": "stream",
     "text": [
      "100%|██████████| 200/200 [06:44<00:00,  2.02s/it]\n"
     ]
    },
    {
     "name": "stdout",
     "output_type": "stream",
     "text": [
      "Epoch 81, Accuracy: 0.996125, Loss: 0.35074356012046337, Validation Accuracy: 0.988, Validation Loss: 0.37326377630233765\n"
     ]
    },
    {
     "name": "stderr",
     "output_type": "stream",
     "text": [
      "100%|██████████| 200/200 [06:39<00:00,  2.00s/it]\n"
     ]
    },
    {
     "name": "stdout",
     "output_type": "stream",
     "text": [
      "Epoch 82, Accuracy: 0.994125, Loss: 0.353331723511219, Validation Accuracy: 0.9825, Validation Loss: 0.3715546131134033\n"
     ]
    },
    {
     "name": "stderr",
     "output_type": "stream",
     "text": [
      "100%|██████████| 200/200 [06:40<00:00,  2.00s/it]\n"
     ]
    },
    {
     "name": "stdout",
     "output_type": "stream",
     "text": [
      "Epoch 83, Accuracy: 0.9965, Loss: 0.3503554262965918, Validation Accuracy: 0.9865, Validation Loss: 0.3784664571285248\n"
     ]
    },
    {
     "name": "stderr",
     "output_type": "stream",
     "text": [
      "100%|██████████| 200/200 [06:41<00:00,  2.01s/it]\n"
     ]
    },
    {
     "name": "stdout",
     "output_type": "stream",
     "text": [
      "Epoch 84, Accuracy: 0.990375, Loss: 0.3601161852478981, Validation Accuracy: 0.9835, Validation Loss: 0.3788340091705322\n"
     ]
    },
    {
     "name": "stderr",
     "output_type": "stream",
     "text": [
      "100%|██████████| 200/200 [06:44<00:00,  2.02s/it]\n"
     ]
    },
    {
     "name": "stdout",
     "output_type": "stream",
     "text": [
      "Epoch 85, Accuracy: 0.995, Loss: 0.3524157528579235, Validation Accuracy: 0.9865, Validation Loss: 0.37164437770843506\n"
     ]
    },
    {
     "name": "stderr",
     "output_type": "stream",
     "text": [
      "100%|██████████| 200/200 [06:43<00:00,  2.02s/it]\n"
     ]
    },
    {
     "name": "stdout",
     "output_type": "stream",
     "text": [
      "Epoch 86, Accuracy: 0.99575, Loss: 0.3511750236898661, Validation Accuracy: 0.9865, Validation Loss: 0.3837205171585083\n"
     ]
    },
    {
     "name": "stderr",
     "output_type": "stream",
     "text": [
      "100%|██████████| 200/200 [06:43<00:00,  2.02s/it]\n"
     ]
    },
    {
     "name": "stdout",
     "output_type": "stream",
     "text": [
      "Epoch 87, Accuracy: 0.985875, Loss: 0.35343854792416096, Validation Accuracy: 0.9885, Validation Loss: 0.38448935747146606\n"
     ]
    },
    {
     "name": "stderr",
     "output_type": "stream",
     "text": [
      "100%|██████████| 200/200 [06:43<00:00,  2.02s/it]\n"
     ]
    },
    {
     "name": "stdout",
     "output_type": "stream",
     "text": [
      "Epoch 88, Accuracy: 0.992625, Loss: 0.35554499708116055, Validation Accuracy: 0.9885, Validation Loss: 0.37310439348220825\n"
     ]
    },
    {
     "name": "stderr",
     "output_type": "stream",
     "text": [
      "100%|██████████| 200/200 [06:40<00:00,  2.00s/it]\n"
     ]
    },
    {
     "name": "stdout",
     "output_type": "stream",
     "text": [
      "Epoch 89, Accuracy: 0.99475, Loss: 0.35248099587857723, Validation Accuracy: 0.967, Validation Loss: 0.38348129391670227\n"
     ]
    },
    {
     "name": "stderr",
     "output_type": "stream",
     "text": [
      "100%|██████████| 200/200 [06:41<00:00,  2.01s/it]\n"
     ]
    },
    {
     "name": "stdout",
     "output_type": "stream",
     "text": [
      "Epoch 90, Accuracy: 0.99525, Loss: 0.3532852055132389, Validation Accuracy: 0.9865, Validation Loss: 0.37271586060523987\n"
     ]
    },
    {
     "name": "stderr",
     "output_type": "stream",
     "text": [
      "100%|██████████| 200/200 [06:39<00:00,  2.00s/it]\n"
     ]
    },
    {
     "name": "stdout",
     "output_type": "stream",
     "text": [
      "Epoch 91, Accuracy: 0.995125, Loss: 0.352782768830657, Validation Accuracy: 0.9865, Validation Loss: 0.3780064284801483\n"
     ]
    },
    {
     "name": "stderr",
     "output_type": "stream",
     "text": [
      "100%|██████████| 200/200 [06:41<00:00,  2.01s/it]\n"
     ]
    },
    {
     "name": "stdout",
     "output_type": "stream",
     "text": [
      "Epoch 92, Accuracy: 0.996375, Loss: 0.3504415720701218, Validation Accuracy: 0.986, Validation Loss: 0.3777863681316376\n"
     ]
    },
    {
     "name": "stderr",
     "output_type": "stream",
     "text": [
      "100%|██████████| 200/200 [06:40<00:00,  2.00s/it]\n"
     ]
    },
    {
     "name": "stdout",
     "output_type": "stream",
     "text": [
      "Epoch 93, Accuracy: 0.996125, Loss: 0.35155796244740484, Validation Accuracy: 0.9855, Validation Loss: 0.37005650997161865\n"
     ]
    },
    {
     "name": "stderr",
     "output_type": "stream",
     "text": [
      "100%|██████████| 200/200 [06:40<00:00,  2.00s/it]\n"
     ]
    },
    {
     "name": "stdout",
     "output_type": "stream",
     "text": [
      "Epoch 94, Accuracy: 0.9945, Loss: 0.3528811780363321, Validation Accuracy: 0.9785, Validation Loss: 0.3913496732711792\n"
     ]
    },
    {
     "name": "stderr",
     "output_type": "stream",
     "text": [
      "100%|██████████| 200/200 [06:40<00:00,  2.00s/it]\n"
     ]
    },
    {
     "name": "stdout",
     "output_type": "stream",
     "text": [
      "Epoch 95, Accuracy: 0.996, Loss: 0.35205136440694335, Validation Accuracy: 0.985, Validation Loss: 0.38452839851379395\n"
     ]
    },
    {
     "name": "stderr",
     "output_type": "stream",
     "text": [
      "100%|██████████| 200/200 [06:41<00:00,  2.01s/it]\n"
     ]
    },
    {
     "name": "stdout",
     "output_type": "stream",
     "text": [
      "Epoch 96, Accuracy: 0.994875, Loss: 0.352551121711731, Validation Accuracy: 0.983, Validation Loss: 0.37582266330718994\n"
     ]
    },
    {
     "name": "stderr",
     "output_type": "stream",
     "text": [
      "100%|██████████| 200/200 [06:44<00:00,  2.02s/it]\n"
     ]
    },
    {
     "name": "stdout",
     "output_type": "stream",
     "text": [
      "Epoch 97, Accuracy: 0.99, Loss: 0.3512078342586756, Validation Accuracy: 0.9785, Validation Loss: 0.381331205368042\n"
     ]
    },
    {
     "name": "stderr",
     "output_type": "stream",
     "text": [
      "100%|██████████| 200/200 [06:43<00:00,  2.02s/it]\n"
     ]
    },
    {
     "name": "stdout",
     "output_type": "stream",
     "text": [
      "Epoch 98, Accuracy: 0.995625, Loss: 0.3515272468328476, Validation Accuracy: 0.985, Validation Loss: 0.3768775165081024\n"
     ]
    },
    {
     "name": "stderr",
     "output_type": "stream",
     "text": [
      "100%|██████████| 200/200 [06:41<00:00,  2.01s/it]\n"
     ]
    },
    {
     "name": "stdout",
     "output_type": "stream",
     "text": [
      "Epoch 99, Accuracy: 0.995, Loss: 0.35203522592782976, Validation Accuracy: 0.9855, Validation Loss: 0.37124958634376526\n"
     ]
    },
    {
     "name": "stderr",
     "output_type": "stream",
     "text": [
      "100%|██████████| 200/200 [06:39<00:00,  2.00s/it]\n"
     ]
    },
    {
     "name": "stdout",
     "output_type": "stream",
     "text": [
      "Epoch 100, Accuracy: 0.994375, Loss: 0.35284157291054724, Validation Accuracy: 0.9865, Validation Loss: 0.3847382068634033\n"
     ]
    }
   ],
   "source": [
    "from tqdm import tqdm\n",
    "\n",
    "input_shape = (95, 3)\n",
    "model = HybridNN(input_shape, len(classes)).to(device)\n",
    "\n",
    "# Define optimizer and loss function\n",
    "optimizer = optim.Adam(model.parameters(), lr=0.001)\n",
    "criterion = nn.CrossEntropyLoss()\n",
    "\n",
    "# Function to evaluate the model on validation data\n",
    "def evaluate(model, test_loader):\n",
    "    model.eval()\n",
    "    total_correct = 0\n",
    "    total_loss = 0\n",
    "    total_samples = 0\n",
    "    with torch.no_grad():\n",
    "        for inputs, targets in test_loader:\n",
    "            outputs = model(inputs)\n",
    "            _, predicted = torch.max(outputs.data, 1)\n",
    "            total_samples += targets.size(0)\n",
    "            \n",
    "            total_loss += criterion(outputs, targets)\n",
    "            total_correct += (predicted == targets).sum().item()\n",
    "    model.train()\n",
    "    return total_correct / total_samples, total_loss / len(test_loader)\n",
    "\n",
    "# Training loop\n",
    "best_accuracy = 0\n",
    "accuracy_list = []\n",
    "loss_list = []\n",
    "\n",
    "val_accuracy_list = []\n",
    "val_loss_list = []\n",
    "\n",
    "for epoch in range(100):\n",
    "    model.train()\n",
    "\n",
    "    total_loss = []\n",
    "    \n",
    "    total_correct = 0\n",
    "    total_samples = 0\n",
    "    for inputs, labels in tqdm(train_loader):\n",
    "        # Forward pass\n",
    "        optimizer.zero_grad(set_to_none=True)\n",
    "        outputs = model(inputs)\n",
    "\n",
    "        # Calculate loss\n",
    "        loss = criterion(outputs, labels)\n",
    "        loss.backward()\n",
    "\n",
    "        _, predicted = torch.max(outputs.data, 1)\n",
    "        total_correct += (predicted == labels).sum().item()\n",
    "\n",
    "        # Backward pass\n",
    "        optimizer.step()\n",
    "        total_loss.append(loss.item())\n",
    "\n",
    "        total_samples += 1\n",
    "\n",
    "    # Evaluate the model on the validation data after each epoch\n",
    "    val_accuracy, val_loss = evaluate(model, test_loader)\n",
    "    val_accuracy_list.append(val_accuracy)\n",
    "    val_loss_list.append(val_loss)\n",
    "    \n",
    "    accuracy_list.append(total_correct / len(train_loader.dataset))\n",
    "    loss_list.append(sum(total_loss) / len(train_loader))\n",
    "    \n",
    "    print(f'Epoch {epoch + 1}, Accuracy: {total_correct / len(train_loader.dataset)}, Loss: {sum(total_loss) / len(train_loader)}, Validation Accuracy: {val_accuracy}, Validation Loss: {val_loss}')\n",
    "\n",
    "    # Checkpointing\n",
    "    if val_accuracy > best_accuracy:\n",
    "        best_accuracy = val_accuracy\n",
    "        torch.save(model.state_dict(), checkpoint_filepath)"
   ],
   "metadata": {
    "collapsed": false,
    "ExecuteTime": {
     "end_time": "2024-05-10T04:29:43.009965600Z",
     "start_time": "2024-05-09T16:54:33.387221700Z"
    }
   },
   "id": "68ae5740a75d5963",
   "execution_count": 36
  },
  {
   "cell_type": "markdown",
   "source": [
    "## 5. Model Evaluation"
   ],
   "metadata": {
    "collapsed": false
   },
   "id": "35b80d71823b6294"
  },
  {
   "cell_type": "code",
   "outputs": [
    {
     "data": {
      "text/plain": "<matplotlib.legend.Legend at 0x2ce8e5ec6d0>"
     },
     "execution_count": 37,
     "metadata": {},
     "output_type": "execute_result"
    },
    {
     "data": {
      "text/plain": "<Figure size 1000x500 with 2 Axes>",
      "image/png": "[encoded data removed]"
     },
     "metadata": {},
     "output_type": "display_data"
    }
   ],
   "source": [
    "# Plot the training and validation loss\n",
    "plt.figure(figsize=(10, 5))\n",
    "plt.subplot(1, 2, 1)\n",
    "plt.plot(loss_list, label='Training Loss')\n",
    "plt.plot(val_loss_list, label='Validation Loss')\n",
    "plt.title('Training Loss')\n",
    "plt.xlabel('Epoch')\n",
    "plt.ylabel('Loss')\n",
    "plt.legend()\n",
    "\n",
    "# Plot the training and validation accuracy\n",
    "plt.subplot(1, 2, 2)\n",
    "plt.plot(accuracy_list, label='Training Accuracy')\n",
    "plt.plot(val_accuracy_list, label='Validation Accuracy')\n",
    "plt.title('Validation Accuracy')\n",
    "plt.xlabel('Epoch')\n",
    "plt.ylabel('Accuracy')\n",
    "plt.legend()"
   ],
   "metadata": {
    "collapsed": false,
    "ExecuteTime": {
     "end_time": "2024-05-10T04:29:43.418159600Z",
     "start_time": "2024-05-10T04:29:43.012964700Z"
    }
   },
   "id": "ee82c8612d017e5",
   "execution_count": 37
  },
  {
   "cell_type": "code",
   "outputs": [],
   "source": [
    "input_shape = (95, 3)\n",
    "model = HybridNN(input_shape, num_categories=len(classes), fname=checkpoint_filepath)\n",
    "y_pred = model.predict(X_test)"
   ],
   "metadata": {
    "collapsed": false,
    "ExecuteTime": {
     "end_time": "2024-05-16T08:55:04.591437Z",
     "start_time": "2024-05-16T08:55:00.690439Z"
    }
   },
   "id": "521e85186e9fe105",
   "execution_count": 12
  },
  {
   "cell_type": "code",
   "outputs": [
    {
     "data": {
      "text/plain": "307110"
     },
     "execution_count": 13,
     "metadata": {},
     "output_type": "execute_result"
    }
   ],
   "source": [
    "sum(p.numel() for p in model.parameters() if p.requires_grad)"
   ],
   "metadata": {
    "collapsed": false,
    "ExecuteTime": {
     "end_time": "2024-05-16T08:55:04.607440Z",
     "start_time": "2024-05-16T08:55:04.593440Z"
    }
   },
   "id": "a8a760f7e184aba3",
   "execution_count": 13
  },
  {
   "cell_type": "code",
   "outputs": [],
   "source": [
    "pred = np.argmax(y_pred.data, axis=1)"
   ],
   "metadata": {
    "collapsed": false,
    "ExecuteTime": {
     "end_time": "2024-05-10T04:29:45.878820300Z",
     "start_time": "2024-05-10T04:29:45.863723800Z"
    }
   },
   "id": "677944e12e22c159",
   "execution_count": 39
  },
  {
   "cell_type": "code",
   "outputs": [
    {
     "data": {
      "text/plain": "<Figure size 800x600 with 2 Axes>",
      "image/png": "[encoded data removed]"
     },
     "metadata": {},
     "output_type": "display_data"
    }
   ],
   "source": [
    "from sklearn.metrics import confusion_matrix\n",
    "import seaborn as sns\n",
    "\n",
    "\n",
    "def plot_confusion_matrix(y_true, y_pred):\n",
    "    cm = confusion_matrix(y_true, y_pred)\n",
    "    plt.figure(figsize=(8, 6))\n",
    "    sns.heatmap(cm, annot=True, fmt='d', cmap='Blues', cbar=True)\n",
    "    plt.xlabel('Predicted Label')\n",
    "    plt.ylabel('True Label')\n",
    "    plt.title('Confusion Matrix')\n",
    "    plt.show()\n",
    "\n",
    "plot_confusion_matrix(y_test.astype(np.int8), np.argmax(y_pred, axis=1))"
   ],
   "metadata": {
    "collapsed": false,
    "ExecuteTime": {
     "end_time": "2024-05-10T04:29:46.036642200Z",
     "start_time": "2024-05-10T04:29:45.880817700Z"
    }
   },
   "id": "bc3613a0cfaa9d2f",
   "execution_count": 40
  }
 ],
 "metadata": {
  "kernelspec": {
   "display_name": "Python 3",
   "language": "python",
   "name": "python3"
  },
  "language_info": {
   "codemirror_mode": {
    "name": "ipython",
    "version": 2
   },
   "file_extension": ".py",
   "mimetype": "text/x-python",
   "name": "python",
   "nbconvert_exporter": "python",
   "pygments_lexer": "ipython2",
   "version": "2.7.6"
  }
 },
 "nbformat": 4,
 "nbformat_minor": 5
}
