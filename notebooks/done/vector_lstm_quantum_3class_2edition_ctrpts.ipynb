{
 "cells": [
  {
   "cell_type": "markdown",
   "source": [
    "# Classifier using LSTM layers"
   ],
   "metadata": {
    "collapsed": false,
    "id": "5229e8479776427a"
   },
   "id": "5229e8479776427a"
  },
  {
   "cell_type": "markdown",
   "source": [
    "## 1. Importing Libraries"
   ],
   "metadata": {
    "collapsed": false,
    "id": "39f18e42aad23ab2"
   },
   "id": "39f18e42aad23ab2"
  },
  {
   "cell_type": "code",
   "execution_count": 14,
   "id": "initial_id",
   "metadata": {
    "collapsed": true,
    "colab": {
     "base_uri": "https://localhost:8080/"
    },
    "id": "initial_id",
    "outputId": "a199ac04-45b0-4a7d-ef7d-d8acae5a4fc1",
    "ExecuteTime": {
     "end_time": "2024-05-13T20:44:54.587318400Z",
     "start_time": "2024-05-13T20:44:54.497803100Z"
    }
   },
   "outputs": [
    {
     "name": "stdout",
     "output_type": "stream",
     "text": [
      "cpu\n"
     ]
    }
   ],
   "source": [
    "import torch\n",
    "\n",
    "import numpy as np\n",
    "import pandas as pd\n",
    "\n",
    "data_folder = '../data/ctrpts'\n",
    "\n",
    "EPOCHS = 10\n",
    "BATCH_SIZE = 64\n",
    "\n",
    "MAX_SEQ_LENGTH = 95\n",
    "\n",
    "device = torch.device(\"cuda\" if torch.cuda.is_available() else \"cpu\")\n",
    "print(device)"
   ]
  },
  {
   "cell_type": "markdown",
   "source": [
    "## 2. Data Preprocessing"
   ],
   "metadata": {
    "collapsed": false,
    "id": "5b992f62c4ee6b1e"
   },
   "id": "5b992f62c4ee6b1e"
  },
  {
   "cell_type": "markdown",
   "source": [
    "### 2.1. Loading the data"
   ],
   "metadata": {
    "collapsed": false,
    "id": "daf8e6a6a64418c0"
   },
   "id": "daf8e6a6a64418c0"
  },
  {
   "cell_type": "code",
   "outputs": [
    {
     "data": {
      "text/plain": "{'calculator': 0, 'camera': 1, 'cell phone': 2}"
     },
     "execution_count": 15,
     "metadata": {},
     "output_type": "execute_result"
    }
   ],
   "source": [
    "import os\n",
    "\n",
    "\n",
    "def get_categories_from_data(folder, n=None):\n",
    "    \"\"\"\n",
    "    This function retrieves category names from file names in a specified folder. \n",
    "    The category name is assumed to be a substring of the file name, starting from the 17th character and ending 7 characters before the end of the file name.\n",
    "    If the substring is empty, it is not added to the list of categories.\n",
    "    If a limit 'n' is specified, only the first 'n' categories are returned.\n",
    "\n",
    "    Parameters:\n",
    "    folder (str): The path to the folder containing the files.\n",
    "    n (int, optional): The maximum number of categories to return. If not specified, all categories are returned.\n",
    "\n",
    "    Returns:\n",
    "    list: A list of category names.\n",
    "    \"\"\"\n",
    "    files = os.listdir(folder)\n",
    "    categories = [file[16:-7] for file in files if len(file[16:-7]) > 0]\n",
    "    return categories if n is None else categories[:n]\n",
    "\n",
    "#classes = get_categories_from_data(data_folder)\n",
    "classes = [\"calculator\", \"camera\", \"cell phone\"]\n",
    "class_id = dict(zip(classes, range(len(classes))))\n",
    "\n",
    "calculator_data = np.load(f'../data/ctrlpts/calculator_ctrlpt.npz', allow_pickle=True, encoding='latin1')\n",
    "camera_data = np.load(f'../data/ctrlpts/camera_ctrlpt.npz', allow_pickle=True, encoding='latin1')\n",
    "cellphone_data = np.load(f'../data/ctrlpts/cell_phone_ctrlpt.npz', allow_pickle=True, encoding='latin1')\n",
    "\n",
    "class_id"
   ],
   "metadata": {
    "colab": {
     "base_uri": "https://localhost:8080/"
    },
    "id": "7dfa8ee273347850",
    "outputId": "0b5a6363-c361-4611-aa66-1aa0e0526f9b",
    "ExecuteTime": {
     "end_time": "2024-05-13T20:44:54.590318500Z",
     "start_time": "2024-05-13T20:44:54.555318400Z"
    }
   },
   "id": "7dfa8ee273347850",
   "execution_count": 15
  },
  {
   "cell_type": "code",
   "outputs": [
    {
     "data": {
      "text/plain": "((17928,), (17938,), (17976,))"
     },
     "execution_count": 16,
     "metadata": {},
     "output_type": "execute_result"
    }
   ],
   "source": [
    "calculator_data.get('train').shape, camera_data.get('train').shape, cellphone_data.get('train').shape"
   ],
   "metadata": {
    "collapsed": false,
    "ExecuteTime": {
     "end_time": "2024-05-13T20:44:54.989323200Z",
     "start_time": "2024-05-13T20:44:54.593320800Z"
    }
   },
   "id": "7eb5ceff9eec8509",
   "execution_count": 16
  },
  {
   "cell_type": "code",
   "outputs": [],
   "source": [
    "from sklearn.model_selection import train_test_split\n",
    "\n",
    "# Limiting data to 5000 points per class\n",
    "def slice_data(data):\n",
    "    # Assuming that the data arrays in each 'train', 'test', 'valid' are already shuffled\n",
    "    sliced = []\n",
    "    for key in ['train', 'test', 'valid']:\n",
    "        # Slicing each segment\n",
    "        sliced.append(data[key])\n",
    "    # Concatenate slices from train, test, valid\n",
    "    return np.concatenate(sliced)\n",
    "\n",
    "# Slicing the data\n",
    "calculator_sliced = slice_data(calculator_data)[:5000]\n",
    "camera_sliced = slice_data(camera_data)[:5000]\n",
    "cellphone_sliced = slice_data(cellphone_data)[:5000]\n",
    "\n",
    "# Concatenate all sliced data\n",
    "def concatenate_data(*datasets):\n",
    "    features = []\n",
    "    labels = []\n",
    "    for data, cid in zip(datasets, class_id.values()):\n",
    "        features.append(data)\n",
    "        labels.extend([cid] * len(data))\n",
    "    features = np.concatenate(features)\n",
    "    labels = np.array(labels)\n",
    "    return features, labels\n",
    "\n",
    "features, labels = concatenate_data(calculator_sliced, camera_sliced, cellphone_sliced)\n",
    "\n",
    "# Split into train, test, and validation sets\n",
    "X_train, X_test, y_train, y_test = train_test_split(features, labels, test_size=0.2, random_state=42)"
   ],
   "metadata": {
    "collapsed": false,
    "ExecuteTime": {
     "end_time": "2024-05-13T20:44:55.262917600Z",
     "start_time": "2024-05-13T20:44:54.986988700Z"
    }
   },
   "id": "185cc30f35bc45a4",
   "execution_count": 17
  },
  {
   "cell_type": "code",
   "outputs": [
    {
     "data": {
      "text/plain": "((12000,), (12000,), (3000,), (3000,))"
     },
     "execution_count": 18,
     "metadata": {},
     "output_type": "execute_result"
    }
   ],
   "source": [
    "X_train.shape, y_train.shape, X_test.shape, y_test.shape"
   ],
   "metadata": {
    "collapsed": false,
    "ExecuteTime": {
     "end_time": "2024-05-13T20:44:55.280159600Z",
     "start_time": "2024-05-13T20:44:55.263916900Z"
    }
   },
   "id": "f29404e199bc33cc",
   "execution_count": 18
  },
  {
   "cell_type": "code",
   "outputs": [],
   "source": [
    "from torch.utils.data import TensorDataset, DataLoader\n",
    "\n",
    "import numpy as np\n",
    "from scipy.interpolate import interp1d\n",
    "\n",
    "def standardize_lengths(data, target_length=29):\n",
    "    standardized_data = []\n",
    "\n",
    "    for sequence in data:\n",
    "        # Current length of the sequence\n",
    "        current_length = sequence.shape[0]\n",
    "        \n",
    "        # Create an array of indices based on current length\n",
    "        current_indices = np.linspace(0, 1, current_length)\n",
    "        \n",
    "        # Target indices for interpolation\n",
    "        target_indices = np.linspace(0, 1, target_length)\n",
    "        \n",
    "        # Initialize interpolated sequence\n",
    "        interpolated_sequence = np.zeros((target_length, sequence.shape[1]))\n",
    "        \n",
    "        # Interpolate each channel\n",
    "        for i in range(sequence.shape[1]):\n",
    "            # Interpolate the i-th channel\n",
    "            interpolator = interp1d(current_indices, sequence[:, i], kind='linear')\n",
    "            interpolated_sequence[:, i] = interpolator(target_indices)\n",
    "        \n",
    "        # Append the interpolated sequence to the standardized data list\n",
    "        standardized_data.append(interpolated_sequence)\n",
    "\n",
    "    return np.array(standardized_data)\n",
    "\n",
    "# Apply standardization on X_train and X_test\n",
    "X_train_standardized = standardize_lengths(X_train)\n",
    "X_test_standardized = standardize_lengths(X_test)\n",
    "\n",
    "def convert_to_tensor_datasets(X_train, X_test, y_train, y_test):\n",
    "    \"\"\"\n",
    "    Convert numpy arrays into TensorFlow tensor datasets ready for model training.\n",
    "\n",
    "    Args:\n",
    "    X_train (np.array): Training features.\n",
    "    X_test (np.array): Testing features.\n",
    "    y_train (np.array): Training labels.\n",
    "    y_test (np.array): Testing labels.\n",
    "    batch_size (int): Size of batches for the dataset.\n",
    "\n",
    "    Returns:\n",
    "    tuple: TensorFlow datasets for training and testing.\n",
    "    \"\"\"\n",
    "    train_dataset = TensorDataset(torch.tensor(X_train, dtype=torch.float32).to(device), torch.tensor(y_train, dtype=torch.long).to(device))\n",
    "    test_dataset = TensorDataset(torch.tensor(X_test).to(device, dtype=torch.float32), torch.tensor(y_test, dtype=torch.long).to(device))\n",
    "\n",
    "    return train_dataset, test_dataset\n",
    "\n",
    "train_dataset, test_dataset = convert_to_tensor_datasets(X_train_standardized, X_test_standardized, y_train, y_test)\n",
    "\n",
    "train_loader = DataLoader(train_dataset, batch_size=BATCH_SIZE, shuffle=True)\n",
    "test_loader = DataLoader(test_dataset, batch_size=BATCH_SIZE, shuffle=False)"
   ],
   "metadata": {
    "id": "f08ca72c1b1fb327",
    "ExecuteTime": {
     "end_time": "2024-05-13T20:44:57.232221500Z",
     "start_time": "2024-05-13T20:44:55.285159700Z"
    }
   },
   "id": "f08ca72c1b1fb327",
   "execution_count": 19
  },
  {
   "cell_type": "code",
   "outputs": [
    {
     "name": "stdout",
     "output_type": "stream",
     "text": [
      "188\n",
      "47\n"
     ]
    }
   ],
   "source": [
    "print(len(train_loader))\n",
    "print(len(test_loader))"
   ],
   "metadata": {
    "colab": {
     "base_uri": "https://localhost:8080/"
    },
    "id": "e580dce6f95fda90",
    "outputId": "cdc0baaa-d796-42f3-d80e-bcd30dbea0c1",
    "ExecuteTime": {
     "end_time": "2024-05-13T20:44:57.247731600Z",
     "start_time": "2024-05-13T20:44:57.233286100Z"
    }
   },
   "id": "e580dce6f95fda90",
   "execution_count": 20
  },
  {
   "cell_type": "code",
   "outputs": [
    {
     "data": {
      "text/plain": "((12000, 29, 3), (3000, 29, 3))"
     },
     "execution_count": 21,
     "metadata": {},
     "output_type": "execute_result"
    }
   ],
   "source": [
    "X_train_standardized.shape, X_test_standardized.shape"
   ],
   "metadata": {
    "collapsed": false,
    "ExecuteTime": {
     "end_time": "2024-05-13T20:44:57.288731400Z",
     "start_time": "2024-05-13T20:44:57.248731500Z"
    }
   },
   "id": "7c8eabe3b4debc3e",
   "execution_count": 21
  },
  {
   "cell_type": "markdown",
   "source": [
    "## 3. Model Building"
   ],
   "metadata": {
    "collapsed": false,
    "id": "736300954d6c140b"
   },
   "id": "736300954d6c140b"
  },
  {
   "cell_type": "markdown",
   "source": [
    "### 3.1. Quantum Layer"
   ],
   "metadata": {
    "collapsed": false,
    "id": "e0fbe9347ed9c2c8"
   },
   "id": "e0fbe9347ed9c2c8"
  },
  {
   "cell_type": "code",
   "outputs": [
    {
     "data": {
      "text/plain": "<Figure size 872.774x451.5 with 1 Axes>",
      "image/png": "[encoded data removed]"
     },
     "execution_count": 22,
     "metadata": {},
     "output_type": "execute_result"
    }
   ],
   "source": [
    "from qiskit_machine_learning.neural_networks import SamplerQNN\n",
    "from qiskit import QuantumCircuit\n",
    "from qiskit.circuit import ParameterVector\n",
    "\n",
    "\n",
    "def quantum_feature_map(n: int) -> QuantumCircuit:\n",
    "    circuit = QuantumCircuit(n)\n",
    "    features = ParameterVector(\"x\", n)\n",
    "\n",
    "    for i in range(n):\n",
    "        circuit.rx(features[i], i)\n",
    "\n",
    "    return circuit\n",
    "\n",
    "def quantum_ansatz(n: int) -> QuantumCircuit:\n",
    "    circuit = QuantumCircuit(n)\n",
    "    weights = ParameterVector(\"w\", n * 3)\n",
    "\n",
    "    for i in range(n):\n",
    "        circuit.rz(weights[i], i)\n",
    "\n",
    "    for i in range(n):\n",
    "        circuit.ry(weights[n+i], i)\n",
    "\n",
    "    for i in range(n):\n",
    "        circuit.rz(weights[2*n+i], i)\n",
    "\n",
    "    for i in range(n-1):\n",
    "        circuit.cx(i, i+1)\n",
    "    circuit.cx(n-1, 0)\n",
    "\n",
    "    return circuit\n",
    "\n",
    "def create_qnn(n):\n",
    "    feature_map = quantum_feature_map(n)\n",
    "    ansatz = quantum_ansatz(n)\n",
    "\n",
    "    qc = QuantumCircuit(n)\n",
    "    qc.compose(feature_map, inplace=True)\n",
    "    qc.compose(ansatz, inplace=True)\n",
    "\n",
    "    # REMEMBER TO SET input_gradients=True FOR ENABLING HYBRID GRADIENT BACKPROP\n",
    "    qnn = SamplerQNN(\n",
    "        circuit=qc,\n",
    "        input_params=feature_map.parameters,\n",
    "        weight_params=ansatz.parameters,\n",
    "        input_gradients=True,\n",
    "    )\n",
    "    return qnn, qc\n",
    "\n",
    "qnn, qc = create_qnn(5)\n",
    "qc.draw(\"mpl\")"
   ],
   "metadata": {
    "id": "f3d980584768d91",
    "ExecuteTime": {
     "end_time": "2024-05-13T20:44:57.538836200Z",
     "start_time": "2024-05-13T20:44:57.266731400Z"
    }
   },
   "id": "f3d980584768d91",
   "execution_count": 22
  },
  {
   "cell_type": "markdown",
   "source": [
    "### 3.2. Hybrid Neural Network"
   ],
   "metadata": {
    "collapsed": false,
    "id": "e2b6cd9b5fb141ad"
   },
   "id": "e2b6cd9b5fb141ad"
  },
  {
   "cell_type": "code",
   "outputs": [],
   "source": [
    "import torch\n",
    "import torch.nn as nn\n",
    "import torch.nn.functional as F\n",
    "import torch.optim as optim\n",
    "\n",
    "from qiskit_machine_learning.connectors import TorchConnector\n",
    "\n",
    "class HybridNN(nn.Module):\n",
    "    def __init__(self, input_shape, num_categories, n_qubits=5, fname=None):\n",
    "        super(HybridNN, self).__init__()\n",
    "        self.num_categories = num_categories\n",
    "\n",
    "        # Convolutional layers\n",
    "        #self.conv1 = nn.Conv1d(in_channels=input_shape[1], out_channels=16, kernel_size=4)\n",
    "        #self.bn1 = nn.BatchNorm1d(num_features=16)\n",
    "        #self.pool1 = nn.AvgPool1d(kernel_size=2)\n",
    "        \n",
    "        #self.conv2 = nn.Conv1d(in_channels=16, out_channels=32, kernel_size=5)\n",
    "        #self.bn2 = nn.BatchNorm1d(num_features=32)\n",
    "        #self.pool2 = nn.AvgPool1d(kernel_size=2)\n",
    "        \n",
    "        #self.conv3 = nn.Conv1d(in_channels=32, out_channels=64, kernel_size=3)\n",
    "        #self.bn3 = nn.BatchNorm1d(num_features=64)\n",
    "        #self.pool3 = nn.AvgPool1d(kernel_size=2)\n",
    "        \n",
    "        #self.conv4 = nn.Conv1d(in_channels=64, out_channels=128, kernel_size=3)\n",
    "        #self.bn4 = nn.BatchNorm1d(num_features=128)\n",
    "        #self.pool4 = nn.AvgPool1d(kernel_size=2)\n",
    "\n",
    "        # LSTM layers\n",
    "        self.lstm1 = nn.LSTM(input_size=29, hidden_size=29, batch_first=True)\n",
    "        self.lstm2 = nn.LSTM(input_size=29, hidden_size=29, batch_first=True)\n",
    "        \n",
    "        self.pool5 = nn.AvgPool1d(kernel_size=2)\n",
    "\n",
    "        # Dense layers\n",
    "        self.fc1 = nn.Linear(14, 14)\n",
    "        self.fc2 = nn.Linear(14, 14)\n",
    "\n",
    "        # Quantum layer\n",
    "        self.fc3 = nn.Linear(14, n_qubits)\n",
    "        self.qnn = TorchConnector(create_qnn(n_qubits)[0])\n",
    "\n",
    "        # Dense layer for classification\n",
    "        self.fc4 = nn.Linear(2**n_qubits, num_categories)\n",
    "\n",
    "        # Load pre-trained weights\n",
    "        if fname:\n",
    "            self.load_state_dict(torch.load(fname))\n",
    "\n",
    "    def forward(self, x):\n",
    "        #x = x.permute(0, 2, 1)\n",
    "\n",
    "        # Convolutional layers\n",
    "        #x = F.relu(self.bn1(self.conv1(x)))\n",
    "        #x = self.pool1(x)\n",
    "        \n",
    "        #x = F.relu(self.bn2(self.conv2(x)))\n",
    "        #x = self.pool2(x)\n",
    "        \n",
    "        #x = F.relu(self.bn3(self.conv3(x)))\n",
    "        #x = self.pool3(x)\n",
    "        \n",
    "        #x = F.relu(self.bn4(self.conv4(x)))\n",
    "        #x = self.pool4(x)\n",
    "\n",
    "        # Reshape for LSTM\n",
    "        #x = x.permute(0, 2, 1)\n",
    "        x, _ = self.lstm1(x)\n",
    "        x, _ = self.lstm2(x)\n",
    "        x = x[:, -1, :]\n",
    "\n",
    "        # Pool layer\n",
    "        x = self.pool5(x)\n",
    "\n",
    "        # Flatten the output for dense layer\n",
    "        x = torch.flatten(x, 1)\n",
    "\n",
    "        # Dense layers\n",
    "        x = F.relu(self.fc1(x))\n",
    "        x = F.relu(self.fc2(x))\n",
    "\n",
    "        # Quantum layer\n",
    "        x = F.relu(self.fc3(x))\n",
    "        x = self.qnn(x)\n",
    "\n",
    "        # Dense layer for classification\n",
    "        x = F.relu(self.fc4(x))\n",
    "        return x\n",
    "\n",
    "    def predict(self, x):\n",
    "        self.eval()\n",
    "        with torch.no_grad():\n",
    "            x = torch.tensor(x, dtype=torch.float32)\n",
    "            x = x.unsqueeze(0)\n",
    "            prediction = self.forward(x)\n",
    "        return prediction.numpy()"
   ],
   "metadata": {
    "id": "49624a778b84529c",
    "ExecuteTime": {
     "end_time": "2024-05-13T20:44:57.587833800Z",
     "start_time": "2024-05-13T20:44:57.533834600Z"
    }
   },
   "id": "49624a778b84529c",
   "execution_count": 23
  },
  {
   "cell_type": "markdown",
   "source": [
    "## 4. Training the Model"
   ],
   "metadata": {
    "collapsed": false,
    "id": "b7fb9e3bc8e4a44f"
   },
   "id": "b7fb9e3bc8e4a44f"
  },
  {
   "cell_type": "code",
   "outputs": [],
   "source": [
    "checkpoint_filepath = 'models/2edition_quantum_lstm/best_model_weights_3classes_ctrlpts.pth'"
   ],
   "metadata": {
    "id": "a033adbcc37ca961",
    "ExecuteTime": {
     "end_time": "2024-05-13T20:44:57.587833800Z",
     "start_time": "2024-05-13T20:44:57.550837300Z"
    }
   },
   "id": "a033adbcc37ca961",
   "execution_count": 24
  },
  {
   "cell_type": "code",
   "outputs": [
    {
     "name": "stderr",
     "output_type": "stream",
     "text": [
      "100%|██████████| 188/188 [23:50<00:00,  7.61s/it]\n"
     ]
    },
    {
     "name": "stdout",
     "output_type": "stream",
     "text": [
      "Epoch 1, Accuracy: 0.4860833333333333, Loss: 1.0475669401757262, Validation Accuracy: 0.6343333333333333, Validation Loss: 0.9596485495567322\n"
     ]
    },
    {
     "name": "stderr",
     "output_type": "stream",
     "text": [
      "100%|██████████| 188/188 [26:10<00:00,  8.35s/it]\n"
     ]
    },
    {
     "name": "stdout",
     "output_type": "stream",
     "text": [
      "Epoch 2, Accuracy: 0.6240833333333333, Loss: 0.8996456173506189, Validation Accuracy: 0.646, Validation Loss: 0.8589529395103455\n"
     ]
    },
    {
     "name": "stderr",
     "output_type": "stream",
     "text": [
      "100%|██████████| 188/188 [24:56<00:00,  7.96s/it]\n"
     ]
    },
    {
     "name": "stdout",
     "output_type": "stream",
     "text": [
      "Epoch 3, Accuracy: 0.6395833333333333, Loss: 0.8157380432524579, Validation Accuracy: 0.6486666666666666, Validation Loss: 0.7878950238227844\n"
     ]
    },
    {
     "name": "stderr",
     "output_type": "stream",
     "text": [
      "100%|██████████| 188/188 [24:54<00:00,  7.95s/it]\n"
     ]
    },
    {
     "name": "stdout",
     "output_type": "stream",
     "text": [
      "Epoch 4, Accuracy: 0.6489166666666667, Loss: 0.7543121617525181, Validation Accuracy: 0.6576666666666666, Validation Loss: 0.7370515465736389\n"
     ]
    },
    {
     "name": "stderr",
     "output_type": "stream",
     "text": [
      "100%|██████████| 188/188 [24:45<00:00,  7.90s/it]\n"
     ]
    },
    {
     "name": "stdout",
     "output_type": "stream",
     "text": [
      "Epoch 5, Accuracy: 0.65975, Loss: 0.7089593733878846, Validation Accuracy: 0.6686666666666666, Validation Loss: 0.700410783290863\n"
     ]
    },
    {
     "name": "stderr",
     "output_type": "stream",
     "text": [
      "100%|██████████| 188/188 [24:42<00:00,  7.88s/it]\n"
     ]
    },
    {
     "name": "stdout",
     "output_type": "stream",
     "text": [
      "Epoch 6, Accuracy: 0.6791666666666667, Loss: 0.6734753542758048, Validation Accuracy: 0.6803333333333333, Validation Loss: 0.6752294898033142\n"
     ]
    },
    {
     "name": "stderr",
     "output_type": "stream",
     "text": [
      "100%|██████████| 188/188 [24:24<00:00,  7.79s/it]\n"
     ]
    },
    {
     "name": "stdout",
     "output_type": "stream",
     "text": [
      "Epoch 7, Accuracy: 0.7109166666666666, Loss: 0.6446720770698913, Validation Accuracy: 0.7186666666666667, Validation Loss: 0.6522438526153564\n"
     ]
    },
    {
     "name": "stderr",
     "output_type": "stream",
     "text": [
      "100%|██████████| 188/188 [24:03<00:00,  7.68s/it]\n"
     ]
    },
    {
     "name": "stdout",
     "output_type": "stream",
     "text": [
      "Epoch 8, Accuracy: 0.7465, Loss: 0.6136818169913394, Validation Accuracy: 0.7516666666666667, Validation Loss: 0.622687578201294\n"
     ]
    },
    {
     "name": "stderr",
     "output_type": "stream",
     "text": [
      "100%|██████████| 188/188 [23:49<00:00,  7.60s/it]\n"
     ]
    },
    {
     "name": "stdout",
     "output_type": "stream",
     "text": [
      "Epoch 9, Accuracy: 0.79125, Loss: 0.5772364627807698, Validation Accuracy: 0.783, Validation Loss: 0.5819386839866638\n"
     ]
    },
    {
     "name": "stderr",
     "output_type": "stream",
     "text": [
      "100%|██████████| 188/188 [23:47<00:00,  7.59s/it]\n"
     ]
    },
    {
     "name": "stdout",
     "output_type": "stream",
     "text": [
      "Epoch 10, Accuracy: 0.8325, Loss: 0.5347466479907644, Validation Accuracy: 0.8313333333333334, Validation Loss: 0.5315425992012024\n"
     ]
    },
    {
     "name": "stderr",
     "output_type": "stream",
     "text": [
      "100%|██████████| 188/188 [23:47<00:00,  7.60s/it]\n"
     ]
    },
    {
     "name": "stdout",
     "output_type": "stream",
     "text": [
      "Epoch 11, Accuracy: 0.8466666666666667, Loss: 0.483980563092739, Validation Accuracy: 0.837, Validation Loss: 0.4826330542564392\n"
     ]
    },
    {
     "name": "stderr",
     "output_type": "stream",
     "text": [
      "100%|██████████| 188/188 [24:00<00:00,  7.66s/it]\n"
     ]
    },
    {
     "name": "stdout",
     "output_type": "stream",
     "text": [
      "Epoch 12, Accuracy: 0.8636666666666667, Loss: 0.4168720364253572, Validation Accuracy: 0.8466666666666667, Validation Loss: 0.4469490051269531\n"
     ]
    },
    {
     "name": "stderr",
     "output_type": "stream",
     "text": [
      "100%|██████████| 188/188 [23:59<00:00,  7.66s/it]\n"
     ]
    },
    {
     "name": "stdout",
     "output_type": "stream",
     "text": [
      "Epoch 13, Accuracy: 0.8749166666666667, Loss: 0.38017481153315685, Validation Accuracy: 0.8636666666666667, Validation Loss: 0.4125426411628723\n"
     ]
    },
    {
     "name": "stderr",
     "output_type": "stream",
     "text": [
      "100%|██████████| 188/188 [23:58<00:00,  7.65s/it]\n"
     ]
    },
    {
     "name": "stdout",
     "output_type": "stream",
     "text": [
      "Epoch 14, Accuracy: 0.8819166666666667, Loss: 0.3522132475008356, Validation Accuracy: 0.8723333333333333, Validation Loss: 0.3740292489528656\n"
     ]
    },
    {
     "name": "stderr",
     "output_type": "stream",
     "text": [
      "100%|██████████| 188/188 [23:45<00:00,  7.58s/it]\n"
     ]
    },
    {
     "name": "stdout",
     "output_type": "stream",
     "text": [
      "Epoch 15, Accuracy: 0.8971666666666667, Loss: 0.31950936720092243, Validation Accuracy: 0.8716666666666667, Validation Loss: 0.3866071105003357\n"
     ]
    },
    {
     "name": "stderr",
     "output_type": "stream",
     "text": [
      "100%|██████████| 188/188 [23:53<00:00,  7.62s/it]\n"
     ]
    },
    {
     "name": "stdout",
     "output_type": "stream",
     "text": [
      "Epoch 16, Accuracy: 0.90225, Loss: 0.30260281930578514, Validation Accuracy: 0.8796666666666667, Validation Loss: 0.34933334589004517\n"
     ]
    },
    {
     "name": "stderr",
     "output_type": "stream",
     "text": [
      "100%|██████████| 188/188 [23:53<00:00,  7.63s/it]\n"
     ]
    },
    {
     "name": "stdout",
     "output_type": "stream",
     "text": [
      "Epoch 17, Accuracy: 0.908, Loss: 0.2785867326595682, Validation Accuracy: 0.888, Validation Loss: 0.337133526802063\n"
     ]
    },
    {
     "name": "stderr",
     "output_type": "stream",
     "text": [
      "100%|██████████| 188/188 [23:52<00:00,  7.62s/it]\n"
     ]
    },
    {
     "name": "stdout",
     "output_type": "stream",
     "text": [
      "Epoch 18, Accuracy: 0.9083333333333333, Loss: 0.27384989447099095, Validation Accuracy: 0.877, Validation Loss: 0.34870755672454834\n"
     ]
    },
    {
     "name": "stderr",
     "output_type": "stream",
     "text": [
      "100%|██████████| 188/188 [23:54<00:00,  7.63s/it]\n"
     ]
    },
    {
     "name": "stdout",
     "output_type": "stream",
     "text": [
      "Epoch 19, Accuracy: 0.9155833333333333, Loss: 0.25514069211451296, Validation Accuracy: 0.8943333333333333, Validation Loss: 0.31462785601615906\n"
     ]
    },
    {
     "name": "stderr",
     "output_type": "stream",
     "text": [
      "100%|██████████| 188/188 [23:52<00:00,  7.62s/it]\n"
     ]
    },
    {
     "name": "stdout",
     "output_type": "stream",
     "text": [
      "Epoch 20, Accuracy: 0.9211666666666667, Loss: 0.24324388936796087, Validation Accuracy: 0.8973333333333333, Validation Loss: 0.30699101090431213\n"
     ]
    },
    {
     "name": "stderr",
     "output_type": "stream",
     "text": [
      "100%|██████████| 188/188 [23:56<00:00,  7.64s/it]\n"
     ]
    },
    {
     "name": "stdout",
     "output_type": "stream",
     "text": [
      "Epoch 21, Accuracy: 0.9255833333333333, Loss: 0.22872869190859033, Validation Accuracy: 0.8933333333333333, Validation Loss: 0.3091898560523987\n"
     ]
    },
    {
     "name": "stderr",
     "output_type": "stream",
     "text": [
      "100%|██████████| 188/188 [24:08<00:00,  7.70s/it]\n"
     ]
    },
    {
     "name": "stdout",
     "output_type": "stream",
     "text": [
      "Epoch 22, Accuracy: 0.9273333333333333, Loss: 0.22015466755057903, Validation Accuracy: 0.8956666666666667, Validation Loss: 0.30623042583465576\n"
     ]
    },
    {
     "name": "stderr",
     "output_type": "stream",
     "text": [
      "100%|██████████| 188/188 [24:05<00:00,  7.69s/it]\n"
     ]
    },
    {
     "name": "stdout",
     "output_type": "stream",
     "text": [
      "Epoch 23, Accuracy: 0.9310833333333334, Loss: 0.21596166408283912, Validation Accuracy: 0.9046666666666666, Validation Loss: 0.2941505014896393\n"
     ]
    },
    {
     "name": "stderr",
     "output_type": "stream",
     "text": [
      "100%|██████████| 188/188 [32:35<00:00, 10.40s/it]\n"
     ]
    },
    {
     "name": "stdout",
     "output_type": "stream",
     "text": [
      "Epoch 24, Accuracy: 0.9379166666666666, Loss: 0.20015091024973292, Validation Accuracy: 0.8923333333333333, Validation Loss: 0.31528398394584656\n"
     ]
    },
    {
     "name": "stderr",
     "output_type": "stream",
     "text": [
      "100%|██████████| 188/188 [32:10<00:00, 10.27s/it]\n"
     ]
    },
    {
     "name": "stdout",
     "output_type": "stream",
     "text": [
      "Epoch 25, Accuracy: 0.9385833333333333, Loss: 0.19313982442179892, Validation Accuracy: 0.905, Validation Loss: 0.29258522391319275\n"
     ]
    },
    {
     "name": "stderr",
     "output_type": "stream",
     "text": [
      "100%|██████████| 188/188 [32:16<00:00, 10.30s/it]\n"
     ]
    },
    {
     "name": "stdout",
     "output_type": "stream",
     "text": [
      "Epoch 26, Accuracy: 0.9420833333333334, Loss: 0.18307673849878794, Validation Accuracy: 0.9026666666666666, Validation Loss: 0.2882770895957947\n"
     ]
    },
    {
     "name": "stderr",
     "output_type": "stream",
     "text": [
      "100%|██████████| 188/188 [32:12<00:00, 10.28s/it]\n"
     ]
    },
    {
     "name": "stdout",
     "output_type": "stream",
     "text": [
      "Epoch 27, Accuracy: 0.9413333333333334, Loss: 0.18708981724178536, Validation Accuracy: 0.894, Validation Loss: 0.3053736686706543\n"
     ]
    },
    {
     "name": "stderr",
     "output_type": "stream",
     "text": [
      "100%|██████████| 188/188 [32:06<00:00, 10.25s/it]\n"
     ]
    },
    {
     "name": "stdout",
     "output_type": "stream",
     "text": [
      "Epoch 28, Accuracy: 0.9475833333333333, Loss: 0.17015303657489253, Validation Accuracy: 0.8996666666666666, Validation Loss: 0.2882392108440399\n"
     ]
    },
    {
     "name": "stderr",
     "output_type": "stream",
     "text": [
      "100%|██████████| 188/188 [32:09<00:00, 10.26s/it]\n"
     ]
    },
    {
     "name": "stdout",
     "output_type": "stream",
     "text": [
      "Epoch 29, Accuracy: 0.94575, Loss: 0.17213583993230094, Validation Accuracy: 0.9013333333333333, Validation Loss: 0.28319481015205383\n"
     ]
    },
    {
     "name": "stderr",
     "output_type": "stream",
     "text": [
      "100%|██████████| 188/188 [29:43<00:00,  9.49s/it]\n"
     ]
    },
    {
     "name": "stdout",
     "output_type": "stream",
     "text": [
      "Epoch 30, Accuracy: 0.9493333333333334, Loss: 0.16243912852270173, Validation Accuracy: 0.8976666666666666, Validation Loss: 0.31355059146881104\n"
     ]
    },
    {
     "name": "stderr",
     "output_type": "stream",
     "text": [
      "100%|██████████| 188/188 [29:40<00:00,  9.47s/it]\n"
     ]
    },
    {
     "name": "stdout",
     "output_type": "stream",
     "text": [
      "Epoch 31, Accuracy: 0.94925, Loss: 0.15726043965588224, Validation Accuracy: 0.901, Validation Loss: 0.29141849279403687\n"
     ]
    },
    {
     "name": "stderr",
     "output_type": "stream",
     "text": [
      "100%|██████████| 188/188 [28:06<00:00,  8.97s/it]\n"
     ]
    },
    {
     "name": "stdout",
     "output_type": "stream",
     "text": [
      "Epoch 32, Accuracy: 0.9536666666666667, Loss: 0.1521075804262085, Validation Accuracy: 0.9003333333333333, Validation Loss: 0.2936927378177643\n"
     ]
    },
    {
     "name": "stderr",
     "output_type": "stream",
     "text": [
      "100%|██████████| 188/188 [26:36<00:00,  8.49s/it]\n"
     ]
    },
    {
     "name": "stdout",
     "output_type": "stream",
     "text": [
      "Epoch 33, Accuracy: 0.9554166666666667, Loss: 0.14721668541352165, Validation Accuracy: 0.9073333333333333, Validation Loss: 0.285704106092453\n"
     ]
    },
    {
     "name": "stderr",
     "output_type": "stream",
     "text": [
      "100%|██████████| 188/188 [26:31<00:00,  8.46s/it]\n"
     ]
    },
    {
     "name": "stdout",
     "output_type": "stream",
     "text": [
      "Epoch 34, Accuracy: 0.9575, Loss: 0.1412343713553979, Validation Accuracy: 0.9013333333333333, Validation Loss: 0.30609437823295593\n"
     ]
    },
    {
     "name": "stderr",
     "output_type": "stream",
     "text": [
      "100%|██████████| 188/188 [26:31<00:00,  8.46s/it]\n"
     ]
    },
    {
     "name": "stdout",
     "output_type": "stream",
     "text": [
      "Epoch 35, Accuracy: 0.9605833333333333, Loss: 0.13410432337525677, Validation Accuracy: 0.9023333333333333, Validation Loss: 0.2917558252811432\n"
     ]
    },
    {
     "name": "stderr",
     "output_type": "stream",
     "text": [
      "100%|██████████| 188/188 [26:32<00:00,  8.47s/it]\n"
     ]
    },
    {
     "name": "stdout",
     "output_type": "stream",
     "text": [
      "Epoch 36, Accuracy: 0.9625833333333333, Loss: 0.12898202313783955, Validation Accuracy: 0.902, Validation Loss: 0.301636666059494\n"
     ]
    },
    {
     "name": "stderr",
     "output_type": "stream",
     "text": [
      "100%|██████████| 188/188 [26:30<00:00,  8.46s/it]\n"
     ]
    },
    {
     "name": "stdout",
     "output_type": "stream",
     "text": [
      "Epoch 37, Accuracy: 0.9605833333333333, Loss: 0.13211160503882677, Validation Accuracy: 0.906, Validation Loss: 0.30573752522468567\n"
     ]
    },
    {
     "name": "stderr",
     "output_type": "stream",
     "text": [
      "100%|██████████| 188/188 [26:32<00:00,  8.47s/it]\n"
     ]
    },
    {
     "name": "stdout",
     "output_type": "stream",
     "text": [
      "Epoch 38, Accuracy: 0.9646666666666667, Loss: 0.12103052921791344, Validation Accuracy: 0.9036666666666666, Validation Loss: 0.29316890239715576\n"
     ]
    },
    {
     "name": "stderr",
     "output_type": "stream",
     "text": [
      "100%|██████████| 188/188 [26:29<00:00,  8.45s/it]\n"
     ]
    },
    {
     "name": "stdout",
     "output_type": "stream",
     "text": [
      "Epoch 39, Accuracy: 0.965, Loss: 0.11772419213059734, Validation Accuracy: 0.8923333333333333, Validation Loss: 0.3307421803474426\n"
     ]
    },
    {
     "name": "stderr",
     "output_type": "stream",
     "text": [
      "100%|██████████| 188/188 [26:35<00:00,  8.49s/it]\n"
     ]
    },
    {
     "name": "stdout",
     "output_type": "stream",
     "text": [
      "Epoch 40, Accuracy: 0.9630833333333333, Loss: 0.12476653427361174, Validation Accuracy: 0.9033333333333333, Validation Loss: 0.30995675921440125\n"
     ]
    },
    {
     "name": "stderr",
     "output_type": "stream",
     "text": [
      "100%|██████████| 188/188 [26:27<00:00,  8.44s/it]\n"
     ]
    },
    {
     "name": "stdout",
     "output_type": "stream",
     "text": [
      "Epoch 41, Accuracy: 0.9685, Loss: 0.10982230942735964, Validation Accuracy: 0.899, Validation Loss: 0.3227735161781311\n"
     ]
    },
    {
     "name": "stderr",
     "output_type": "stream",
     "text": [
      "100%|██████████| 188/188 [26:32<00:00,  8.47s/it]\n"
     ]
    },
    {
     "name": "stdout",
     "output_type": "stream",
     "text": [
      "Epoch 42, Accuracy: 0.96975, Loss: 0.10798281015075267, Validation Accuracy: 0.904, Validation Loss: 0.3032959997653961\n"
     ]
    },
    {
     "name": "stderr",
     "output_type": "stream",
     "text": [
      "100%|██████████| 188/188 [26:36<00:00,  8.49s/it]\n"
     ]
    },
    {
     "name": "stdout",
     "output_type": "stream",
     "text": [
      "Epoch 43, Accuracy: 0.9714166666666667, Loss: 0.10226895275743718, Validation Accuracy: 0.904, Validation Loss: 0.31412801146507263\n"
     ]
    },
    {
     "name": "stderr",
     "output_type": "stream",
     "text": [
      "100%|██████████| 188/188 [26:34<00:00,  8.48s/it]\n"
     ]
    },
    {
     "name": "stdout",
     "output_type": "stream",
     "text": [
      "Epoch 44, Accuracy: 0.9719166666666667, Loss: 0.1001150389301016, Validation Accuracy: 0.8996666666666666, Validation Loss: 0.3159634470939636\n"
     ]
    },
    {
     "name": "stderr",
     "output_type": "stream",
     "text": [
      "100%|██████████| 188/188 [26:32<00:00,  8.47s/it]\n"
     ]
    },
    {
     "name": "stdout",
     "output_type": "stream",
     "text": [
      "Epoch 45, Accuracy: 0.9721666666666666, Loss: 0.09946438764281412, Validation Accuracy: 0.9026666666666666, Validation Loss: 0.3309779465198517\n"
     ]
    },
    {
     "name": "stderr",
     "output_type": "stream",
     "text": [
      "100%|██████████| 188/188 [27:12<00:00,  8.68s/it]\n"
     ]
    },
    {
     "name": "stdout",
     "output_type": "stream",
     "text": [
      "Epoch 46, Accuracy: 0.9723333333333334, Loss: 0.09782331084654211, Validation Accuracy: 0.8993333333333333, Validation Loss: 0.3426037132740021\n"
     ]
    },
    {
     "name": "stderr",
     "output_type": "stream",
     "text": [
      "100%|██████████| 188/188 [25:38<00:00,  8.18s/it]\n"
     ]
    },
    {
     "name": "stdout",
     "output_type": "stream",
     "text": [
      "Epoch 47, Accuracy: 0.9728333333333333, Loss: 0.09711353556114308, Validation Accuracy: 0.904, Validation Loss: 0.31752100586891174\n"
     ]
    },
    {
     "name": "stderr",
     "output_type": "stream",
     "text": [
      "100%|██████████| 188/188 [25:15<00:00,  8.06s/it]\n"
     ]
    },
    {
     "name": "stdout",
     "output_type": "stream",
     "text": [
      "Epoch 48, Accuracy: 0.9776666666666667, Loss: 0.08557575831110491, Validation Accuracy: 0.9043333333333333, Validation Loss: 0.3148755729198456\n"
     ]
    },
    {
     "name": "stderr",
     "output_type": "stream",
     "text": [
      "100%|██████████| 188/188 [26:59<00:00,  8.62s/it]\n"
     ]
    },
    {
     "name": "stdout",
     "output_type": "stream",
     "text": [
      "Epoch 49, Accuracy: 0.9739166666666667, Loss: 0.09049995523936888, Validation Accuracy: 0.9003333333333333, Validation Loss: 0.35361814498901367\n"
     ]
    },
    {
     "name": "stderr",
     "output_type": "stream",
     "text": [
      "100%|██████████| 188/188 [28:08<00:00,  8.98s/it]\n"
     ]
    },
    {
     "name": "stdout",
     "output_type": "stream",
     "text": [
      "Epoch 50, Accuracy: 0.9776666666666667, Loss: 0.08399050310254097, Validation Accuracy: 0.8963333333333333, Validation Loss: 0.3609826862812042\n"
     ]
    },
    {
     "name": "stderr",
     "output_type": "stream",
     "text": [
      "100%|██████████| 188/188 [32:37<00:00, 10.41s/it]\n"
     ]
    },
    {
     "name": "stdout",
     "output_type": "stream",
     "text": [
      "Epoch 51, Accuracy: 0.9765, Loss: 0.08423079541844732, Validation Accuracy: 0.9013333333333333, Validation Loss: 0.34346839785575867\n"
     ]
    },
    {
     "name": "stderr",
     "output_type": "stream",
     "text": [
      "100%|██████████| 188/188 [36:15<00:00, 11.57s/it]\n"
     ]
    },
    {
     "name": "stdout",
     "output_type": "stream",
     "text": [
      "Epoch 52, Accuracy: 0.9773333333333334, Loss: 0.08606778966025153, Validation Accuracy: 0.9066666666666666, Validation Loss: 0.32348233461380005\n"
     ]
    },
    {
     "name": "stderr",
     "output_type": "stream",
     "text": [
      "100%|██████████| 188/188 [39:05<00:00, 12.48s/it]\n"
     ]
    },
    {
     "name": "stdout",
     "output_type": "stream",
     "text": [
      "Epoch 53, Accuracy: 0.9778333333333333, Loss: 0.08409294819934889, Validation Accuracy: 0.9006666666666666, Validation Loss: 0.3442156910896301\n"
     ]
    },
    {
     "name": "stderr",
     "output_type": "stream",
     "text": [
      "100%|██████████| 188/188 [40:02<00:00, 12.78s/it]\n"
     ]
    },
    {
     "name": "stdout",
     "output_type": "stream",
     "text": [
      "Epoch 54, Accuracy: 0.97925, Loss: 0.0812874031253159, Validation Accuracy: 0.9023333333333333, Validation Loss: 0.3347075283527374\n"
     ]
    },
    {
     "name": "stderr",
     "output_type": "stream",
     "text": [
      "100%|██████████| 188/188 [40:23<00:00, 12.89s/it]\n"
     ]
    },
    {
     "name": "stdout",
     "output_type": "stream",
     "text": [
      "Epoch 55, Accuracy: 0.9800833333333333, Loss: 0.07964207861136566, Validation Accuracy: 0.892, Validation Loss: 0.39586108922958374\n"
     ]
    },
    {
     "name": "stderr",
     "output_type": "stream",
     "text": [
      "100%|██████████| 188/188 [42:44<00:00, 13.64s/it]\n"
     ]
    },
    {
     "name": "stdout",
     "output_type": "stream",
     "text": [
      "Epoch 56, Accuracy: 0.9756666666666667, Loss: 0.08596523060522815, Validation Accuracy: 0.9046666666666666, Validation Loss: 0.3353900909423828\n"
     ]
    },
    {
     "name": "stderr",
     "output_type": "stream",
     "text": [
      "100%|██████████| 188/188 [42:08<00:00, 13.45s/it]\n"
     ]
    },
    {
     "name": "stdout",
     "output_type": "stream",
     "text": [
      "Epoch 57, Accuracy: 0.98375, Loss: 0.06709177144604953, Validation Accuracy: 0.9023333333333333, Validation Loss: 0.35486671328544617\n"
     ]
    },
    {
     "name": "stderr",
     "output_type": "stream",
     "text": [
      "100%|██████████| 188/188 [41:19<00:00, 13.19s/it]\n"
     ]
    },
    {
     "name": "stdout",
     "output_type": "stream",
     "text": [
      "Epoch 58, Accuracy: 0.9864166666666667, Loss: 0.059915161637113766, Validation Accuracy: 0.9046666666666666, Validation Loss: 0.3485356867313385\n"
     ]
    },
    {
     "name": "stderr",
     "output_type": "stream",
     "text": [
      "100%|██████████| 188/188 [38:30<00:00, 12.29s/it]\n"
     ]
    },
    {
     "name": "stdout",
     "output_type": "stream",
     "text": [
      "Epoch 59, Accuracy: 0.9880833333333333, Loss: 0.05603474643121057, Validation Accuracy: 0.897, Validation Loss: 0.38634824752807617\n"
     ]
    },
    {
     "name": "stderr",
     "output_type": "stream",
     "text": [
      "100%|██████████| 188/188 [32:51<00:00, 10.49s/it]\n"
     ]
    },
    {
     "name": "stdout",
     "output_type": "stream",
     "text": [
      "Epoch 60, Accuracy: 0.984, Loss: 0.06482306337281268, Validation Accuracy: 0.8996666666666666, Validation Loss: 0.3723176121711731\n"
     ]
    },
    {
     "name": "stderr",
     "output_type": "stream",
     "text": [
      "100%|██████████| 188/188 [30:27<00:00,  9.72s/it]\n"
     ]
    },
    {
     "name": "stdout",
     "output_type": "stream",
     "text": [
      "Epoch 61, Accuracy: 0.9828333333333333, Loss: 0.06926521638091257, Validation Accuracy: 0.9026666666666666, Validation Loss: 0.35687240958213806\n"
     ]
    },
    {
     "name": "stderr",
     "output_type": "stream",
     "text": [
      "100%|██████████| 188/188 [29:32<00:00,  9.43s/it]\n"
     ]
    },
    {
     "name": "stdout",
     "output_type": "stream",
     "text": [
      "Epoch 62, Accuracy: 0.9828333333333333, Loss: 0.06553285063412834, Validation Accuracy: 0.8973333333333333, Validation Loss: 0.3903116285800934\n"
     ]
    },
    {
     "name": "stderr",
     "output_type": "stream",
     "text": [
      "100%|██████████| 188/188 [24:41<00:00,  7.88s/it]\n"
     ]
    },
    {
     "name": "stdout",
     "output_type": "stream",
     "text": [
      "Epoch 63, Accuracy: 0.9854166666666667, Loss: 0.059317212219924684, Validation Accuracy: 0.9053333333333333, Validation Loss: 0.36189496517181396\n"
     ]
    },
    {
     "name": "stderr",
     "output_type": "stream",
     "text": [
      "100%|██████████| 188/188 [22:30<00:00,  7.18s/it]\n"
     ]
    },
    {
     "name": "stdout",
     "output_type": "stream",
     "text": [
      "Epoch 64, Accuracy: 0.9876666666666667, Loss: 0.05505073440330539, Validation Accuracy: 0.906, Validation Loss: 0.3825075626373291\n"
     ]
    },
    {
     "name": "stderr",
     "output_type": "stream",
     "text": [
      "100%|██████████| 188/188 [22:30<00:00,  7.18s/it]\n"
     ]
    },
    {
     "name": "stdout",
     "output_type": "stream",
     "text": [
      "Epoch 65, Accuracy: 0.98225, Loss: 0.06880512511100065, Validation Accuracy: 0.9003333333333333, Validation Loss: 0.4066231846809387\n"
     ]
    },
    {
     "name": "stderr",
     "output_type": "stream",
     "text": [
      "100%|██████████| 188/188 [22:31<00:00,  7.19s/it]\n"
     ]
    },
    {
     "name": "stdout",
     "output_type": "stream",
     "text": [
      "Epoch 66, Accuracy: 0.9804166666666667, Loss: 0.07242958044554008, Validation Accuracy: 0.9006666666666666, Validation Loss: 0.3783895969390869\n"
     ]
    },
    {
     "name": "stderr",
     "output_type": "stream",
     "text": [
      "100%|██████████| 188/188 [22:31<00:00,  7.19s/it]\n"
     ]
    },
    {
     "name": "stdout",
     "output_type": "stream",
     "text": [
      "Epoch 67, Accuracy: 0.9873333333333333, Loss: 0.05529383678444998, Validation Accuracy: 0.9013333333333333, Validation Loss: 0.39892837405204773\n"
     ]
    },
    {
     "name": "stderr",
     "output_type": "stream",
     "text": [
      "100%|██████████| 188/188 [22:33<00:00,  7.20s/it]\n"
     ]
    },
    {
     "name": "stdout",
     "output_type": "stream",
     "text": [
      "Epoch 68, Accuracy: 0.9905833333333334, Loss: 0.04586772193904332, Validation Accuracy: 0.899, Validation Loss: 0.4095008969306946\n"
     ]
    },
    {
     "name": "stderr",
     "output_type": "stream",
     "text": [
      "100%|██████████| 188/188 [22:30<00:00,  7.19s/it]\n"
     ]
    },
    {
     "name": "stdout",
     "output_type": "stream",
     "text": [
      "Epoch 69, Accuracy: 0.9914166666666666, Loss: 0.04415163005196906, Validation Accuracy: 0.8996666666666666, Validation Loss: 0.42463091015815735\n"
     ]
    },
    {
     "name": "stderr",
     "output_type": "stream",
     "text": [
      "100%|██████████| 188/188 [22:30<00:00,  7.18s/it]\n"
     ]
    },
    {
     "name": "stdout",
     "output_type": "stream",
     "text": [
      "Epoch 70, Accuracy: 0.9900833333333333, Loss: 0.047390134854024234, Validation Accuracy: 0.9033333333333333, Validation Loss: 0.40519773960113525\n"
     ]
    },
    {
     "name": "stderr",
     "output_type": "stream",
     "text": [
      " 97%|█████████▋| 183/188 [22:03<00:35,  7.08s/it]"
     ]
    }
   ],
   "source": [
    "from tqdm import tqdm\n",
    "\n",
    "input_shape = (95, 3)\n",
    "model = HybridNN(input_shape, len(classes)).to(device)\n",
    "\n",
    "# Define optimizer and loss function\n",
    "optimizer = optim.Adam(model.parameters(), lr=0.001)\n",
    "criterion = nn.CrossEntropyLoss()\n",
    "\n",
    "# Function to evaluate the model on validation data\n",
    "def evaluate(model, test_loader):\n",
    "    model.eval()\n",
    "    total_correct = 0\n",
    "    total_loss = 0\n",
    "    total_samples = 0\n",
    "    with torch.no_grad():\n",
    "        for inputs, targets in test_loader:\n",
    "            outputs = model(inputs)\n",
    "            _, predicted = torch.max(outputs.data, 1)\n",
    "            total_samples += targets.size(0)\n",
    "\n",
    "            total_loss += criterion(outputs, targets)\n",
    "            total_correct += (predicted == targets).sum().item()\n",
    "    model.train()\n",
    "    return total_correct / total_samples, total_loss / len(test_loader)\n",
    "\n",
    "# Training loop\n",
    "best_accuracy = 0\n",
    "accuracy_list = []\n",
    "loss_list = []\n",
    "\n",
    "val_accuracy_list = []\n",
    "val_loss_list = []\n",
    "\n",
    "for epoch in range(100):\n",
    "    model.train()\n",
    "\n",
    "    total_loss = []\n",
    "    \n",
    "    total_correct = 0\n",
    "    total_samples = 0\n",
    "    for inputs, labels in tqdm(train_loader):\n",
    "        # Forward pass\n",
    "        optimizer.zero_grad(set_to_none=True)\n",
    "        outputs = model(inputs)\n",
    "\n",
    "        # Calculate loss\n",
    "        loss = criterion(outputs, labels)\n",
    "        loss.backward()\n",
    "\n",
    "        _, predicted = torch.max(outputs.data, 1)\n",
    "        total_correct += (predicted == labels).sum().item()\n",
    "\n",
    "        # Backward pass\n",
    "        optimizer.step()\n",
    "        total_loss.append(loss.item())\n",
    "\n",
    "        total_samples += 1\n",
    "\n",
    "    # Evaluate the model on the validation data after each epoch\n",
    "    val_accuracy, val_loss = evaluate(model, test_loader)\n",
    "    val_accuracy_list.append(val_accuracy)\n",
    "    val_loss_list.append(val_loss)\n",
    "    \n",
    "    accuracy_list.append(total_correct / len(train_loader.dataset))\n",
    "    loss_list.append(sum(total_loss) / len(train_loader))\n",
    "    \n",
    "    print(f'Epoch {epoch + 1}, Accuracy: {total_correct / len(train_loader.dataset)}, Loss: {sum(total_loss) / len(train_loader)}, Validation Accuracy: {val_accuracy}, Validation Loss: {val_loss}')\n",
    "\n",
    "    # Checkpointing\n",
    "    if val_accuracy > best_accuracy:\n",
    "        best_accuracy = val_accuracy\n",
    "        torch.save(model.state_dict(), checkpoint_filepath)"
   ],
   "metadata": {
    "colab": {
     "base_uri": "https://localhost:8080/"
    },
    "id": "68ae5740a75d5963",
    "outputId": "eedcff55-f158-4b91-c007-a1449c87b4d6",
    "is_executing": true,
    "ExecuteTime": {
     "start_time": "2024-05-13T20:44:57.570834700Z"
    }
   },
   "id": "68ae5740a75d5963",
   "execution_count": null
  },
  {
   "cell_type": "markdown",
   "source": [
    "## 5. Model Evaluation"
   ],
   "metadata": {
    "collapsed": false,
    "id": "35b80d71823b6294"
   },
   "id": "35b80d71823b6294"
  },
  {
   "cell_type": "code",
   "outputs": [],
   "source": [
    "import matplotlib.pyplot as plt\n",
    "\n",
    "def plot_graphs(loss_list, val_loss_list, accuracy_list, val_accuracy_list):\n",
    "    plt.figure(figsize=(10, 5))\n",
    "\n",
    "    # Plotting loss\n",
    "    plt.subplot(1, 2, 1)\n",
    "    plt.plot(loss_list, label='Training Loss')\n",
    "    plt.plot(val_loss_list, label='Validation Loss')\n",
    "    plt.title('Training and Validation Loss')\n",
    "    plt.xlabel('Epoch')\n",
    "    plt.ylabel('Loss')\n",
    "    plt.legend()\n",
    "\n",
    "    # Plotting accuracy\n",
    "    plt.subplot(1, 2, 2)\n",
    "    plt.plot(accuracy_list, label='Training Accuracy')\n",
    "    plt.plot(val_accuracy_list, label='Validation Accuracy')\n",
    "    plt.title('Training and Validation Accuracy')\n",
    "    plt.xlabel('Epoch')\n",
    "    plt.ylabel('Accuracy')\n",
    "    plt.legend()\n",
    "\n",
    "plot_graphs(loss_list, val_loss_list, accuracy_list, val_accuracy_list)"
   ],
   "metadata": {
    "id": "ee82c8612d017e5",
    "is_executing": true
   },
   "id": "ee82c8612d017e5",
   "execution_count": null
  },
  {
   "cell_type": "code",
   "outputs": [],
   "source": [
    "model = HybridNN(input_shape, num_categories=len(classes), fname=checkpoint_filepath)"
   ],
   "metadata": {
    "id": "521e85186e9fe105",
    "is_executing": true
   },
   "id": "521e85186e9fe105",
   "execution_count": null
  },
  {
   "cell_type": "code",
   "outputs": [],
   "source": [
    "INDEX = 0\n",
    "\n",
    "out = model.predict(X_test[:2500][INDEX])\n",
    "print(\"Predicted class:\", classes[np.argmax(out)])\n",
    "print(\"True class:\", classes[y_test[INDEX].astype(int)])"
   ],
   "metadata": {
    "id": "6071dc5ae78d3e40",
    "is_executing": true
   },
   "id": "6071dc5ae78d3e40",
   "execution_count": null
  }
 ],
 "metadata": {
  "kernelspec": {
   "name": "python3",
   "language": "python",
   "display_name": "Python 3 (ipykernel)"
  },
  "language_info": {
   "codemirror_mode": {
    "name": "ipython",
    "version": 2
   },
   "file_extension": ".py",
   "mimetype": "text/x-python",
   "name": "python",
   "nbconvert_exporter": "python",
   "pygments_lexer": "ipython2",
   "version": "2.7.6"
  },
  "colab": {
   "provenance": [],
   "gpuType": "T4"
  },
  "accelerator": "GPU"
 },
 "nbformat": 4,
 "nbformat_minor": 5
}
