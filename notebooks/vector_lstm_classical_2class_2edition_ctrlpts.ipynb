{
 "cells": [
  {
   "cell_type": "markdown",
   "source": [
    "# Classifier using LSTM layers"
   ],
   "metadata": {
    "collapsed": false
   },
   "id": "5229e8479776427a"
  },
  {
   "cell_type": "markdown",
   "source": [
    "## 1. Importing Libraries"
   ],
   "metadata": {
    "collapsed": false
   },
   "id": "39f18e42aad23ab2"
  },
  {
   "cell_type": "code",
   "execution_count": 2,
   "id": "initial_id",
   "metadata": {
    "collapsed": true,
    "ExecuteTime": {
     "end_time": "2024-05-16T08:47:50.164060Z",
     "start_time": "2024-05-16T08:47:45.536444Z"
    }
   },
   "outputs": [
    {
     "name": "stdout",
     "output_type": "stream",
     "text": [
      "cuda\n"
     ]
    }
   ],
   "source": [
    "import torch\n",
    "\n",
    "import numpy as np\n",
    "import pandas as pd\n",
    "\n",
    "data_folder = '../data/ctrpts'\n",
    "\n",
    "EPOCHS = 10\n",
    "BATCH_SIZE = 40\n",
    "\n",
    "MAX_SEQ_LENGTH = 95\n",
    "\n",
    "device = torch.device(\"cuda\" if torch.cuda.is_available() else \"cpu\")\n",
    "print(device)"
   ]
  },
  {
   "cell_type": "markdown",
   "source": [
    "## 2. Data Preprocessing"
   ],
   "metadata": {
    "collapsed": false
   },
   "id": "5b992f62c4ee6b1e"
  },
  {
   "cell_type": "markdown",
   "source": [
    "### 2.1. Loading the data"
   ],
   "metadata": {
    "collapsed": false
   },
   "id": "daf8e6a6a64418c0"
  },
  {
   "cell_type": "code",
   "outputs": [
    {
     "data": {
      "text/plain": "{'camera': 0, 'cell phone': 1}"
     },
     "execution_count": 3,
     "metadata": {},
     "output_type": "execute_result"
    }
   ],
   "source": [
    "import os\n",
    "\n",
    "\n",
    "def get_categories_from_data(folder, n=None):\n",
    "    \"\"\"\n",
    "    This function retrieves category names from file names in a specified folder. \n",
    "    The category name is assumed to be a substring of the file name, starting from the 17th character and ending 7 characters before the end of the file name.\n",
    "    If the substring is empty, it is not added to the list of categories.\n",
    "    If a limit 'n' is specified, only the first 'n' categories are returned.\n",
    "\n",
    "    Parameters:\n",
    "    folder (str): The path to the folder containing the files.\n",
    "    n (int, optional): The maximum number of categories to return. If not specified, all categories are returned.\n",
    "\n",
    "    Returns:\n",
    "    list: A list of category names.\n",
    "    \"\"\"\n",
    "    files = os.listdir(folder)\n",
    "    categories = [file[16:-7] for file in files if len(file[16:-7]) > 0]\n",
    "    return categories if n is None else categories[:n]\n",
    "\n",
    "#classes = get_categories_from_data(data_folder)\n",
    "classes = [\"camera\", \"cell phone\"]\n",
    "class_id = dict(zip(classes, range(len(classes))))\n",
    "\n",
    "camera_data = np.load(f'../data/ctrlpts/camera_ctrlpt.npz', allow_pickle=True, encoding='latin1')\n",
    "cellphone_data = np.load(f'../data/ctrlpts/cell_phone_ctrlpt.npz', allow_pickle=True, encoding='latin1')\n",
    "\n",
    "class_id"
   ],
   "metadata": {
    "collapsed": false,
    "ExecuteTime": {
     "end_time": "2024-05-16T08:47:50.180063Z",
     "start_time": "2024-05-16T08:47:50.166064Z"
    }
   },
   "id": "7dfa8ee273347850",
   "execution_count": 3
  },
  {
   "cell_type": "code",
   "outputs": [],
   "source": [
    "from sklearn.model_selection import train_test_split\n",
    "\n",
    "# Limiting data to 5000 points per class\n",
    "def slice_data(data):\n",
    "    # Assuming that the data arrays in each 'train', 'test', 'valid' are already shuffled\n",
    "    sliced = []\n",
    "    for key in ['train', 'test', 'valid']:\n",
    "        # Slicing each segment\n",
    "        sliced.append(data[key])\n",
    "    # Concatenate slices from train, test, valid\n",
    "    return np.concatenate(sliced)\n",
    "\n",
    "# Slicing the data\n",
    "camera_sliced = slice_data(camera_data)[:5000]\n",
    "cellphone_sliced = slice_data(cellphone_data)[:5000]\n",
    "\n",
    "# Concatenate all sliced data\n",
    "def concatenate_data(*datasets):\n",
    "    features = []\n",
    "    labels = []\n",
    "    for data, cid in zip(datasets, class_id.values()):\n",
    "        features.append(data)\n",
    "        labels.extend([cid] * len(data))\n",
    "    features = np.concatenate(features)\n",
    "    labels = np.array(labels)\n",
    "    return features, labels\n",
    "\n",
    "features, labels = concatenate_data(camera_sliced, cellphone_sliced)\n",
    "\n",
    "# Split into train, test, and validation sets\n",
    "X_train, X_test, y_train, y_test = train_test_split(features, labels, test_size=0.2, random_state=42)"
   ],
   "metadata": {
    "collapsed": false,
    "ExecuteTime": {
     "end_time": "2024-05-16T08:47:51.547402Z",
     "start_time": "2024-05-16T08:47:50.181062Z"
    }
   },
   "id": "e66cda42347d5270",
   "execution_count": 4
  },
  {
   "cell_type": "code",
   "outputs": [
    {
     "data": {
      "text/plain": "((8000,), (8000,), (2000,), (2000,))"
     },
     "execution_count": 5,
     "metadata": {},
     "output_type": "execute_result"
    }
   ],
   "source": [
    "X_train.shape, y_train.shape, X_test.shape, y_test.shape"
   ],
   "metadata": {
    "collapsed": false,
    "ExecuteTime": {
     "end_time": "2024-05-16T08:47:51.563406Z",
     "start_time": "2024-05-16T08:47:51.549405Z"
    }
   },
   "id": "a406a2cbcd61a2c8",
   "execution_count": 5
  },
  {
   "cell_type": "code",
   "outputs": [],
   "source": [
    "from torch.utils.data import TensorDataset, DataLoader\n",
    "\n",
    "import numpy as np\n",
    "from scipy.interpolate import interp1d\n",
    "\n",
    "def standardize_lengths(data, target_length=29):\n",
    "    standardized_data = []\n",
    "\n",
    "    for sequence in data:\n",
    "        # Current length of the sequence\n",
    "        current_length = sequence.shape[0]\n",
    "        \n",
    "        # Create an array of indices based on current length\n",
    "        current_indices = np.linspace(0, 1, current_length)\n",
    "        \n",
    "        # Target indices for interpolation\n",
    "        target_indices = np.linspace(0, 1, target_length)\n",
    "        \n",
    "        # Initialize interpolated sequence\n",
    "        interpolated_sequence = np.zeros((target_length, sequence.shape[1]))\n",
    "        \n",
    "        # Interpolate each channel\n",
    "        for i in range(sequence.shape[1]):\n",
    "            # Interpolate the i-th channel\n",
    "            interpolator = interp1d(current_indices, sequence[:, i], kind='linear')\n",
    "            interpolated_sequence[:, i] = interpolator(target_indices)\n",
    "        \n",
    "        # Append the interpolated sequence to the standardized data list\n",
    "        standardized_data.append(interpolated_sequence)\n",
    "\n",
    "    return np.array(standardized_data)\n",
    "\n",
    "# Apply standardization on X_train and X_test\n",
    "X_train_standardized = standardize_lengths(X_train)\n",
    "X_test_standardized = standardize_lengths(X_test)\n",
    "\n",
    "def convert_to_tensor_datasets(X_train, X_test, y_train, y_test):\n",
    "    \"\"\"\n",
    "    Convert numpy arrays into TensorFlow tensor datasets ready for model training.\n",
    "\n",
    "    Args:\n",
    "    X_train (np.array): Training features.\n",
    "    X_test (np.array): Testing features.\n",
    "    y_train (np.array): Training labels.\n",
    "    y_test (np.array): Testing labels.\n",
    "    batch_size (int): Size of batches for the dataset.\n",
    "\n",
    "    Returns:\n",
    "    tuple: TensorFlow datasets for training and testing.\n",
    "    \"\"\"\n",
    "    train_dataset = TensorDataset(torch.tensor(X_train, dtype=torch.float32).to(device), torch.tensor(y_train, dtype=torch.long).to(device))\n",
    "    test_dataset = TensorDataset(torch.tensor(X_test).to(device, dtype=torch.float32), torch.tensor(y_test, dtype=torch.long).to(device))\n",
    "\n",
    "    return train_dataset, test_dataset\n",
    "\n",
    "train_dataset, test_dataset = convert_to_tensor_datasets(X_train_standardized, X_test_standardized, y_train, y_test)\n",
    "\n",
    "train_loader = DataLoader(train_dataset, batch_size=BATCH_SIZE, shuffle=True)\n",
    "test_loader = DataLoader(test_dataset, batch_size=BATCH_SIZE, shuffle=False)"
   ],
   "metadata": {
    "collapsed": false,
    "ExecuteTime": {
     "end_time": "2024-05-16T08:47:53.454402Z",
     "start_time": "2024-05-16T08:47:51.565406Z"
    }
   },
   "id": "d8cd35222b1b50de",
   "execution_count": 6
  },
  {
   "cell_type": "code",
   "outputs": [
    {
     "name": "stdout",
     "output_type": "stream",
     "text": [
      "200\n",
      "50\n"
     ]
    }
   ],
   "source": [
    "print(len(train_loader))\n",
    "print(len(test_loader))"
   ],
   "metadata": {
    "collapsed": false,
    "ExecuteTime": {
     "end_time": "2024-05-16T08:47:53.469403Z",
     "start_time": "2024-05-16T08:47:53.456404Z"
    }
   },
   "id": "1bff3ba5673e53f7",
   "execution_count": 7
  },
  {
   "cell_type": "code",
   "outputs": [
    {
     "data": {
      "text/plain": "((8000, 29, 3), (2000, 29, 3))"
     },
     "execution_count": 8,
     "metadata": {},
     "output_type": "execute_result"
    }
   ],
   "source": [
    "X_train_standardized.shape, X_test_standardized.shape"
   ],
   "metadata": {
    "collapsed": false,
    "ExecuteTime": {
     "end_time": "2024-05-16T08:47:53.485405Z",
     "start_time": "2024-05-16T08:47:53.471406Z"
    }
   },
   "id": "10ff098c24bd15db",
   "execution_count": 8
  },
  {
   "cell_type": "markdown",
   "source": [
    "## 3. Model Building"
   ],
   "metadata": {
    "collapsed": false
   },
   "id": "736300954d6c140b"
  },
  {
   "cell_type": "markdown",
   "source": [
    "### 3.1. Quantum Layer"
   ],
   "metadata": {
    "collapsed": false
   },
   "id": "e0fbe9347ed9c2c8"
  },
  {
   "cell_type": "code",
   "outputs": [
    {
     "data": {
      "text/plain": "<Figure size 872.774x451.5 with 1 Axes>",
      "image/png": "[encoded data removed]"
     },
     "execution_count": 9,
     "metadata": {},
     "output_type": "execute_result"
    }
   ],
   "source": [
    "from qiskit_machine_learning.neural_networks import SamplerQNN\n",
    "from qiskit import QuantumCircuit\n",
    "from qiskit.circuit import ParameterVector\n",
    "\n",
    "\n",
    "def quantum_feature_map(n: int) -> QuantumCircuit:\n",
    "    circuit = QuantumCircuit(n)\n",
    "    features = ParameterVector(\"x\", n)\n",
    "    \n",
    "    for i in range(n):\n",
    "        circuit.rx(features[i], i)\n",
    "    \n",
    "    return circuit\n",
    "    \n",
    "def quantum_ansatz(n: int) -> QuantumCircuit:\n",
    "    # Creamos un circuito cuántico con n qubits.\n",
    "    circuit = QuantumCircuit(n)\n",
    "    weights = ParameterVector(\"w\", n * 3)\n",
    "    \n",
    "    # Asumiendo que 'weights' es una lista de valores de peso,\n",
    "    # y la longitud es suficiente para aplicar Rz a cada qubit.\n",
    "    for i in range(n):\n",
    "        circuit.rz(weights[i], i)\n",
    "        \n",
    "    # Aplicar más rotaciones, que en la imagen parecen ser Ry\n",
    "    for i in range(n):\n",
    "        circuit.ry(weights[n+i], i)\n",
    "        \n",
    "    for i in range(n):\n",
    "        circuit.rz(weights[2*n+i], i)\n",
    "        \n",
    "    # Aplicar entrelazamiento con puertas CNOT\n",
    "    for i in range(n-1):\n",
    "        circuit.cx(i, i+1)\n",
    "    circuit.cx(n-1, 0)\n",
    "    \n",
    "    return circuit\n",
    "\n",
    "# Define and create QNN\n",
    "def create_qnn(n):\n",
    "    feature_map = quantum_feature_map(n)\n",
    "    ansatz = quantum_ansatz(n)\n",
    "    \n",
    "    qc = QuantumCircuit(n)\n",
    "    qc.compose(feature_map, inplace=True)\n",
    "    qc.compose(ansatz, inplace=True)\n",
    "\n",
    "    # REMEMBER TO SET input_gradients=True FOR ENABLING HYBRID GRADIENT BACKPROP\n",
    "    qnn = SamplerQNN (\n",
    "        circuit=qc,\n",
    "        input_params=feature_map.parameters,\n",
    "        weight_params=ansatz.parameters,\n",
    "        input_gradients=True,\n",
    "    )\n",
    "    return qnn, qc\n",
    "\n",
    "qnn, qc = create_qnn(5)\n",
    "qc.draw(\"mpl\")"
   ],
   "metadata": {
    "collapsed": false,
    "ExecuteTime": {
     "end_time": "2024-05-16T08:47:56.963551Z",
     "start_time": "2024-05-16T08:47:53.487405Z"
    }
   },
   "id": "f3d980584768d91",
   "execution_count": 9
  },
  {
   "cell_type": "markdown",
   "source": [
    "### 3.2. Hybrid Neural Network"
   ],
   "metadata": {
    "collapsed": false
   },
   "id": "e2b6cd9b5fb141ad"
  },
  {
   "cell_type": "code",
   "outputs": [],
   "source": [
    "import torch\n",
    "import torch.nn as nn\n",
    "import torch.nn.functional as F\n",
    "import torch.optim as optim\n",
    "\n",
    "from qiskit_machine_learning.connectors import TorchConnector\n",
    "\n",
    "class HybridNN(nn.Module):\n",
    "    def __init__(self, input_shape, num_categories, n_qubits=5, fname=None):\n",
    "        super(HybridNN, self).__init__()\n",
    "        self.num_categories = num_categories\n",
    "\n",
    "        # Convolutional layers\n",
    "        #self.conv1 = nn.Conv1d(in_channels=input_shape[1], out_channels=16, kernel_size=4)\n",
    "        #self.bn1 = nn.BatchNorm1d(num_features=16)\n",
    "        #self.pool1 = nn.AvgPool1d(kernel_size=2)\n",
    "        \n",
    "        #self.conv2 = nn.Conv1d(in_channels=16, out_channels=32, kernel_size=5)\n",
    "        #self.bn2 = nn.BatchNorm1d(num_features=32)\n",
    "        #self.pool2 = nn.AvgPool1d(kernel_size=2)\n",
    "        \n",
    "        #self.conv3 = nn.Conv1d(in_channels=32, out_channels=64, kernel_size=3)\n",
    "        #self.bn3 = nn.BatchNorm1d(num_features=64)\n",
    "        #self.pool3 = nn.AvgPool1d(kernel_size=2)\n",
    "        \n",
    "        #self.conv4 = nn.Conv1d(in_channels=64, out_channels=128, kernel_size=3)\n",
    "        #self.bn4 = nn.BatchNorm1d(num_features=128)\n",
    "        #self.pool4 = nn.AvgPool1d(kernel_size=2)\n",
    "\n",
    "        # LSTM layers\n",
    "        self.lstm1 = nn.LSTM(input_size=29, hidden_size=29, batch_first=True)\n",
    "        self.lstm2 = nn.LSTM(input_size=29, hidden_size=29, batch_first=True)\n",
    "        \n",
    "        self.pool5 = nn.AvgPool1d(kernel_size=2)\n",
    "\n",
    "        # Dense layers\n",
    "        self.fc1 = nn.Linear(14, 14)\n",
    "        self.fc2 = nn.Linear(14, 14)\n",
    "\n",
    "        # Quantum layer\n",
    "        # self.fc3 = nn.Linear(14, n_qubits)\n",
    "        # self.qnn = TorchConnector(create_qnn(n_qubits)[0])\n",
    "\n",
    "        # Dense layer for classification\n",
    "        self.fc4 = nn.Linear(14, num_categories)\n",
    "\n",
    "        # Load pre-trained weights\n",
    "        if fname:\n",
    "            self.load_state_dict(torch.load(fname))\n",
    "\n",
    "    def forward(self, x):\n",
    "        #x = x.permute(0, 2, 1)\n",
    "\n",
    "        # Convolutional layers\n",
    "        #x = F.relu(self.bn1(self.conv1(x)))\n",
    "        #x = self.pool1(x)\n",
    "        \n",
    "        #x = F.relu(self.bn2(self.conv2(x)))\n",
    "        #x = self.pool2(x)\n",
    "        \n",
    "        #x = F.relu(self.bn3(self.conv3(x)))\n",
    "        #x = self.pool3(x)\n",
    "        \n",
    "        #x = F.relu(self.bn4(self.conv4(x)))\n",
    "        #x = self.pool4(x)\n",
    "\n",
    "        # Reshape for LSTM\n",
    "        #x = x.permute(0, 2, 1)\n",
    "        x, _ = self.lstm1(x)\n",
    "        x, _ = self.lstm2(x)\n",
    "        x = x[:, -1, :]\n",
    "\n",
    "        # Pool layer\n",
    "        x = self.pool5(x)\n",
    "\n",
    "        # Flatten the output for dense layer\n",
    "        x = torch.flatten(x, 1)\n",
    "\n",
    "        # Dense layers\n",
    "        x = F.relu(self.fc1(x))\n",
    "        x = F.relu(self.fc2(x))\n",
    "\n",
    "        # Quantum layer\n",
    "        # x = F.relu(self.fc3(x))\n",
    "        # x = self.qnn(x)\n",
    "\n",
    "        # Dense layer for classification\n",
    "        x = F.relu(self.fc4(x))\n",
    "        return x\n",
    "\n",
    "    def predict(self, x):\n",
    "        self.eval()\n",
    "        with torch.no_grad():\n",
    "            x = torch.tensor(x, dtype=torch.float32)\n",
    "            x = x.unsqueeze(0)\n",
    "            prediction = self.forward(x)\n",
    "        return prediction.numpy()"
   ],
   "metadata": {
    "collapsed": false,
    "ExecuteTime": {
     "end_time": "2024-05-16T08:47:56.979543Z",
     "start_time": "2024-05-16T08:47:56.965550Z"
    }
   },
   "id": "49624a778b84529c",
   "execution_count": 10
  },
  {
   "cell_type": "markdown",
   "source": [
    "## 4. Training the Model"
   ],
   "metadata": {
    "collapsed": false
   },
   "id": "b7fb9e3bc8e4a44f"
  },
  {
   "cell_type": "code",
   "outputs": [],
   "source": [
    "checkpoint_filepath = 'models/2edition_lstm/best_model_weights_ctrlpts.pth'"
   ],
   "metadata": {
    "collapsed": false,
    "ExecuteTime": {
     "end_time": "2024-05-16T08:47:56.995543Z",
     "start_time": "2024-05-16T08:47:56.982550Z"
    }
   },
   "id": "a033adbcc37ca961",
   "execution_count": 11
  },
  {
   "cell_type": "code",
   "outputs": [
    {
     "name": "stderr",
     "output_type": "stream",
     "text": [
      "100%|██████████| 200/200 [00:00<00:00, 206.51it/s]\n"
     ]
    },
    {
     "name": "stdout",
     "output_type": "stream",
     "text": [
      "Epoch 1, Accuracy: 0.74025, Loss: 0.4778503584861755, Validation Accuracy: 0.8955, Validation Loss: 0.2742972671985626\n"
     ]
    },
    {
     "name": "stderr",
     "output_type": "stream",
     "text": [
      "100%|██████████| 200/200 [00:01<00:00, 197.70it/s]\n"
     ]
    },
    {
     "name": "stdout",
     "output_type": "stream",
     "text": [
      "Epoch 2, Accuracy: 0.917125, Loss: 0.215846289973706, Validation Accuracy: 0.9215, Validation Loss: 0.20471349358558655\n"
     ]
    },
    {
     "name": "stderr",
     "output_type": "stream",
     "text": [
      "100%|██████████| 200/200 [00:00<00:00, 211.73it/s]\n"
     ]
    },
    {
     "name": "stdout",
     "output_type": "stream",
     "text": [
      "Epoch 3, Accuracy: 0.93575, Loss: 0.1715327504929155, Validation Accuracy: 0.922, Validation Loss: 0.2115464210510254\n"
     ]
    },
    {
     "name": "stderr",
     "output_type": "stream",
     "text": [
      "100%|██████████| 200/200 [00:00<00:00, 213.77it/s]\n"
     ]
    },
    {
     "name": "stdout",
     "output_type": "stream",
     "text": [
      "Epoch 4, Accuracy: 0.942625, Loss: 0.14951449024491012, Validation Accuracy: 0.929, Validation Loss: 0.18603016436100006\n"
     ]
    },
    {
     "name": "stderr",
     "output_type": "stream",
     "text": [
      "100%|██████████| 200/200 [00:01<00:00, 195.96it/s]\n"
     ]
    },
    {
     "name": "stdout",
     "output_type": "stream",
     "text": [
      "Epoch 5, Accuracy: 0.95175, Loss: 0.12714510182850064, Validation Accuracy: 0.9445, Validation Loss: 0.16131705045700073\n"
     ]
    },
    {
     "name": "stderr",
     "output_type": "stream",
     "text": [
      "100%|██████████| 200/200 [00:00<00:00, 212.90it/s]\n"
     ]
    },
    {
     "name": "stdout",
     "output_type": "stream",
     "text": [
      "Epoch 6, Accuracy: 0.955125, Loss: 0.12019713054411113, Validation Accuracy: 0.9405, Validation Loss: 0.16318462789058685\n"
     ]
    },
    {
     "name": "stderr",
     "output_type": "stream",
     "text": [
      "100%|██████████| 200/200 [00:00<00:00, 210.14it/s]\n"
     ]
    },
    {
     "name": "stdout",
     "output_type": "stream",
     "text": [
      "Epoch 7, Accuracy: 0.957375, Loss: 0.11504852547310293, Validation Accuracy: 0.9445, Validation Loss: 0.14579951763153076\n"
     ]
    },
    {
     "name": "stderr",
     "output_type": "stream",
     "text": [
      "100%|██████████| 200/200 [00:01<00:00, 196.23it/s]\n"
     ]
    },
    {
     "name": "stdout",
     "output_type": "stream",
     "text": [
      "Epoch 8, Accuracy: 0.962625, Loss: 0.1016802832018584, Validation Accuracy: 0.945, Validation Loss: 0.14628322422504425\n"
     ]
    },
    {
     "name": "stderr",
     "output_type": "stream",
     "text": [
      "100%|██████████| 200/200 [00:01<00:00, 191.40it/s]\n"
     ]
    },
    {
     "name": "stdout",
     "output_type": "stream",
     "text": [
      "Epoch 9, Accuracy: 0.961875, Loss: 0.09706958962138743, Validation Accuracy: 0.954, Validation Loss: 0.13042989373207092\n"
     ]
    },
    {
     "name": "stderr",
     "output_type": "stream",
     "text": [
      "100%|██████████| 200/200 [00:00<00:00, 200.72it/s]\n"
     ]
    },
    {
     "name": "stdout",
     "output_type": "stream",
     "text": [
      "Epoch 10, Accuracy: 0.968, Loss: 0.089690693304874, Validation Accuracy: 0.9535, Validation Loss: 0.13447177410125732\n"
     ]
    },
    {
     "name": "stderr",
     "output_type": "stream",
     "text": [
      "100%|██████████| 200/200 [00:00<00:00, 204.77it/s]\n"
     ]
    },
    {
     "name": "stdout",
     "output_type": "stream",
     "text": [
      "Epoch 11, Accuracy: 0.96975, Loss: 0.08136433800798841, Validation Accuracy: 0.9555, Validation Loss: 0.13859492540359497\n"
     ]
    },
    {
     "name": "stderr",
     "output_type": "stream",
     "text": [
      "100%|██████████| 200/200 [00:00<00:00, 213.51it/s]\n"
     ]
    },
    {
     "name": "stdout",
     "output_type": "stream",
     "text": [
      "Epoch 12, Accuracy: 0.9735, Loss: 0.07497580372844823, Validation Accuracy: 0.944, Validation Loss: 0.15287302434444427\n"
     ]
    },
    {
     "name": "stderr",
     "output_type": "stream",
     "text": [
      "100%|██████████| 200/200 [00:01<00:00, 194.94it/s]\n"
     ]
    },
    {
     "name": "stdout",
     "output_type": "stream",
     "text": [
      "Epoch 13, Accuracy: 0.97325, Loss: 0.07158058423083276, Validation Accuracy: 0.9545, Validation Loss: 0.12085112929344177\n"
     ]
    },
    {
     "name": "stderr",
     "output_type": "stream",
     "text": [
      "100%|██████████| 200/200 [00:01<00:00, 198.40it/s]\n"
     ]
    },
    {
     "name": "stdout",
     "output_type": "stream",
     "text": [
      "Epoch 14, Accuracy: 0.975375, Loss: 0.06618463338236324, Validation Accuracy: 0.9555, Validation Loss: 0.13999205827713013\n"
     ]
    },
    {
     "name": "stderr",
     "output_type": "stream",
     "text": [
      "100%|██████████| 200/200 [00:01<00:00, 199.91it/s]\n"
     ]
    },
    {
     "name": "stdout",
     "output_type": "stream",
     "text": [
      "Epoch 15, Accuracy: 0.978, Loss: 0.06121962279430591, Validation Accuracy: 0.9495, Validation Loss: 0.15583547949790955\n"
     ]
    },
    {
     "name": "stderr",
     "output_type": "stream",
     "text": [
      "100%|██████████| 200/200 [00:01<00:00, 196.51it/s]\n"
     ]
    },
    {
     "name": "stdout",
     "output_type": "stream",
     "text": [
      "Epoch 16, Accuracy: 0.981, Loss: 0.053357897904934365, Validation Accuracy: 0.953, Validation Loss: 0.14569194614887238\n"
     ]
    },
    {
     "name": "stderr",
     "output_type": "stream",
     "text": [
      "100%|██████████| 200/200 [00:00<00:00, 216.21it/s]\n"
     ]
    },
    {
     "name": "stdout",
     "output_type": "stream",
     "text": [
      "Epoch 17, Accuracy: 0.980875, Loss: 0.0538688329589786, Validation Accuracy: 0.956, Validation Loss: 0.13672779500484467\n"
     ]
    },
    {
     "name": "stderr",
     "output_type": "stream",
     "text": [
      "100%|██████████| 200/200 [00:00<00:00, 213.47it/s]\n"
     ]
    },
    {
     "name": "stdout",
     "output_type": "stream",
     "text": [
      "Epoch 18, Accuracy: 0.982125, Loss: 0.04840055566921365, Validation Accuracy: 0.956, Validation Loss: 0.16187013685703278\n"
     ]
    },
    {
     "name": "stderr",
     "output_type": "stream",
     "text": [
      "100%|██████████| 200/200 [00:01<00:00, 178.77it/s]\n"
     ]
    },
    {
     "name": "stdout",
     "output_type": "stream",
     "text": [
      "Epoch 19, Accuracy: 0.981875, Loss: 0.04970436262432486, Validation Accuracy: 0.955, Validation Loss: 0.13693702220916748\n"
     ]
    },
    {
     "name": "stderr",
     "output_type": "stream",
     "text": [
      "100%|██████████| 200/200 [00:01<00:00, 196.40it/s]\n"
     ]
    },
    {
     "name": "stdout",
     "output_type": "stream",
     "text": [
      "Epoch 20, Accuracy: 0.9865, Loss: 0.0392559221322881, Validation Accuracy: 0.958, Validation Loss: 0.14903473854064941\n"
     ]
    },
    {
     "name": "stderr",
     "output_type": "stream",
     "text": [
      "100%|██████████| 200/200 [00:00<00:00, 202.35it/s]\n"
     ]
    },
    {
     "name": "stdout",
     "output_type": "stream",
     "text": [
      "Epoch 21, Accuracy: 0.984875, Loss: 0.040721735972329046, Validation Accuracy: 0.955, Validation Loss: 0.15257102251052856\n"
     ]
    },
    {
     "name": "stderr",
     "output_type": "stream",
     "text": [
      "100%|██████████| 200/200 [00:01<00:00, 189.77it/s]\n"
     ]
    },
    {
     "name": "stdout",
     "output_type": "stream",
     "text": [
      "Epoch 22, Accuracy: 0.9885, Loss: 0.03327561779995449, Validation Accuracy: 0.96, Validation Loss: 0.17087498307228088\n"
     ]
    },
    {
     "name": "stderr",
     "output_type": "stream",
     "text": [
      "100%|██████████| 200/200 [00:01<00:00, 196.79it/s]\n"
     ]
    },
    {
     "name": "stdout",
     "output_type": "stream",
     "text": [
      "Epoch 23, Accuracy: 0.99075, Loss: 0.02842509080641321, Validation Accuracy: 0.946, Validation Loss: 0.21233941614627838\n"
     ]
    },
    {
     "name": "stderr",
     "output_type": "stream",
     "text": [
      "100%|██████████| 200/200 [00:01<00:00, 197.01it/s]\n"
     ]
    },
    {
     "name": "stdout",
     "output_type": "stream",
     "text": [
      "Epoch 24, Accuracy: 0.984375, Loss: 0.04288541784451809, Validation Accuracy: 0.962, Validation Loss: 0.14322242140769958\n"
     ]
    },
    {
     "name": "stderr",
     "output_type": "stream",
     "text": [
      "100%|██████████| 200/200 [00:01<00:00, 180.31it/s]\n"
     ]
    },
    {
     "name": "stdout",
     "output_type": "stream",
     "text": [
      "Epoch 25, Accuracy: 0.982625, Loss: 0.04614396548597142, Validation Accuracy: 0.9535, Validation Loss: 0.16875821352005005\n"
     ]
    },
    {
     "name": "stderr",
     "output_type": "stream",
     "text": [
      "100%|██████████| 200/200 [00:01<00:00, 192.62it/s]\n"
     ]
    },
    {
     "name": "stdout",
     "output_type": "stream",
     "text": [
      "Epoch 26, Accuracy: 0.99175, Loss: 0.02516989970637951, Validation Accuracy: 0.951, Validation Loss: 0.16158407926559448\n"
     ]
    },
    {
     "name": "stderr",
     "output_type": "stream",
     "text": [
      "100%|██████████| 200/200 [00:01<00:00, 191.54it/s]\n"
     ]
    },
    {
     "name": "stdout",
     "output_type": "stream",
     "text": [
      "Epoch 27, Accuracy: 0.994125, Loss: 0.018835963335586712, Validation Accuracy: 0.958, Validation Loss: 0.17483371496200562\n"
     ]
    },
    {
     "name": "stderr",
     "output_type": "stream",
     "text": [
      "100%|██████████| 200/200 [00:01<00:00, 197.43it/s]\n"
     ]
    },
    {
     "name": "stdout",
     "output_type": "stream",
     "text": [
      "Epoch 28, Accuracy: 0.99025, Loss: 0.026723111414466986, Validation Accuracy: 0.952, Validation Loss: 0.1655953824520111\n"
     ]
    },
    {
     "name": "stderr",
     "output_type": "stream",
     "text": [
      "100%|██████████| 200/200 [00:01<00:00, 198.97it/s]\n"
     ]
    },
    {
     "name": "stdout",
     "output_type": "stream",
     "text": [
      "Epoch 29, Accuracy: 0.989625, Loss: 0.02921929638570873, Validation Accuracy: 0.9575, Validation Loss: 0.148908793926239\n"
     ]
    },
    {
     "name": "stderr",
     "output_type": "stream",
     "text": [
      "100%|██████████| 200/200 [00:00<00:00, 215.24it/s]\n"
     ]
    },
    {
     "name": "stdout",
     "output_type": "stream",
     "text": [
      "Epoch 30, Accuracy: 0.995125, Loss: 0.015855149648996304, Validation Accuracy: 0.956, Validation Loss: 0.18963861465454102\n"
     ]
    },
    {
     "name": "stderr",
     "output_type": "stream",
     "text": [
      "100%|██████████| 200/200 [00:01<00:00, 199.07it/s]\n"
     ]
    },
    {
     "name": "stdout",
     "output_type": "stream",
     "text": [
      "Epoch 31, Accuracy: 0.993125, Loss: 0.019500333943178703, Validation Accuracy: 0.9565, Validation Loss: 0.19214487075805664\n"
     ]
    },
    {
     "name": "stderr",
     "output_type": "stream",
     "text": [
      "100%|██████████| 200/200 [00:00<00:00, 212.49it/s]\n"
     ]
    },
    {
     "name": "stdout",
     "output_type": "stream",
     "text": [
      "Epoch 32, Accuracy: 0.993, Loss: 0.018687359402319997, Validation Accuracy: 0.9605, Validation Loss: 0.1726313829421997\n"
     ]
    },
    {
     "name": "stderr",
     "output_type": "stream",
     "text": [
      "100%|██████████| 200/200 [00:00<00:00, 209.55it/s]\n"
     ]
    },
    {
     "name": "stdout",
     "output_type": "stream",
     "text": [
      "Epoch 33, Accuracy: 0.990375, Loss: 0.02417166084429482, Validation Accuracy: 0.959, Validation Loss: 0.1860104352235794\n"
     ]
    },
    {
     "name": "stderr",
     "output_type": "stream",
     "text": [
      "100%|██████████| 200/200 [00:00<00:00, 200.67it/s]\n"
     ]
    },
    {
     "name": "stdout",
     "output_type": "stream",
     "text": [
      "Epoch 34, Accuracy: 0.990625, Loss: 0.02589602502215712, Validation Accuracy: 0.9605, Validation Loss: 0.16057328879833221\n"
     ]
    },
    {
     "name": "stderr",
     "output_type": "stream",
     "text": [
      "100%|██████████| 200/200 [00:00<00:00, 213.84it/s]\n"
     ]
    },
    {
     "name": "stdout",
     "output_type": "stream",
     "text": [
      "Epoch 35, Accuracy: 0.993375, Loss: 0.020038763684715376, Validation Accuracy: 0.9625, Validation Loss: 0.16495805978775024\n"
     ]
    },
    {
     "name": "stderr",
     "output_type": "stream",
     "text": [
      "100%|██████████| 200/200 [00:01<00:00, 178.86it/s]\n"
     ]
    },
    {
     "name": "stdout",
     "output_type": "stream",
     "text": [
      "Epoch 36, Accuracy: 0.995625, Loss: 0.014309667416091543, Validation Accuracy: 0.9615, Validation Loss: 0.1959766000509262\n"
     ]
    },
    {
     "name": "stderr",
     "output_type": "stream",
     "text": [
      "100%|██████████| 200/200 [00:00<00:00, 213.35it/s]\n"
     ]
    },
    {
     "name": "stdout",
     "output_type": "stream",
     "text": [
      "Epoch 37, Accuracy: 0.996375, Loss: 0.011307812795275823, Validation Accuracy: 0.9635, Validation Loss: 0.1915585845708847\n"
     ]
    },
    {
     "name": "stderr",
     "output_type": "stream",
     "text": [
      "100%|██████████| 200/200 [00:00<00:00, 214.40it/s]\n"
     ]
    },
    {
     "name": "stdout",
     "output_type": "stream",
     "text": [
      "Epoch 38, Accuracy: 0.9945, Loss: 0.014452700548717985, Validation Accuracy: 0.9585, Validation Loss: 0.20172446966171265\n"
     ]
    },
    {
     "name": "stderr",
     "output_type": "stream",
     "text": [
      "100%|██████████| 200/200 [00:01<00:00, 192.07it/s]\n"
     ]
    },
    {
     "name": "stdout",
     "output_type": "stream",
     "text": [
      "Epoch 39, Accuracy: 0.995125, Loss: 0.014888345615509025, Validation Accuracy: 0.963, Validation Loss: 0.18017931282520294\n"
     ]
    },
    {
     "name": "stderr",
     "output_type": "stream",
     "text": [
      "100%|██████████| 200/200 [00:01<00:00, 192.35it/s]\n"
     ]
    },
    {
     "name": "stdout",
     "output_type": "stream",
     "text": [
      "Epoch 40, Accuracy: 0.99675, Loss: 0.009577363718417473, Validation Accuracy: 0.963, Validation Loss: 0.1926434189081192\n"
     ]
    },
    {
     "name": "stderr",
     "output_type": "stream",
     "text": [
      "100%|██████████| 200/200 [00:00<00:00, 210.85it/s]\n"
     ]
    },
    {
     "name": "stdout",
     "output_type": "stream",
     "text": [
      "Epoch 41, Accuracy: 0.996375, Loss: 0.011051142331925803, Validation Accuracy: 0.952, Validation Loss: 0.2406967729330063\n"
     ]
    },
    {
     "name": "stderr",
     "output_type": "stream",
     "text": [
      "100%|██████████| 200/200 [00:00<00:00, 207.90it/s]\n"
     ]
    },
    {
     "name": "stdout",
     "output_type": "stream",
     "text": [
      "Epoch 42, Accuracy: 0.992625, Loss: 0.020294892864149004, Validation Accuracy: 0.955, Validation Loss: 0.21813489496707916\n"
     ]
    },
    {
     "name": "stderr",
     "output_type": "stream",
     "text": [
      "100%|██████████| 200/200 [00:00<00:00, 221.47it/s]\n"
     ]
    },
    {
     "name": "stdout",
     "output_type": "stream",
     "text": [
      "Epoch 43, Accuracy: 0.995125, Loss: 0.015412788823650771, Validation Accuracy: 0.9555, Validation Loss: 0.21993595361709595\n"
     ]
    },
    {
     "name": "stderr",
     "output_type": "stream",
     "text": [
      "100%|██████████| 200/200 [00:01<00:00, 191.03it/s]\n"
     ]
    },
    {
     "name": "stdout",
     "output_type": "stream",
     "text": [
      "Epoch 44, Accuracy: 0.998625, Loss: 0.0045128511099756, Validation Accuracy: 0.9585, Validation Loss: 0.20330090820789337\n"
     ]
    },
    {
     "name": "stderr",
     "output_type": "stream",
     "text": [
      "100%|██████████| 200/200 [00:01<00:00, 195.15it/s]\n"
     ]
    },
    {
     "name": "stdout",
     "output_type": "stream",
     "text": [
      "Epoch 45, Accuracy: 0.992, Loss: 0.021520946125965567, Validation Accuracy: 0.9575, Validation Loss: 0.20020894706249237\n"
     ]
    },
    {
     "name": "stderr",
     "output_type": "stream",
     "text": [
      "100%|██████████| 200/200 [00:00<00:00, 206.31it/s]\n"
     ]
    },
    {
     "name": "stdout",
     "output_type": "stream",
     "text": [
      "Epoch 46, Accuracy: 0.99825, Loss: 0.006048353909573052, Validation Accuracy: 0.962, Validation Loss: 0.20133377611637115\n"
     ]
    },
    {
     "name": "stderr",
     "output_type": "stream",
     "text": [
      "100%|██████████| 200/200 [00:00<00:00, 207.17it/s]\n"
     ]
    },
    {
     "name": "stdout",
     "output_type": "stream",
     "text": [
      "Epoch 47, Accuracy: 0.99875, Loss: 0.004241305761347576, Validation Accuracy: 0.9625, Validation Loss: 0.21601097285747528\n"
     ]
    },
    {
     "name": "stderr",
     "output_type": "stream",
     "text": [
      "100%|██████████| 200/200 [00:01<00:00, 182.93it/s]\n"
     ]
    },
    {
     "name": "stdout",
     "output_type": "stream",
     "text": [
      "Epoch 48, Accuracy: 0.992625, Loss: 0.022451812296858407, Validation Accuracy: 0.957, Validation Loss: 0.2076588273048401\n"
     ]
    },
    {
     "name": "stderr",
     "output_type": "stream",
     "text": [
      "100%|██████████| 200/200 [00:01<00:00, 195.85it/s]\n"
     ]
    },
    {
     "name": "stdout",
     "output_type": "stream",
     "text": [
      "Epoch 49, Accuracy: 0.997125, Loss: 0.008583507259845646, Validation Accuracy: 0.96, Validation Loss: 0.19977493584156036\n"
     ]
    },
    {
     "name": "stderr",
     "output_type": "stream",
     "text": [
      "100%|██████████| 200/200 [00:00<00:00, 200.56it/s]\n"
     ]
    },
    {
     "name": "stdout",
     "output_type": "stream",
     "text": [
      "Epoch 50, Accuracy: 0.99975, Loss: 0.0020062597127616755, Validation Accuracy: 0.9625, Validation Loss: 0.20958948135375977\n"
     ]
    },
    {
     "name": "stderr",
     "output_type": "stream",
     "text": [
      "100%|██████████| 200/200 [00:00<00:00, 207.17it/s]\n"
     ]
    },
    {
     "name": "stdout",
     "output_type": "stream",
     "text": [
      "Epoch 51, Accuracy: 1.0, Loss: 0.0009079102288706054, Validation Accuracy: 0.9615, Validation Loss: 0.22747266292572021\n"
     ]
    },
    {
     "name": "stderr",
     "output_type": "stream",
     "text": [
      "100%|██████████| 200/200 [00:00<00:00, 226.31it/s]\n"
     ]
    },
    {
     "name": "stdout",
     "output_type": "stream",
     "text": [
      "Epoch 52, Accuracy: 1.0, Loss: 0.0005067663173258552, Validation Accuracy: 0.96, Validation Loss: 0.24346871674060822\n"
     ]
    },
    {
     "name": "stderr",
     "output_type": "stream",
     "text": [
      "100%|██████████| 200/200 [00:00<00:00, 224.16it/s]\n"
     ]
    },
    {
     "name": "stdout",
     "output_type": "stream",
     "text": [
      "Epoch 53, Accuracy: 1.0, Loss: 0.00035408359626217136, Validation Accuracy: 0.96, Validation Loss: 0.253534734249115\n"
     ]
    },
    {
     "name": "stderr",
     "output_type": "stream",
     "text": [
      "100%|██████████| 200/200 [00:01<00:00, 198.64it/s]\n"
     ]
    },
    {
     "name": "stdout",
     "output_type": "stream",
     "text": [
      "Epoch 54, Accuracy: 1.0, Loss: 0.0002695117412577019, Validation Accuracy: 0.961, Validation Loss: 0.2627921998500824\n"
     ]
    },
    {
     "name": "stderr",
     "output_type": "stream",
     "text": [
      "100%|██████████| 200/200 [00:00<00:00, 223.62it/s]\n"
     ]
    },
    {
     "name": "stdout",
     "output_type": "stream",
     "text": [
      "Epoch 55, Accuracy: 1.0, Loss: 0.00021783843794992208, Validation Accuracy: 0.9605, Validation Loss: 0.27045658230781555\n"
     ]
    },
    {
     "name": "stderr",
     "output_type": "stream",
     "text": [
      "100%|██████████| 200/200 [00:00<00:00, 208.99it/s]\n"
     ]
    },
    {
     "name": "stdout",
     "output_type": "stream",
     "text": [
      "Epoch 56, Accuracy: 1.0, Loss: 0.0001776265388093634, Validation Accuracy: 0.961, Validation Loss: 0.2780798673629761\n"
     ]
    },
    {
     "name": "stderr",
     "output_type": "stream",
     "text": [
      "100%|██████████| 200/200 [00:00<00:00, 215.66it/s]\n"
     ]
    },
    {
     "name": "stdout",
     "output_type": "stream",
     "text": [
      "Epoch 57, Accuracy: 1.0, Loss: 0.00014784425174639183, Validation Accuracy: 0.961, Validation Loss: 0.28463923931121826\n"
     ]
    },
    {
     "name": "stderr",
     "output_type": "stream",
     "text": [
      "100%|██████████| 200/200 [00:00<00:00, 222.70it/s]\n"
     ]
    },
    {
     "name": "stdout",
     "output_type": "stream",
     "text": [
      "Epoch 58, Accuracy: 1.0, Loss: 0.0001249838004537196, Validation Accuracy: 0.962, Validation Loss: 0.29431265592575073\n"
     ]
    },
    {
     "name": "stderr",
     "output_type": "stream",
     "text": [
      "100%|██████████| 200/200 [00:01<00:00, 199.12it/s]\n"
     ]
    },
    {
     "name": "stdout",
     "output_type": "stream",
     "text": [
      "Epoch 59, Accuracy: 1.0, Loss: 0.00010537392601690954, Validation Accuracy: 0.962, Validation Loss: 0.3009819984436035\n"
     ]
    },
    {
     "name": "stderr",
     "output_type": "stream",
     "text": [
      "100%|██████████| 200/200 [00:00<00:00, 204.75it/s]\n"
     ]
    },
    {
     "name": "stdout",
     "output_type": "stream",
     "text": [
      "Epoch 60, Accuracy: 1.0, Loss: 8.956937847642621e-05, Validation Accuracy: 0.962, Validation Loss: 0.3080853223800659\n"
     ]
    },
    {
     "name": "stderr",
     "output_type": "stream",
     "text": [
      "100%|██████████| 200/200 [00:01<00:00, 191.81it/s]\n"
     ]
    },
    {
     "name": "stdout",
     "output_type": "stream",
     "text": [
      "Epoch 61, Accuracy: 1.0, Loss: 7.69758954675126e-05, Validation Accuracy: 0.963, Validation Loss: 0.3143729269504547\n"
     ]
    },
    {
     "name": "stderr",
     "output_type": "stream",
     "text": [
      "100%|██████████| 200/200 [00:01<00:00, 177.75it/s]\n"
     ]
    },
    {
     "name": "stdout",
     "output_type": "stream",
     "text": [
      "Epoch 62, Accuracy: 1.0, Loss: 6.666787699600718e-05, Validation Accuracy: 0.963, Validation Loss: 0.3206363320350647\n"
     ]
    },
    {
     "name": "stderr",
     "output_type": "stream",
     "text": [
      "100%|██████████| 200/200 [00:01<00:00, 196.28it/s]\n"
     ]
    },
    {
     "name": "stdout",
     "output_type": "stream",
     "text": [
      "Epoch 63, Accuracy: 1.0, Loss: 5.741665063112578e-05, Validation Accuracy: 0.9635, Validation Loss: 0.32598790526390076\n"
     ]
    },
    {
     "name": "stderr",
     "output_type": "stream",
     "text": [
      "100%|██████████| 200/200 [00:01<00:00, 196.51it/s]\n"
     ]
    },
    {
     "name": "stdout",
     "output_type": "stream",
     "text": [
      "Epoch 64, Accuracy: 1.0, Loss: 4.9997990295480577e-05, Validation Accuracy: 0.9635, Validation Loss: 0.3321548402309418\n"
     ]
    },
    {
     "name": "stderr",
     "output_type": "stream",
     "text": [
      "100%|██████████| 200/200 [00:01<00:00, 175.74it/s]\n"
     ]
    },
    {
     "name": "stdout",
     "output_type": "stream",
     "text": [
      "Epoch 65, Accuracy: 1.0, Loss: 4.3410568531783154e-05, Validation Accuracy: 0.963, Validation Loss: 0.33942124247550964\n"
     ]
    },
    {
     "name": "stderr",
     "output_type": "stream",
     "text": [
      "100%|██████████| 200/200 [00:00<00:00, 201.80it/s]\n"
     ]
    },
    {
     "name": "stdout",
     "output_type": "stream",
     "text": [
      "Epoch 66, Accuracy: 1.0, Loss: 3.79393310780074e-05, Validation Accuracy: 0.9625, Validation Loss: 0.3451218903064728\n"
     ]
    },
    {
     "name": "stderr",
     "output_type": "stream",
     "text": [
      "100%|██████████| 200/200 [00:02<00:00, 94.33it/s] \n"
     ]
    },
    {
     "name": "stdout",
     "output_type": "stream",
     "text": [
      "Epoch 67, Accuracy: 1.0, Loss: 3.318702201056567e-05, Validation Accuracy: 0.9635, Validation Loss: 0.349394828081131\n"
     ]
    },
    {
     "name": "stderr",
     "output_type": "stream",
     "text": [
      "100%|██████████| 200/200 [00:00<00:00, 214.78it/s]\n"
     ]
    },
    {
     "name": "stdout",
     "output_type": "stream",
     "text": [
      "Epoch 68, Accuracy: 1.0, Loss: 2.9134498634633132e-05, Validation Accuracy: 0.9635, Validation Loss: 0.3557608425617218\n"
     ]
    },
    {
     "name": "stderr",
     "output_type": "stream",
     "text": [
      "100%|██████████| 200/200 [00:00<00:00, 211.29it/s]\n"
     ]
    },
    {
     "name": "stdout",
     "output_type": "stream",
     "text": [
      "Epoch 69, Accuracy: 1.0, Loss: 2.540742085298753e-05, Validation Accuracy: 0.9635, Validation Loss: 0.3605034649372101\n"
     ]
    },
    {
     "name": "stderr",
     "output_type": "stream",
     "text": [
      "100%|██████████| 200/200 [00:01<00:00, 192.74it/s]\n"
     ]
    },
    {
     "name": "stdout",
     "output_type": "stream",
     "text": [
      "Epoch 70, Accuracy: 1.0, Loss: 2.247092553204766e-05, Validation Accuracy: 0.9635, Validation Loss: 0.3668915927410126\n"
     ]
    },
    {
     "name": "stderr",
     "output_type": "stream",
     "text": [
      "100%|██████████| 200/200 [00:01<00:00, 199.27it/s]\n"
     ]
    },
    {
     "name": "stdout",
     "output_type": "stream",
     "text": [
      "Epoch 71, Accuracy: 1.0, Loss: 1.971138196214639e-05, Validation Accuracy: 0.9635, Validation Loss: 0.37154853343963623\n"
     ]
    },
    {
     "name": "stderr",
     "output_type": "stream",
     "text": [
      "100%|██████████| 200/200 [00:00<00:00, 220.29it/s]\n"
     ]
    },
    {
     "name": "stdout",
     "output_type": "stream",
     "text": [
      "Epoch 72, Accuracy: 1.0, Loss: 1.7308750694340347e-05, Validation Accuracy: 0.963, Validation Loss: 0.37770187854766846\n"
     ]
    },
    {
     "name": "stderr",
     "output_type": "stream",
     "text": [
      "100%|██████████| 200/200 [00:00<00:00, 209.75it/s]\n"
     ]
    },
    {
     "name": "stdout",
     "output_type": "stream",
     "text": [
      "Epoch 73, Accuracy: 1.0, Loss: 1.528662553706539e-05, Validation Accuracy: 0.963, Validation Loss: 0.3830513656139374\n"
     ]
    },
    {
     "name": "stderr",
     "output_type": "stream",
     "text": [
      "100%|██████████| 200/200 [00:00<00:00, 210.04it/s]\n"
     ]
    },
    {
     "name": "stdout",
     "output_type": "stream",
     "text": [
      "Epoch 74, Accuracy: 1.0, Loss: 1.3540097483759616e-05, Validation Accuracy: 0.963, Validation Loss: 0.3882371485233307\n"
     ]
    },
    {
     "name": "stderr",
     "output_type": "stream",
     "text": [
      "100%|██████████| 200/200 [00:00<00:00, 215.90it/s]\n"
     ]
    },
    {
     "name": "stdout",
     "output_type": "stream",
     "text": [
      "Epoch 75, Accuracy: 1.0, Loss: 1.191767186774051e-05, Validation Accuracy: 0.963, Validation Loss: 0.3932531774044037\n"
     ]
    },
    {
     "name": "stderr",
     "output_type": "stream",
     "text": [
      "100%|██████████| 200/200 [00:00<00:00, 200.85it/s]\n"
     ]
    },
    {
     "name": "stdout",
     "output_type": "stream",
     "text": [
      "Epoch 76, Accuracy: 1.0, Loss: 1.054205759006166e-05, Validation Accuracy: 0.963, Validation Loss: 0.3982398211956024\n"
     ]
    },
    {
     "name": "stderr",
     "output_type": "stream",
     "text": [
      "100%|██████████| 200/200 [00:00<00:00, 224.19it/s]\n"
     ]
    },
    {
     "name": "stdout",
     "output_type": "stream",
     "text": [
      "Epoch 77, Accuracy: 1.0, Loss: 9.291883814341872e-06, Validation Accuracy: 0.963, Validation Loss: 0.40425652265548706\n"
     ]
    },
    {
     "name": "stderr",
     "output_type": "stream",
     "text": [
      "100%|██████████| 200/200 [00:00<00:00, 218.27it/s]\n"
     ]
    },
    {
     "name": "stdout",
     "output_type": "stream",
     "text": [
      "Epoch 78, Accuracy: 1.0, Loss: 8.2881059185258e-06, Validation Accuracy: 0.963, Validation Loss: 0.4087247848510742\n"
     ]
    },
    {
     "name": "stderr",
     "output_type": "stream",
     "text": [
      "100%|██████████| 200/200 [00:01<00:00, 195.84it/s]\n"
     ]
    },
    {
     "name": "stdout",
     "output_type": "stream",
     "text": [
      "Epoch 79, Accuracy: 1.0, Loss: 7.265987959002018e-06, Validation Accuracy: 0.963, Validation Loss: 0.4136281907558441\n"
     ]
    },
    {
     "name": "stderr",
     "output_type": "stream",
     "text": [
      "100%|██████████| 200/200 [00:00<00:00, 209.57it/s]\n"
     ]
    },
    {
     "name": "stdout",
     "output_type": "stream",
     "text": [
      "Epoch 80, Accuracy: 1.0, Loss: 6.465678162665967e-06, Validation Accuracy: 0.963, Validation Loss: 0.4202994406223297\n"
     ]
    },
    {
     "name": "stderr",
     "output_type": "stream",
     "text": [
      "100%|██████████| 200/200 [00:01<00:00, 175.68it/s]\n"
     ]
    },
    {
     "name": "stdout",
     "output_type": "stream",
     "text": [
      "Epoch 81, Accuracy: 1.0, Loss: 5.731641247219699e-06, Validation Accuracy: 0.963, Validation Loss: 0.4246189594268799\n"
     ]
    },
    {
     "name": "stderr",
     "output_type": "stream",
     "text": [
      "100%|██████████| 200/200 [00:01<00:00, 141.96it/s]\n"
     ]
    },
    {
     "name": "stdout",
     "output_type": "stream",
     "text": [
      "Epoch 82, Accuracy: 1.0, Loss: 5.0272612976209885e-06, Validation Accuracy: 0.963, Validation Loss: 0.4277869462966919\n"
     ]
    },
    {
     "name": "stderr",
     "output_type": "stream",
     "text": [
      "100%|██████████| 200/200 [00:01<00:00, 133.66it/s]\n"
     ]
    },
    {
     "name": "stdout",
     "output_type": "stream",
     "text": [
      "Epoch 83, Accuracy: 1.0, Loss: 4.507215518843033e-06, Validation Accuracy: 0.963, Validation Loss: 0.43436554074287415\n"
     ]
    },
    {
     "name": "stderr",
     "output_type": "stream",
     "text": [
      "100%|██████████| 200/200 [00:01<00:00, 147.58it/s]\n"
     ]
    },
    {
     "name": "stdout",
     "output_type": "stream",
     "text": [
      "Epoch 84, Accuracy: 1.0, Loss: 3.990712063344226e-06, Validation Accuracy: 0.963, Validation Loss: 0.4396411180496216\n"
     ]
    },
    {
     "name": "stderr",
     "output_type": "stream",
     "text": [
      "100%|██████████| 200/200 [00:00<00:00, 201.62it/s]\n"
     ]
    },
    {
     "name": "stdout",
     "output_type": "stream",
     "text": [
      "Epoch 85, Accuracy: 1.0, Loss: 3.543821118277002e-06, Validation Accuracy: 0.963, Validation Loss: 0.4454963803291321\n"
     ]
    },
    {
     "name": "stderr",
     "output_type": "stream",
     "text": [
      "100%|██████████| 200/200 [00:00<00:00, 214.64it/s]\n"
     ]
    },
    {
     "name": "stdout",
     "output_type": "stream",
     "text": [
      "Epoch 86, Accuracy: 1.0, Loss: 3.1312437114916493e-06, Validation Accuracy: 0.963, Validation Loss: 0.4486227035522461\n"
     ]
    },
    {
     "name": "stderr",
     "output_type": "stream",
     "text": [
      "100%|██████████| 200/200 [00:01<00:00, 194.40it/s]\n"
     ]
    },
    {
     "name": "stdout",
     "output_type": "stream",
     "text": [
      "Epoch 87, Accuracy: 1.0, Loss: 2.801209799074833e-06, Validation Accuracy: 0.963, Validation Loss: 0.45413196086883545\n"
     ]
    },
    {
     "name": "stderr",
     "output_type": "stream",
     "text": [
      "100%|██████████| 200/200 [00:01<00:00, 195.09it/s]\n"
     ]
    },
    {
     "name": "stdout",
     "output_type": "stream",
     "text": [
      "Epoch 88, Accuracy: 1.0, Loss: 2.47908285970988e-06, Validation Accuracy: 0.963, Validation Loss: 0.4597637951374054\n"
     ]
    },
    {
     "name": "stderr",
     "output_type": "stream",
     "text": [
      "100%|██████████| 200/200 [00:01<00:00, 195.30it/s]\n"
     ]
    },
    {
     "name": "stdout",
     "output_type": "stream",
     "text": [
      "Epoch 89, Accuracy: 1.0, Loss: 2.197962339129944e-06, Validation Accuracy: 0.963, Validation Loss: 0.46509847044944763\n"
     ]
    },
    {
     "name": "stderr",
     "output_type": "stream",
     "text": [
      "100%|██████████| 200/200 [00:01<00:00, 167.83it/s]\n"
     ]
    },
    {
     "name": "stdout",
     "output_type": "stream",
     "text": [
      "Epoch 90, Accuracy: 1.0, Loss: 1.9511148496698106e-06, Validation Accuracy: 0.963, Validation Loss: 0.4704345762729645\n"
     ]
    },
    {
     "name": "stderr",
     "output_type": "stream",
     "text": [
      "100%|██████████| 200/200 [00:01<00:00, 190.27it/s]\n"
     ]
    },
    {
     "name": "stdout",
     "output_type": "stream",
     "text": [
      "Epoch 91, Accuracy: 1.0, Loss: 1.7254199835026185e-06, Validation Accuracy: 0.963, Validation Loss: 0.4753696918487549\n"
     ]
    },
    {
     "name": "stderr",
     "output_type": "stream",
     "text": [
      "100%|██████████| 200/200 [00:01<00:00, 193.83it/s]\n"
     ]
    },
    {
     "name": "stdout",
     "output_type": "stream",
     "text": [
      "Epoch 92, Accuracy: 1.0, Loss: 1.5364197546130497e-06, Validation Accuracy: 0.963, Validation Loss: 0.48016372323036194\n"
     ]
    },
    {
     "name": "stderr",
     "output_type": "stream",
     "text": [
      "100%|██████████| 200/200 [00:01<00:00, 190.84it/s]\n"
     ]
    },
    {
     "name": "stdout",
     "output_type": "stream",
     "text": [
      "Epoch 93, Accuracy: 1.0, Loss: 1.3717776711552609e-06, Validation Accuracy: 0.9625, Validation Loss: 0.48537105321884155\n"
     ]
    },
    {
     "name": "stderr",
     "output_type": "stream",
     "text": [
      "100%|██████████| 200/200 [00:00<00:00, 224.24it/s]\n"
     ]
    },
    {
     "name": "stdout",
     "output_type": "stream",
     "text": [
      "Epoch 94, Accuracy: 1.0, Loss: 1.2096988554932686e-06, Validation Accuracy: 0.9625, Validation Loss: 0.49077335000038147\n"
     ]
    },
    {
     "name": "stderr",
     "output_type": "stream",
     "text": [
      "100%|██████████| 200/200 [00:00<00:00, 203.38it/s]\n"
     ]
    },
    {
     "name": "stdout",
     "output_type": "stream",
     "text": [
      "Epoch 95, Accuracy: 1.0, Loss: 1.0805145244274783e-06, Validation Accuracy: 0.9625, Validation Loss: 0.49484702944755554\n"
     ]
    },
    {
     "name": "stderr",
     "output_type": "stream",
     "text": [
      "100%|██████████| 200/200 [00:00<00:00, 200.63it/s]\n"
     ]
    },
    {
     "name": "stdout",
     "output_type": "stream",
     "text": [
      "Epoch 96, Accuracy: 1.0, Loss: 9.531499093573537e-07, Validation Accuracy: 0.963, Validation Loss: 0.5011743307113647\n"
     ]
    },
    {
     "name": "stderr",
     "output_type": "stream",
     "text": [
      "100%|██████████| 200/200 [00:00<00:00, 215.16it/s]\n"
     ]
    },
    {
     "name": "stdout",
     "output_type": "stream",
     "text": [
      "Epoch 97, Accuracy: 1.0, Loss: 8.495643483263926e-07, Validation Accuracy: 0.9625, Validation Loss: 0.5041916370391846\n"
     ]
    },
    {
     "name": "stderr",
     "output_type": "stream",
     "text": [
      "100%|██████████| 200/200 [00:00<00:00, 212.95it/s]\n"
     ]
    },
    {
     "name": "stdout",
     "output_type": "stream",
     "text": [
      "Epoch 98, Accuracy: 1.0, Loss: 7.596403567977639e-07, Validation Accuracy: 0.962, Validation Loss: 0.5103282332420349\n"
     ]
    },
    {
     "name": "stderr",
     "output_type": "stream",
     "text": [
      "100%|██████████| 200/200 [00:01<00:00, 179.68it/s]\n"
     ]
    },
    {
     "name": "stdout",
     "output_type": "stream",
     "text": [
      "Epoch 99, Accuracy: 1.0, Loss: 6.736650804617384e-07, Validation Accuracy: 0.9625, Validation Loss: 0.5157188773155212\n"
     ]
    },
    {
     "name": "stderr",
     "output_type": "stream",
     "text": [
      "100%|██████████| 200/200 [00:00<00:00, 212.26it/s]"
     ]
    },
    {
     "name": "stdout",
     "output_type": "stream",
     "text": [
      "Epoch 100, Accuracy: 1.0, Loss: 6.01009970968569e-07, Validation Accuracy: 0.9625, Validation Loss: 0.5194582939147949\n"
     ]
    },
    {
     "name": "stderr",
     "output_type": "stream",
     "text": [
      "\n"
     ]
    }
   ],
   "source": [
    "from tqdm import tqdm\n",
    "\n",
    "input_shape = (95, 3)\n",
    "model = HybridNN(input_shape, len(classes)).to(device)\n",
    "\n",
    "# Define optimizer and loss function\n",
    "optimizer = optim.Adam(model.parameters(), lr=0.001)\n",
    "criterion = nn.CrossEntropyLoss()\n",
    "\n",
    "# Function to evaluate the model on validation data\n",
    "def evaluate(model, test_loader):\n",
    "    model.eval()\n",
    "    total_correct = 0\n",
    "    total_loss = 0\n",
    "    total_samples = 0\n",
    "    with torch.no_grad():\n",
    "        for inputs, targets in test_loader:\n",
    "            outputs = model(inputs)\n",
    "            _, predicted = torch.max(outputs.data, 1)\n",
    "            total_samples += targets.size(0)\n",
    "            \n",
    "            total_loss += criterion(outputs, targets)\n",
    "            total_correct += (predicted == targets).sum().item()\n",
    "    model.train()\n",
    "    return total_correct / total_samples, total_loss / len(test_loader)\n",
    "\n",
    "# Training loop\n",
    "best_accuracy = 0\n",
    "accuracy_list = []\n",
    "loss_list = []\n",
    "\n",
    "val_accuracy_list = []\n",
    "val_loss_list = []\n",
    "\n",
    "for epoch in range(100):\n",
    "    model.train()\n",
    "\n",
    "    total_loss = []\n",
    "    \n",
    "    total_correct = 0\n",
    "    total_samples = 0\n",
    "    for inputs, labels in tqdm(train_loader):\n",
    "        # Forward pass\n",
    "        optimizer.zero_grad(set_to_none=True)\n",
    "        outputs = model(inputs)\n",
    "\n",
    "        # Calculate loss\n",
    "        loss = criterion(outputs, labels)\n",
    "        loss.backward()\n",
    "\n",
    "        _, predicted = torch.max(outputs.data, 1)\n",
    "        total_correct += (predicted == labels).sum().item()\n",
    "\n",
    "        # Backward pass\n",
    "        optimizer.step()\n",
    "        total_loss.append(loss.item())\n",
    "\n",
    "        total_samples += 1\n",
    "\n",
    "    # Evaluate the model on the validation data after each epoch\n",
    "    val_accuracy, val_loss = evaluate(model, test_loader)\n",
    "    val_accuracy_list.append(val_accuracy)\n",
    "    val_loss_list.append(val_loss)\n",
    "    \n",
    "    accuracy_list.append(total_correct / len(train_loader.dataset))\n",
    "    loss_list.append(sum(total_loss) / len(train_loader))\n",
    "    \n",
    "    print(f'Epoch {epoch + 1}, Accuracy: {total_correct / len(train_loader.dataset)}, Loss: {sum(total_loss) / len(train_loader)}, Validation Accuracy: {val_accuracy}, Validation Loss: {val_loss}')\n",
    "\n",
    "    # Checkpointing\n",
    "    if val_accuracy > best_accuracy:\n",
    "        best_accuracy = val_accuracy\n",
    "        torch.save(model.state_dict(), checkpoint_filepath)"
   ],
   "metadata": {
    "collapsed": false,
    "ExecuteTime": {
     "end_time": "2024-05-13T21:16:33.805201Z",
     "start_time": "2024-05-13T21:14:44.166610Z"
    }
   },
   "id": "68ae5740a75d5963",
   "execution_count": 11
  },
  {
   "cell_type": "markdown",
   "source": [
    "## 5. Model Evaluation"
   ],
   "metadata": {
    "collapsed": false
   },
   "id": "35b80d71823b6294"
  },
  {
   "cell_type": "code",
   "outputs": [
    {
     "data": {
      "text/plain": "<matplotlib.legend.Legend at 0x19e7f5853f0>"
     },
     "execution_count": 12,
     "metadata": {},
     "output_type": "execute_result"
    },
    {
     "data": {
      "text/plain": "<Figure size 1000x500 with 2 Axes>",
      "image/png": "[encoded data removed]"
     },
     "metadata": {},
     "output_type": "display_data"
    }
   ],
   "source": [
    "import matplotlib.pyplot as plt\n",
    "\n",
    "# Plot the training and validation loss\n",
    "plt.figure(figsize=(10, 5))\n",
    "plt.subplot(1, 2, 1)\n",
    "plt.plot(loss_list, label='Training Loss')\n",
    "plt.plot(val_loss_list, label='Validation Loss')\n",
    "plt.title('Training Loss')\n",
    "plt.xlabel('Epoch')\n",
    "plt.ylabel('Loss')\n",
    "plt.legend()\n",
    "\n",
    "# Plot the training and validation accuracy\n",
    "plt.subplot(1, 2, 2)\n",
    "plt.plot(accuracy_list, label='Training Accuracy')\n",
    "plt.plot(val_accuracy_list, label='Validation Accuracy')\n",
    "plt.title('Validation Accuracy')\n",
    "plt.xlabel('Epoch')\n",
    "plt.ylabel('Accuracy')\n",
    "plt.legend()"
   ],
   "metadata": {
    "collapsed": false,
    "ExecuteTime": {
     "end_time": "2024-05-13T21:16:37.662075200Z",
     "start_time": "2024-05-13T21:16:37.269912500Z"
    }
   },
   "id": "ee82c8612d017e5",
   "execution_count": 12
  },
  {
   "cell_type": "code",
   "outputs": [],
   "source": [
    "input_shape = (95, 3)\n",
    "model = HybridNN(input_shape, num_categories=len(classes), fname=checkpoint_filepath)\n",
    "#y_pred = model.predict(X_test)"
   ],
   "metadata": {
    "collapsed": false,
    "ExecuteTime": {
     "end_time": "2024-05-16T08:47:58.282544Z",
     "start_time": "2024-05-16T08:47:58.253548Z"
    }
   },
   "id": "521e85186e9fe105",
   "execution_count": 12
  },
  {
   "cell_type": "code",
   "outputs": [
    {
     "data": {
      "text/plain": "14370"
     },
     "execution_count": 13,
     "metadata": {},
     "output_type": "execute_result"
    }
   ],
   "source": [
    "sum(p.numel() for p in model.parameters() if p.requires_grad)"
   ],
   "metadata": {
    "collapsed": false,
    "ExecuteTime": {
     "end_time": "2024-05-16T08:48:43.540434Z",
     "start_time": "2024-05-16T08:48:43.521436Z"
    }
   },
   "id": "160513601d237059",
   "execution_count": 13
  },
  {
   "cell_type": "code",
   "outputs": [],
   "source": [
    "pred = np.argmax(y_pred.data, axis=1)"
   ],
   "metadata": {
    "collapsed": false,
    "is_executing": true
   },
   "id": "677944e12e22c159",
   "execution_count": null
  },
  {
   "cell_type": "code",
   "outputs": [],
   "source": [
    "from sklearn.metrics import confusion_matrix\n",
    "import seaborn as sns\n",
    "\n",
    "\n",
    "def plot_confusion_matrix(y_true, y_pred):\n",
    "    cm = confusion_matrix(y_true, y_pred)\n",
    "    plt.figure(figsize=(8, 6))\n",
    "    sns.heatmap(cm, annot=True, fmt='d', cmap='Blues', cbar=True)\n",
    "    plt.xlabel('Predicted Label')\n",
    "    plt.ylabel('True Label')\n",
    "    plt.title('Confusion Matrix')\n",
    "    plt.show()\n",
    "\n",
    "plot_confusion_matrix(y_test.astype(np.int8), np.argmax(y_pred, axis=1))"
   ],
   "metadata": {
    "collapsed": false,
    "is_executing": true
   },
   "id": "bc3613a0cfaa9d2f",
   "execution_count": null
  }
 ],
 "metadata": {
  "kernelspec": {
   "display_name": "Python 3",
   "language": "python",
   "name": "python3"
  },
  "language_info": {
   "codemirror_mode": {
    "name": "ipython",
    "version": 2
   },
   "file_extension": ".py",
   "mimetype": "text/x-python",
   "name": "python",
   "nbconvert_exporter": "python",
   "pygments_lexer": "ipython2",
   "version": "2.7.6"
  }
 },
 "nbformat": 4,
 "nbformat_minor": 5
}
