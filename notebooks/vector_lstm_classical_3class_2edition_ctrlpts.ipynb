{
 "cells": [
  {
   "cell_type": "markdown",
   "source": [
    "# Classifier using LSTM layers"
   ],
   "metadata": {
    "collapsed": false,
    "id": "5229e8479776427a"
   },
   "id": "5229e8479776427a"
  },
  {
   "cell_type": "markdown",
   "source": [
    "## 1. Importing Libraries"
   ],
   "metadata": {
    "collapsed": false,
    "id": "39f18e42aad23ab2"
   },
   "id": "39f18e42aad23ab2"
  },
  {
   "cell_type": "code",
   "execution_count": 13,
   "id": "initial_id",
   "metadata": {
    "collapsed": true,
    "colab": {
     "base_uri": "https://localhost:8080/"
    },
    "id": "initial_id",
    "outputId": "a199ac04-45b0-4a7d-ef7d-d8acae5a4fc1",
    "ExecuteTime": {
     "end_time": "2024-05-20T20:14:31.763588100Z",
     "start_time": "2024-05-20T20:14:31.725582400Z"
    }
   },
   "outputs": [
    {
     "name": "stdout",
     "output_type": "stream",
     "text": [
      "cuda\n"
     ]
    }
   ],
   "source": [
    "import torch\n",
    "\n",
    "import numpy as np\n",
    "\n",
    "data_folder = '../data/ctrpts'\n",
    "\n",
    "EPOCHS = 10\n",
    "BATCH_SIZE = 64\n",
    "\n",
    "MAX_SEQ_LENGTH = 95\n",
    "\n",
    "device = torch.device(\"cuda\" if torch.cuda.is_available() else \"cpu\")\n",
    "print(device)"
   ]
  },
  {
   "cell_type": "markdown",
   "source": [
    "## 2. Data Preprocessing"
   ],
   "metadata": {
    "collapsed": false,
    "id": "5b992f62c4ee6b1e"
   },
   "id": "5b992f62c4ee6b1e"
  },
  {
   "cell_type": "markdown",
   "source": [
    "### 2.1. Loading the data"
   ],
   "metadata": {
    "collapsed": false,
    "id": "daf8e6a6a64418c0"
   },
   "id": "daf8e6a6a64418c0"
  },
  {
   "cell_type": "code",
   "outputs": [
    {
     "data": {
      "text/plain": "{'calculator': 0, 'camera': 1, 'cell phone': 2}"
     },
     "execution_count": 14,
     "metadata": {},
     "output_type": "execute_result"
    }
   ],
   "source": [
    "import os\n",
    "\n",
    "\n",
    "def get_categories_from_data(folder, n=None):\n",
    "    \"\"\"\n",
    "    This function retrieves category names from file names in a specified folder. \n",
    "    The category name is assumed to be a substring of the file name, starting from the 17th character and ending 7 characters before the end of the file name.\n",
    "    If the substring is empty, it is not added to the list of categories.\n",
    "    If a limit 'n' is specified, only the first 'n' categories are returned.\n",
    "\n",
    "    Parameters:\n",
    "    folder (str): The path to the folder containing the files.\n",
    "    n (int, optional): The maximum number of categories to return. If not specified, all categories are returned.\n",
    "\n",
    "    Returns:\n",
    "    list: A list of category names.\n",
    "    \"\"\"\n",
    "    files = os.listdir(folder)\n",
    "    categories = [file[16:-7] for file in files if len(file[16:-7]) > 0]\n",
    "    return categories if n is None else categories[:n]\n",
    "\n",
    "#classes = get_categories_from_data(data_folder)\n",
    "classes = [\"calculator\", \"camera\", \"cell phone\"]\n",
    "class_id = dict(zip(classes, range(len(classes))))\n",
    "\n",
    "calculator_data = np.load(f'../data/ctrlpts/calculator_ctrlpt.npz', allow_pickle=True, encoding='latin1')\n",
    "camera_data = np.load(f'../data/ctrlpts/camera_ctrlpt.npz', allow_pickle=True, encoding='latin1')\n",
    "cellphone_data = np.load(f'../data/ctrlpts/cell_phone_ctrlpt.npz', allow_pickle=True, encoding='latin1')\n",
    "\n",
    "class_id"
   ],
   "metadata": {
    "colab": {
     "base_uri": "https://localhost:8080/"
    },
    "id": "7dfa8ee273347850",
    "outputId": "0b5a6363-c361-4611-aa66-1aa0e0526f9b",
    "ExecuteTime": {
     "end_time": "2024-05-20T20:14:31.784098800Z",
     "start_time": "2024-05-20T20:14:31.768101Z"
    }
   },
   "id": "7dfa8ee273347850",
   "execution_count": 14
  },
  {
   "cell_type": "code",
   "outputs": [
    {
     "data": {
      "text/plain": "((17928,), (17938,), (17976,))"
     },
     "execution_count": 15,
     "metadata": {},
     "output_type": "execute_result"
    }
   ],
   "source": [
    "calculator_data.get('train').shape, camera_data.get('train').shape, cellphone_data.get('train').shape"
   ],
   "metadata": {
    "collapsed": false,
    "ExecuteTime": {
     "end_time": "2024-05-20T20:14:32.051438700Z",
     "start_time": "2024-05-20T20:14:31.781098300Z"
    }
   },
   "id": "42d2341f0a35bf30",
   "execution_count": 15
  },
  {
   "cell_type": "code",
   "outputs": [],
   "source": [
    "from sklearn.model_selection import train_test_split\n",
    "\n",
    "# Limiting data to 5000 points per class\n",
    "def slice_data(data):\n",
    "    # Assuming that the data arrays in each 'train', 'test', 'valid' are already shuffled\n",
    "    sliced = []\n",
    "    for key in ['train', 'test', 'valid']:\n",
    "        # Slicing each segment\n",
    "        sliced.append(data[key])\n",
    "    # Concatenate slices from train, test, valid\n",
    "    return np.concatenate(sliced)\n",
    "\n",
    "# Slicing the data\n",
    "calculator_sliced = slice_data(calculator_data)[:5000]\n",
    "camera_sliced = slice_data(camera_data)[:5000]\n",
    "cellphone_sliced = slice_data(cellphone_data)[:5000]\n",
    "\n",
    "# Concatenate all sliced data\n",
    "def concatenate_data(*datasets):\n",
    "    features = []\n",
    "    labels = []\n",
    "    for data, cid in zip(datasets, class_id.values()):\n",
    "        features.append(data)\n",
    "        labels.extend([cid] * len(data))\n",
    "    features = np.concatenate(features)\n",
    "    labels = np.array(labels)\n",
    "    return features, labels\n",
    "\n",
    "features, labels = concatenate_data(calculator_sliced, camera_sliced, cellphone_sliced)\n",
    "\n",
    "# Split into train, test, and validation sets\n",
    "X_train, X_test, y_train, y_test = train_test_split(features, labels, test_size=0.2, random_state=42)"
   ],
   "metadata": {
    "collapsed": false,
    "ExecuteTime": {
     "end_time": "2024-05-20T20:14:32.317906100Z",
     "start_time": "2024-05-20T20:14:32.038426800Z"
    }
   },
   "id": "75cdb0c3a8a39a6b",
   "execution_count": 16
  },
  {
   "cell_type": "code",
   "outputs": [
    {
     "data": {
      "text/plain": "((12000,), (12000,), (3000,), (3000,))"
     },
     "execution_count": 17,
     "metadata": {},
     "output_type": "execute_result"
    }
   ],
   "source": [
    "X_train.shape, y_train.shape, X_test.shape, y_test.shape"
   ],
   "metadata": {
    "collapsed": false,
    "ExecuteTime": {
     "end_time": "2024-05-20T20:14:32.329910600Z",
     "start_time": "2024-05-20T20:14:32.314514500Z"
    }
   },
   "id": "a11a8eb16ca46bb2",
   "execution_count": 17
  },
  {
   "cell_type": "code",
   "outputs": [],
   "source": [
    "from torch.utils.data import TensorDataset, DataLoader\n",
    "\n",
    "import numpy as np\n",
    "from scipy.interpolate import interp1d\n",
    "\n",
    "def standardize_lengths(data, target_length=29):\n",
    "    standardized_data = []\n",
    "\n",
    "    for sequence in data:\n",
    "        # Current length of the sequence\n",
    "        current_length = sequence.shape[0]\n",
    "        \n",
    "        # Create an array of indices based on current length\n",
    "        current_indices = np.linspace(0, 1, current_length)\n",
    "        \n",
    "        # Target indices for interpolation\n",
    "        target_indices = np.linspace(0, 1, target_length)\n",
    "        \n",
    "        # Initialize interpolated sequence\n",
    "        interpolated_sequence = np.zeros((target_length, sequence.shape[1]))\n",
    "        \n",
    "        # Interpolate each channel\n",
    "        for i in range(sequence.shape[1]):\n",
    "            # Interpolate the i-th channel\n",
    "            interpolator = interp1d(current_indices, sequence[:, i], kind='linear')\n",
    "            interpolated_sequence[:, i] = interpolator(target_indices)\n",
    "        \n",
    "        # Append the interpolated sequence to the standardized data list\n",
    "        standardized_data.append(interpolated_sequence)\n",
    "\n",
    "    return np.array(standardized_data)\n",
    "\n",
    "# Apply standardization on X_train and X_test\n",
    "X_train_standardized = standardize_lengths(X_train)\n",
    "X_test_standardized = standardize_lengths(X_test)\n",
    "\n",
    "def convert_to_tensor_datasets(X_train, X_test, y_train, y_test):\n",
    "    \"\"\"\n",
    "    Convert numpy arrays into TensorFlow tensor datasets ready for model training.\n",
    "\n",
    "    Args:\n",
    "    X_train (np.array): Training features.\n",
    "    X_test (np.array): Testing features.\n",
    "    y_train (np.array): Training labels.\n",
    "    y_test (np.array): Testing labels.\n",
    "    batch_size (int): Size of batches for the dataset.\n",
    "\n",
    "    Returns:\n",
    "    tuple: TensorFlow datasets for training and testing.\n",
    "    \"\"\"\n",
    "    train_dataset = TensorDataset(torch.tensor(X_train, dtype=torch.float32).to(device), torch.tensor(y_train, dtype=torch.long).to(device))\n",
    "    test_dataset = TensorDataset(torch.tensor(X_test).to(device, dtype=torch.float32), torch.tensor(y_test, dtype=torch.long).to(device))\n",
    "\n",
    "    return train_dataset, test_dataset\n",
    "\n",
    "train_dataset, test_dataset = convert_to_tensor_datasets(X_train_standardized, X_test_standardized, y_train, y_test)\n",
    "\n",
    "train_loader = DataLoader(train_dataset, batch_size=BATCH_SIZE, shuffle=True)\n",
    "test_loader = DataLoader(test_dataset, batch_size=BATCH_SIZE, shuffle=False)"
   ],
   "metadata": {
    "collapsed": false,
    "ExecuteTime": {
     "end_time": "2024-05-20T20:14:34.128640Z",
     "start_time": "2024-05-20T20:14:32.333906600Z"
    }
   },
   "id": "453ff9f18fef27e3",
   "execution_count": 18
  },
  {
   "cell_type": "code",
   "outputs": [
    {
     "name": "stdout",
     "output_type": "stream",
     "text": [
      "188\n",
      "47\n"
     ]
    }
   ],
   "source": [
    "print(len(train_loader))\n",
    "print(len(test_loader))"
   ],
   "metadata": {
    "collapsed": false,
    "ExecuteTime": {
     "end_time": "2024-05-20T20:14:34.143992100Z",
     "start_time": "2024-05-20T20:14:34.129714500Z"
    }
   },
   "id": "cf995a0b98c2b2dc",
   "execution_count": 19
  },
  {
   "cell_type": "code",
   "outputs": [
    {
     "data": {
      "text/plain": "((12000, 29, 3), (3000, 29, 3))"
     },
     "execution_count": 20,
     "metadata": {},
     "output_type": "execute_result"
    }
   ],
   "source": [
    "X_train_standardized.shape, X_test_standardized.shape"
   ],
   "metadata": {
    "collapsed": false,
    "ExecuteTime": {
     "end_time": "2024-05-20T20:14:34.190513600Z",
     "start_time": "2024-05-20T20:14:34.143992100Z"
    }
   },
   "id": "f9730f1a1355b391",
   "execution_count": 20
  },
  {
   "cell_type": "markdown",
   "source": [
    "## 3. Model Building"
   ],
   "metadata": {
    "collapsed": false,
    "id": "736300954d6c140b"
   },
   "id": "736300954d6c140b"
  },
  {
   "cell_type": "markdown",
   "source": [
    "### 3.1. Fully classical Neural Network"
   ],
   "metadata": {
    "collapsed": false,
    "id": "e2b6cd9b5fb141ad"
   },
   "id": "e2b6cd9b5fb141ad"
  },
  {
   "cell_type": "code",
   "outputs": [],
   "source": [
    "import torch\n",
    "import torch.nn as nn\n",
    "import torch.nn.functional as F\n",
    "import torch.optim as optim\n",
    "\n",
    "class HybridNN(nn.Module):\n",
    "    def __init__(self, num_categories, fname=None):\n",
    "        super(HybridNN, self).__init__()\n",
    "        self.num_categories = num_categories\n",
    "\n",
    "        # LSTM layers\n",
    "        self.lstm1 = nn.LSTM(input_size=29, hidden_size=29, batch_first=True)\n",
    "        self.lstm2 = nn.LSTM(input_size=29, hidden_size=29, batch_first=True)\n",
    "        \n",
    "        self.pool5 = nn.AvgPool1d(kernel_size=2)\n",
    "\n",
    "        # Dense layers\n",
    "        self.fc1 = nn.Linear(14, 14)\n",
    "        self.fc2 = nn.Linear(14, 14)\n",
    "\n",
    "        # Dense layer for classification\n",
    "        self.fc4 = nn.Linear(14, num_categories)\n",
    "\n",
    "        # Load pre-trained weights\n",
    "        if fname:\n",
    "            self.load_state_dict(torch.load(fname))\n",
    "\n",
    "    def forward(self, x):\n",
    "        # Reshape for LSTM\n",
    "        x = x.permute(0, 2, 1)\n",
    "        x, _ = self.lstm1(x)\n",
    "        x, _ = self.lstm2(x)\n",
    "        x = x[:, -1, :]\n",
    "\n",
    "        # Pool layer\n",
    "        x = self.pool5(x)\n",
    "\n",
    "        # Flatten the output for dense layer\n",
    "        x = torch.flatten(x, 1)\n",
    "\n",
    "        # Dense layers\n",
    "        x = F.relu(self.fc1(x))\n",
    "        x = F.relu(self.fc2(x))\n",
    "\n",
    "        # Dense layer for classification\n",
    "        x = F.relu(self.fc4(x))\n",
    "        return x\n",
    "\n",
    "    def predict(self, x):\n",
    "        self.eval()\n",
    "        with torch.no_grad():\n",
    "            x = torch.tensor(x, dtype=torch.float32)\n",
    "            x = x.unsqueeze(0)\n",
    "            prediction = self.forward(x)\n",
    "        return prediction.numpy()"
   ],
   "metadata": {
    "id": "49624a778b84529c",
    "ExecuteTime": {
     "end_time": "2024-05-20T20:14:34.191515600Z",
     "start_time": "2024-05-20T20:14:34.160003800Z"
    }
   },
   "id": "49624a778b84529c",
   "execution_count": 21
  },
  {
   "cell_type": "markdown",
   "source": [
    "## 4. Training the Model"
   ],
   "metadata": {
    "collapsed": false,
    "id": "b7fb9e3bc8e4a44f"
   },
   "id": "b7fb9e3bc8e4a44f"
  },
  {
   "cell_type": "code",
   "outputs": [],
   "source": [
    "checkpoint_filepath = 'models/2edition_lstm/best_model_weights_3classes_ctrlpts.pth'"
   ],
   "metadata": {
    "id": "a033adbcc37ca961",
    "ExecuteTime": {
     "end_time": "2024-05-20T20:14:34.221513500Z",
     "start_time": "2024-05-20T20:14:34.176513400Z"
    }
   },
   "id": "a033adbcc37ca961",
   "execution_count": 22
  },
  {
   "cell_type": "code",
   "outputs": [
    {
     "name": "stderr",
     "output_type": "stream",
     "text": [
      "100%|██████████| 188/188 [00:00<00:00, 270.88it/s]\n"
     ]
    },
    {
     "name": "stdout",
     "output_type": "stream",
     "text": [
      "Epoch 1, Accuracy: 0.509, Loss: 1.021171753393843, Validation Accuracy: 0.5883333333333334, Validation Loss: 0.8553295135498047\n"
     ]
    },
    {
     "name": "stderr",
     "output_type": "stream",
     "text": [
      "100%|██████████| 188/188 [00:00<00:00, 283.69it/s]\n"
     ]
    },
    {
     "name": "stdout",
     "output_type": "stream",
     "text": [
      "Epoch 2, Accuracy: 0.65725, Loss: 0.7567823621186804, Validation Accuracy: 0.697, Validation Loss: 0.7022719383239746\n"
     ]
    },
    {
     "name": "stderr",
     "output_type": "stream",
     "text": [
      "100%|██████████| 188/188 [00:00<00:00, 284.80it/s]\n"
     ]
    },
    {
     "name": "stdout",
     "output_type": "stream",
     "text": [
      "Epoch 3, Accuracy: 0.7225833333333334, Loss: 0.6461143996170227, Validation Accuracy: 0.7066666666666667, Validation Loss: 0.6677065491676331\n"
     ]
    },
    {
     "name": "stderr",
     "output_type": "stream",
     "text": [
      "100%|██████████| 188/188 [00:00<00:00, 288.77it/s]\n"
     ]
    },
    {
     "name": "stdout",
     "output_type": "stream",
     "text": [
      "Epoch 4, Accuracy: 0.7500833333333333, Loss: 0.5901624793384938, Validation Accuracy: 0.724, Validation Loss: 0.6453723907470703\n"
     ]
    },
    {
     "name": "stderr",
     "output_type": "stream",
     "text": [
      "100%|██████████| 188/188 [00:00<00:00, 289.39it/s]\n"
     ]
    },
    {
     "name": "stdout",
     "output_type": "stream",
     "text": [
      "Epoch 5, Accuracy: 0.7744166666666666, Loss: 0.5436669659424336, Validation Accuracy: 0.733, Validation Loss: 0.632135272026062\n"
     ]
    },
    {
     "name": "stderr",
     "output_type": "stream",
     "text": [
      "100%|██████████| 188/188 [00:00<00:00, 290.66it/s]\n"
     ]
    },
    {
     "name": "stdout",
     "output_type": "stream",
     "text": [
      "Epoch 6, Accuracy: 0.7871666666666667, Loss: 0.5098471468750466, Validation Accuracy: 0.7366666666666667, Validation Loss: 0.621832013130188\n"
     ]
    },
    {
     "name": "stderr",
     "output_type": "stream",
     "text": [
      "100%|██████████| 188/188 [00:00<00:00, 272.32it/s]\n"
     ]
    },
    {
     "name": "stdout",
     "output_type": "stream",
     "text": [
      "Epoch 7, Accuracy: 0.7976666666666666, Loss: 0.4889293409725453, Validation Accuracy: 0.743, Validation Loss: 0.6062427163124084\n"
     ]
    },
    {
     "name": "stderr",
     "output_type": "stream",
     "text": [
      "100%|██████████| 188/188 [00:00<00:00, 282.34it/s]\n"
     ]
    },
    {
     "name": "stdout",
     "output_type": "stream",
     "text": [
      "Epoch 8, Accuracy: 0.8035, Loss: 0.4712095005398101, Validation Accuracy: 0.7356666666666667, Validation Loss: 0.6257288455963135\n"
     ]
    },
    {
     "name": "stderr",
     "output_type": "stream",
     "text": [
      "100%|██████████| 188/188 [00:00<00:00, 284.23it/s]\n"
     ]
    },
    {
     "name": "stdout",
     "output_type": "stream",
     "text": [
      "Epoch 9, Accuracy: 0.8156666666666667, Loss: 0.4518438710018675, Validation Accuracy: 0.7473333333333333, Validation Loss: 0.6134302616119385\n"
     ]
    },
    {
     "name": "stderr",
     "output_type": "stream",
     "text": [
      "100%|██████████| 188/188 [00:00<00:00, 284.18it/s]\n"
     ]
    },
    {
     "name": "stdout",
     "output_type": "stream",
     "text": [
      "Epoch 10, Accuracy: 0.82075, Loss: 0.4355600875742892, Validation Accuracy: 0.75, Validation Loss: 0.6089268326759338\n"
     ]
    },
    {
     "name": "stderr",
     "output_type": "stream",
     "text": [
      "100%|██████████| 188/188 [00:00<00:00, 283.89it/s]\n"
     ]
    },
    {
     "name": "stdout",
     "output_type": "stream",
     "text": [
      "Epoch 11, Accuracy: 0.8280833333333333, Loss: 0.417671734586041, Validation Accuracy: 0.7453333333333333, Validation Loss: 0.609885036945343\n"
     ]
    },
    {
     "name": "stderr",
     "output_type": "stream",
     "text": [
      "100%|██████████| 188/188 [00:00<00:00, 289.51it/s]\n"
     ]
    },
    {
     "name": "stdout",
     "output_type": "stream",
     "text": [
      "Epoch 12, Accuracy: 0.8361666666666666, Loss: 0.4050563302762965, Validation Accuracy: 0.755, Validation Loss: 0.6212538480758667\n"
     ]
    },
    {
     "name": "stderr",
     "output_type": "stream",
     "text": [
      "100%|██████████| 188/188 [00:00<00:00, 292.63it/s]\n"
     ]
    },
    {
     "name": "stdout",
     "output_type": "stream",
     "text": [
      "Epoch 13, Accuracy: 0.843, Loss: 0.3922582721298045, Validation Accuracy: 0.7536666666666667, Validation Loss: 0.6171563267707825\n"
     ]
    },
    {
     "name": "stderr",
     "output_type": "stream",
     "text": [
      "100%|██████████| 188/188 [00:00<00:00, 282.26it/s]\n"
     ]
    },
    {
     "name": "stdout",
     "output_type": "stream",
     "text": [
      "Epoch 14, Accuracy: 0.8485, Loss: 0.37968842732779523, Validation Accuracy: 0.7573333333333333, Validation Loss: 0.6262789964675903\n"
     ]
    },
    {
     "name": "stderr",
     "output_type": "stream",
     "text": [
      "100%|██████████| 188/188 [00:00<00:00, 285.48it/s]\n"
     ]
    },
    {
     "name": "stdout",
     "output_type": "stream",
     "text": [
      "Epoch 15, Accuracy: 0.85325, Loss: 0.36311296421162625, Validation Accuracy: 0.7533333333333333, Validation Loss: 0.6484327912330627\n"
     ]
    },
    {
     "name": "stderr",
     "output_type": "stream",
     "text": [
      "100%|██████████| 188/188 [00:00<00:00, 292.25it/s]\n"
     ]
    },
    {
     "name": "stdout",
     "output_type": "stream",
     "text": [
      "Epoch 16, Accuracy: 0.85425, Loss: 0.3627889434549403, Validation Accuracy: 0.7553333333333333, Validation Loss: 0.6355630159378052\n"
     ]
    },
    {
     "name": "stderr",
     "output_type": "stream",
     "text": [
      "100%|██████████| 188/188 [00:00<00:00, 280.94it/s]\n"
     ]
    },
    {
     "name": "stdout",
     "output_type": "stream",
     "text": [
      "Epoch 17, Accuracy: 0.8613333333333333, Loss: 0.345577358565432, Validation Accuracy: 0.7573333333333333, Validation Loss: 0.6531658172607422\n"
     ]
    },
    {
     "name": "stderr",
     "output_type": "stream",
     "text": [
      "100%|██████████| 188/188 [00:00<00:00, 265.68it/s]\n"
     ]
    },
    {
     "name": "stdout",
     "output_type": "stream",
     "text": [
      "Epoch 18, Accuracy: 0.8664166666666666, Loss: 0.34087172126833426, Validation Accuracy: 0.756, Validation Loss: 0.6486547589302063\n"
     ]
    },
    {
     "name": "stderr",
     "output_type": "stream",
     "text": [
      "100%|██████████| 188/188 [00:00<00:00, 260.45it/s]\n"
     ]
    },
    {
     "name": "stdout",
     "output_type": "stream",
     "text": [
      "Epoch 19, Accuracy: 0.8708333333333333, Loss: 0.33208978176116943, Validation Accuracy: 0.7613333333333333, Validation Loss: 0.6591655611991882\n"
     ]
    },
    {
     "name": "stderr",
     "output_type": "stream",
     "text": [
      "100%|██████████| 188/188 [00:00<00:00, 293.80it/s]\n"
     ]
    },
    {
     "name": "stdout",
     "output_type": "stream",
     "text": [
      "Epoch 20, Accuracy: 0.8740833333333333, Loss: 0.3259875622201473, Validation Accuracy: 0.7583333333333333, Validation Loss: 0.6624777317047119\n"
     ]
    },
    {
     "name": "stderr",
     "output_type": "stream",
     "text": [
      "100%|██████████| 188/188 [00:00<00:00, 275.14it/s]\n"
     ]
    },
    {
     "name": "stdout",
     "output_type": "stream",
     "text": [
      "Epoch 21, Accuracy: 0.87625, Loss: 0.31591631155064764, Validation Accuracy: 0.762, Validation Loss: 0.6672135591506958\n"
     ]
    },
    {
     "name": "stderr",
     "output_type": "stream",
     "text": [
      "100%|██████████| 188/188 [00:00<00:00, 293.92it/s]\n"
     ]
    },
    {
     "name": "stdout",
     "output_type": "stream",
     "text": [
      "Epoch 22, Accuracy: 0.8833333333333333, Loss: 0.30149848917697336, Validation Accuracy: 0.761, Validation Loss: 0.6806653141975403\n"
     ]
    },
    {
     "name": "stderr",
     "output_type": "stream",
     "text": [
      "100%|██████████| 188/188 [00:00<00:00, 276.93it/s]\n"
     ]
    },
    {
     "name": "stdout",
     "output_type": "stream",
     "text": [
      "Epoch 23, Accuracy: 0.8899166666666667, Loss: 0.29330245571884705, Validation Accuracy: 0.7596666666666667, Validation Loss: 0.6847867369651794\n"
     ]
    },
    {
     "name": "stderr",
     "output_type": "stream",
     "text": [
      "100%|██████████| 188/188 [00:00<00:00, 287.86it/s]\n"
     ]
    },
    {
     "name": "stdout",
     "output_type": "stream",
     "text": [
      "Epoch 24, Accuracy: 0.88325, Loss: 0.2987814173102379, Validation Accuracy: 0.7593333333333333, Validation Loss: 0.6803421378135681\n"
     ]
    },
    {
     "name": "stderr",
     "output_type": "stream",
     "text": [
      "100%|██████████| 188/188 [00:00<00:00, 287.08it/s]\n"
     ]
    },
    {
     "name": "stdout",
     "output_type": "stream",
     "text": [
      "Epoch 25, Accuracy: 0.8915, Loss: 0.28657521973264977, Validation Accuracy: 0.7533333333333333, Validation Loss: 0.7048802971839905\n"
     ]
    },
    {
     "name": "stderr",
     "output_type": "stream",
     "text": [
      "100%|██████████| 188/188 [00:00<00:00, 284.13it/s]\n"
     ]
    },
    {
     "name": "stdout",
     "output_type": "stream",
     "text": [
      "Epoch 26, Accuracy: 0.8965833333333333, Loss: 0.2702719502230274, Validation Accuracy: 0.7576666666666667, Validation Loss: 0.7030324339866638\n"
     ]
    },
    {
     "name": "stderr",
     "output_type": "stream",
     "text": [
      "100%|██████████| 188/188 [00:00<00:00, 261.85it/s]\n"
     ]
    },
    {
     "name": "stdout",
     "output_type": "stream",
     "text": [
      "Epoch 27, Accuracy: 0.89525, Loss: 0.27596994533025204, Validation Accuracy: 0.755, Validation Loss: 0.7335010170936584\n"
     ]
    },
    {
     "name": "stderr",
     "output_type": "stream",
     "text": [
      "100%|██████████| 188/188 [00:00<00:00, 293.34it/s]\n"
     ]
    },
    {
     "name": "stdout",
     "output_type": "stream",
     "text": [
      "Epoch 28, Accuracy: 0.8968333333333334, Loss: 0.26824699366029275, Validation Accuracy: 0.7553333333333333, Validation Loss: 0.6996426582336426\n"
     ]
    },
    {
     "name": "stderr",
     "output_type": "stream",
     "text": [
      "100%|██████████| 188/188 [00:00<00:00, 283.97it/s]\n"
     ]
    },
    {
     "name": "stdout",
     "output_type": "stream",
     "text": [
      "Epoch 29, Accuracy: 0.9015833333333333, Loss: 0.26400806810310545, Validation Accuracy: 0.7566666666666667, Validation Loss: 0.7272308468818665\n"
     ]
    },
    {
     "name": "stderr",
     "output_type": "stream",
     "text": [
      "100%|██████████| 188/188 [00:00<00:00, 281.06it/s]\n"
     ]
    },
    {
     "name": "stdout",
     "output_type": "stream",
     "text": [
      "Epoch 30, Accuracy: 0.9030833333333333, Loss: 0.2574961328522322, Validation Accuracy: 0.7446666666666667, Validation Loss: 0.7485868334770203\n"
     ]
    },
    {
     "name": "stderr",
     "output_type": "stream",
     "text": [
      "100%|██████████| 188/188 [00:00<00:00, 293.76it/s]\n"
     ]
    },
    {
     "name": "stdout",
     "output_type": "stream",
     "text": [
      "Epoch 31, Accuracy: 0.9056666666666666, Loss: 0.25482303768079334, Validation Accuracy: 0.749, Validation Loss: 0.7336233258247375\n"
     ]
    },
    {
     "name": "stderr",
     "output_type": "stream",
     "text": [
      "100%|██████████| 188/188 [00:00<00:00, 266.70it/s]\n"
     ]
    },
    {
     "name": "stdout",
     "output_type": "stream",
     "text": [
      "Epoch 32, Accuracy: 0.9111666666666667, Loss: 0.2467300615649908, Validation Accuracy: 0.754, Validation Loss: 0.7324475646018982\n"
     ]
    },
    {
     "name": "stderr",
     "output_type": "stream",
     "text": [
      "100%|██████████| 188/188 [00:00<00:00, 293.20it/s]\n"
     ]
    },
    {
     "name": "stdout",
     "output_type": "stream",
     "text": [
      "Epoch 33, Accuracy: 0.9150833333333334, Loss: 0.23490073286155436, Validation Accuracy: 0.759, Validation Loss: 0.7516118884086609\n"
     ]
    },
    {
     "name": "stderr",
     "output_type": "stream",
     "text": [
      "100%|██████████| 188/188 [00:00<00:00, 290.91it/s]\n"
     ]
    },
    {
     "name": "stdout",
     "output_type": "stream",
     "text": [
      "Epoch 34, Accuracy: 0.9141666666666667, Loss: 0.23801516523545094, Validation Accuracy: 0.7533333333333333, Validation Loss: 0.7650073766708374\n"
     ]
    },
    {
     "name": "stderr",
     "output_type": "stream",
     "text": [
      "100%|██████████| 188/188 [00:00<00:00, 290.87it/s]\n"
     ]
    },
    {
     "name": "stdout",
     "output_type": "stream",
     "text": [
      "Epoch 35, Accuracy: 0.9101666666666667, Loss: 0.24311958970700173, Validation Accuracy: 0.7613333333333333, Validation Loss: 0.7528509497642517\n"
     ]
    },
    {
     "name": "stderr",
     "output_type": "stream",
     "text": [
      "100%|██████████| 188/188 [00:00<00:00, 261.20it/s]\n"
     ]
    },
    {
     "name": "stdout",
     "output_type": "stream",
     "text": [
      "Epoch 36, Accuracy: 0.9149166666666667, Loss: 0.23332973375440913, Validation Accuracy: 0.7516666666666667, Validation Loss: 0.7687816619873047\n"
     ]
    },
    {
     "name": "stderr",
     "output_type": "stream",
     "text": [
      "100%|██████████| 188/188 [00:00<00:00, 261.95it/s]\n"
     ]
    },
    {
     "name": "stdout",
     "output_type": "stream",
     "text": [
      "Epoch 37, Accuracy: 0.9158333333333334, Loss: 0.22765730642416376, Validation Accuracy: 0.7556666666666667, Validation Loss: 0.780782163143158\n"
     ]
    },
    {
     "name": "stderr",
     "output_type": "stream",
     "text": [
      "100%|██████████| 188/188 [00:00<00:00, 285.24it/s]\n"
     ]
    },
    {
     "name": "stdout",
     "output_type": "stream",
     "text": [
      "Epoch 38, Accuracy: 0.9210833333333334, Loss: 0.21936120992486782, Validation Accuracy: 0.75, Validation Loss: 0.7956420183181763\n"
     ]
    },
    {
     "name": "stderr",
     "output_type": "stream",
     "text": [
      "100%|██████████| 188/188 [00:00<00:00, 263.70it/s]\n"
     ]
    },
    {
     "name": "stdout",
     "output_type": "stream",
     "text": [
      "Epoch 39, Accuracy: 0.9223333333333333, Loss: 0.2171925659430154, Validation Accuracy: 0.761, Validation Loss: 0.7827945947647095\n"
     ]
    },
    {
     "name": "stderr",
     "output_type": "stream",
     "text": [
      "100%|██████████| 188/188 [00:00<00:00, 260.83it/s]\n"
     ]
    },
    {
     "name": "stdout",
     "output_type": "stream",
     "text": [
      "Epoch 40, Accuracy: 0.92625, Loss: 0.2083926844866352, Validation Accuracy: 0.7523333333333333, Validation Loss: 0.795327365398407\n"
     ]
    },
    {
     "name": "stderr",
     "output_type": "stream",
     "text": [
      "100%|██████████| 188/188 [00:00<00:00, 269.11it/s]\n"
     ]
    },
    {
     "name": "stdout",
     "output_type": "stream",
     "text": [
      "Epoch 41, Accuracy: 0.9249166666666667, Loss: 0.20541388038149538, Validation Accuracy: 0.7526666666666667, Validation Loss: 0.8275938630104065\n"
     ]
    },
    {
     "name": "stderr",
     "output_type": "stream",
     "text": [
      "100%|██████████| 188/188 [00:00<00:00, 295.27it/s]\n"
     ]
    },
    {
     "name": "stdout",
     "output_type": "stream",
     "text": [
      "Epoch 42, Accuracy: 0.936, Loss: 0.19068391971844942, Validation Accuracy: 0.759, Validation Loss: 0.8279935121536255\n"
     ]
    },
    {
     "name": "stderr",
     "output_type": "stream",
     "text": [
      "100%|██████████| 188/188 [00:00<00:00, 265.62it/s]\n"
     ]
    },
    {
     "name": "stdout",
     "output_type": "stream",
     "text": [
      "Epoch 43, Accuracy: 0.9383333333333334, Loss: 0.1807227735704881, Validation Accuracy: 0.7526666666666667, Validation Loss: 0.8323197364807129\n"
     ]
    },
    {
     "name": "stderr",
     "output_type": "stream",
     "text": [
      "100%|██████████| 188/188 [00:00<00:00, 285.43it/s]\n"
     ]
    },
    {
     "name": "stdout",
     "output_type": "stream",
     "text": [
      "Epoch 44, Accuracy: 0.9343333333333333, Loss: 0.18807947708967518, Validation Accuracy: 0.7526666666666667, Validation Loss: 0.8494209051132202\n"
     ]
    },
    {
     "name": "stderr",
     "output_type": "stream",
     "text": [
      "100%|██████████| 188/188 [00:00<00:00, 296.82it/s]\n"
     ]
    },
    {
     "name": "stdout",
     "output_type": "stream",
     "text": [
      "Epoch 45, Accuracy: 0.93075, Loss: 0.19512957839810469, Validation Accuracy: 0.7546666666666667, Validation Loss: 0.8386834859848022\n"
     ]
    },
    {
     "name": "stderr",
     "output_type": "stream",
     "text": [
      "100%|██████████| 188/188 [00:00<00:00, 291.08it/s]\n"
     ]
    },
    {
     "name": "stdout",
     "output_type": "stream",
     "text": [
      "Epoch 46, Accuracy: 0.9386666666666666, Loss: 0.17600590349274112, Validation Accuracy: 0.7583333333333333, Validation Loss: 0.8500579595565796\n"
     ]
    },
    {
     "name": "stderr",
     "output_type": "stream",
     "text": [
      "100%|██████████| 188/188 [00:00<00:00, 275.31it/s]\n"
     ]
    },
    {
     "name": "stdout",
     "output_type": "stream",
     "text": [
      "Epoch 47, Accuracy: 0.939, Loss: 0.17184396678621464, Validation Accuracy: 0.7573333333333333, Validation Loss: 0.8844001889228821\n"
     ]
    },
    {
     "name": "stderr",
     "output_type": "stream",
     "text": [
      "100%|██████████| 188/188 [00:00<00:00, 284.85it/s]\n"
     ]
    },
    {
     "name": "stdout",
     "output_type": "stream",
     "text": [
      "Epoch 48, Accuracy: 0.9344166666666667, Loss: 0.18384123821445603, Validation Accuracy: 0.7636666666666667, Validation Loss: 0.8316130638122559\n"
     ]
    },
    {
     "name": "stderr",
     "output_type": "stream",
     "text": [
      "100%|██████████| 188/188 [00:00<00:00, 284.27it/s]\n"
     ]
    },
    {
     "name": "stdout",
     "output_type": "stream",
     "text": [
      "Epoch 49, Accuracy: 0.936, Loss: 0.18505937021542737, Validation Accuracy: 0.7593333333333333, Validation Loss: 0.8672501444816589\n"
     ]
    },
    {
     "name": "stderr",
     "output_type": "stream",
     "text": [
      "100%|██████████| 188/188 [00:00<00:00, 285.76it/s]\n"
     ]
    },
    {
     "name": "stdout",
     "output_type": "stream",
     "text": [
      "Epoch 50, Accuracy: 0.9400833333333334, Loss: 0.1761303891011692, Validation Accuracy: 0.7643333333333333, Validation Loss: 0.8470926880836487\n"
     ]
    }
   ],
   "source": [
    "from tqdm import tqdm\n",
    "\n",
    "input_shape = (95, 3)\n",
    "model = HybridNN(len(classes)).to(device)\n",
    "\n",
    "# Define optimizer and loss function\n",
    "optimizer = optim.Adam(model.parameters(), lr=0.001)\n",
    "criterion = nn.CrossEntropyLoss()\n",
    "\n",
    "# Function to evaluate the model on validation data\n",
    "def evaluate(model, test_loader):\n",
    "    model.eval()\n",
    "    total_correct = 0\n",
    "    total_loss = 0\n",
    "    total_samples = 0\n",
    "    with torch.no_grad():\n",
    "        for inputs, targets in test_loader:\n",
    "            outputs = model(inputs)\n",
    "            _, predicted = torch.max(outputs.data, 1)\n",
    "            total_samples += targets.size(0)\n",
    "\n",
    "            total_loss += criterion(outputs, targets)\n",
    "            total_correct += (predicted == targets).sum().item()\n",
    "    model.train()\n",
    "    return total_correct / total_samples, total_loss / len(test_loader)\n",
    "\n",
    "# Training loop\n",
    "best_accuracy = 0\n",
    "accuracy_list = []\n",
    "loss_list = []\n",
    "\n",
    "val_accuracy_list = []\n",
    "val_loss_list = []\n",
    "\n",
    "for epoch in range(50):\n",
    "    model.train()\n",
    "\n",
    "    total_loss = []\n",
    "    \n",
    "    total_correct = 0\n",
    "    total_samples = 0\n",
    "    for inputs, labels in tqdm(train_loader):\n",
    "        # Forward pass\n",
    "        optimizer.zero_grad(set_to_none=True)\n",
    "        outputs = model(inputs)\n",
    "\n",
    "        # Calculate loss\n",
    "        loss = criterion(outputs, labels)\n",
    "        loss.backward()\n",
    "\n",
    "        _, predicted = torch.max(outputs.data, 1)\n",
    "        total_correct += (predicted == labels).sum().item()\n",
    "\n",
    "        # Backward pass\n",
    "        optimizer.step()\n",
    "        total_loss.append(loss.item())\n",
    "\n",
    "        total_samples += 1\n",
    "\n",
    "    # Evaluate the model on the validation data after each epoch\n",
    "    val_accuracy, val_loss = evaluate(model, test_loader)\n",
    "    val_accuracy_list.append(val_accuracy)\n",
    "    val_loss_list.append(val_loss)\n",
    "    \n",
    "    accuracy_list.append(total_correct / len(train_loader.dataset))\n",
    "    loss_list.append(sum(total_loss) / len(train_loader))\n",
    "    \n",
    "    print(f'Epoch {epoch + 1}, Accuracy: {total_correct / len(train_loader.dataset)}, Loss: {sum(total_loss) / len(train_loader)}, Validation Accuracy: {val_accuracy}, Validation Loss: {val_loss}')\n",
    "\n",
    "    # Checkpointing\n",
    "    if val_accuracy > best_accuracy:\n",
    "        best_accuracy = val_accuracy\n",
    "        torch.save(model.state_dict(), checkpoint_filepath)"
   ],
   "metadata": {
    "colab": {
     "base_uri": "https://localhost:8080/"
    },
    "id": "68ae5740a75d5963",
    "outputId": "eedcff55-f158-4b91-c007-a1449c87b4d6",
    "ExecuteTime": {
     "end_time": "2024-05-20T20:15:11.105481Z",
     "start_time": "2024-05-20T20:14:34.197512400Z"
    }
   },
   "id": "68ae5740a75d5963",
   "execution_count": 23
  },
  {
   "cell_type": "markdown",
   "source": [
    "## 5. Model Evaluation"
   ],
   "metadata": {
    "collapsed": false,
    "id": "35b80d71823b6294"
   },
   "id": "35b80d71823b6294"
  },
  {
   "cell_type": "markdown",
   "source": [
    "### 5.1. Plotting the Training and Validation Loss"
   ],
   "metadata": {
    "collapsed": false
   },
   "id": "1493f2886a6c351f"
  },
  {
   "cell_type": "code",
   "outputs": [],
   "source": [
    "# Convert list of cuda tensors to numpy array of floats\n",
    "val_loss_list = [acc.cpu().numpy() for acc in val_loss_list]"
   ],
   "metadata": {
    "collapsed": false,
    "ExecuteTime": {
     "end_time": "2024-05-20T20:15:11.131481900Z",
     "start_time": "2024-05-20T20:15:11.107481300Z"
    }
   },
   "id": "efb3e5b0f96840ce",
   "execution_count": 24
  },
  {
   "cell_type": "code",
   "outputs": [
    {
     "data": {
      "text/plain": "<matplotlib.legend.Legend at 0x1b64c835390>"
     },
     "execution_count": 25,
     "metadata": {},
     "output_type": "execute_result"
    },
    {
     "data": {
      "text/plain": "<Figure size 1000x500 with 2 Axes>",
      "image/png": "[encoded data removed]"
     },
     "metadata": {},
     "output_type": "display_data"
    }
   ],
   "source": [
    "import matplotlib.pyplot as plt\n",
    "\n",
    "#Plot the training and validation loss\n",
    "plt.figure(figsize=(10, 5))\n",
    "plt.subplot(1, 2, 1)\n",
    "plt.plot(loss_list, label='Training Loss')\n",
    "plt.plot(val_loss_list, label='Validation Loss')\n",
    "plt.title('Training and Validation Loss')\n",
    "plt.xlabel('Epoch')\n",
    "plt.ylabel('Loss')\n",
    "plt.legend()\n",
    "\n",
    "# Plot the training and validation accuracy\n",
    "plt.subplot(1, 2, 2)\n",
    "plt.plot(accuracy_list, label='Training Accuracy')\n",
    "plt.plot(val_accuracy_list, label='Validation Accuracy')\n",
    "plt.title('Training and Validation Accuracy')\n",
    "plt.xlabel('Epoch')\n",
    "plt.ylabel('Accuracy')\n",
    "plt.legend()"
   ],
   "metadata": {
    "id": "ee82c8612d017e5",
    "ExecuteTime": {
     "end_time": "2024-05-20T20:15:11.404034800Z",
     "start_time": "2024-05-20T20:15:11.124481700Z"
    }
   },
   "id": "ee82c8612d017e5",
   "execution_count": 25
  },
  {
   "cell_type": "code",
   "outputs": [],
   "source": [
    "model = HybridNN(num_categories=len(classes), fname=checkpoint_filepath)"
   ],
   "metadata": {
    "id": "521e85186e9fe105",
    "ExecuteTime": {
     "end_time": "2024-05-20T20:15:32.669070200Z",
     "start_time": "2024-05-20T20:15:32.640071Z"
    }
   },
   "id": "521e85186e9fe105",
   "execution_count": 27
  },
  {
   "cell_type": "code",
   "outputs": [
    {
     "ename": "TypeError",
     "evalue": "can't convert np.ndarray of type numpy.object_. The only supported types are: float64, float32, float16, complex64, complex128, int64, int32, int16, int8, uint64, uint32, uint16, uint8, and bool.",
     "output_type": "error",
     "traceback": [
      "\u001B[1;31m---------------------------------------------------------------------------\u001B[0m",
      "\u001B[1;31mTypeError\u001B[0m                                 Traceback (most recent call last)",
      "Cell \u001B[1;32mIn[28], line 1\u001B[0m\n\u001B[1;32m----> 1\u001B[0m outputs \u001B[38;5;241m=\u001B[39m \u001B[43mmodel\u001B[49m\u001B[38;5;241;43m.\u001B[39;49m\u001B[43mpredict\u001B[49m\u001B[43m(\u001B[49m\u001B[43mX_test\u001B[49m\u001B[43m)\u001B[49m\n",
      "Cell \u001B[1;32mIn[21], line 52\u001B[0m, in \u001B[0;36mHybridNN.predict\u001B[1;34m(self, x)\u001B[0m\n\u001B[0;32m     50\u001B[0m \u001B[38;5;28mself\u001B[39m\u001B[38;5;241m.\u001B[39meval()\n\u001B[0;32m     51\u001B[0m \u001B[38;5;28;01mwith\u001B[39;00m torch\u001B[38;5;241m.\u001B[39mno_grad():\n\u001B[1;32m---> 52\u001B[0m     x \u001B[38;5;241m=\u001B[39m \u001B[43mtorch\u001B[49m\u001B[38;5;241;43m.\u001B[39;49m\u001B[43mtensor\u001B[49m\u001B[43m(\u001B[49m\u001B[43mx\u001B[49m\u001B[43m,\u001B[49m\u001B[43m \u001B[49m\u001B[43mdtype\u001B[49m\u001B[38;5;241;43m=\u001B[39;49m\u001B[43mtorch\u001B[49m\u001B[38;5;241;43m.\u001B[39;49m\u001B[43mfloat32\u001B[49m\u001B[43m)\u001B[49m\n\u001B[0;32m     53\u001B[0m     x \u001B[38;5;241m=\u001B[39m x\u001B[38;5;241m.\u001B[39munsqueeze(\u001B[38;5;241m0\u001B[39m)\n\u001B[0;32m     54\u001B[0m     prediction \u001B[38;5;241m=\u001B[39m \u001B[38;5;28mself\u001B[39m\u001B[38;5;241m.\u001B[39mforward(x)\n",
      "\u001B[1;31mTypeError\u001B[0m: can't convert np.ndarray of type numpy.object_. The only supported types are: float64, float32, float16, complex64, complex128, int64, int32, int16, int8, uint64, uint32, uint16, uint8, and bool."
     ]
    }
   ],
   "source": [
    "outputs = model.predict(X_test)"
   ],
   "metadata": {
    "collapsed": false,
    "ExecuteTime": {
     "end_time": "2024-05-20T20:15:34.216370600Z",
     "start_time": "2024-05-20T20:15:34.167856Z"
    }
   },
   "id": "e22ba8666e2f8353",
   "execution_count": 28
  },
  {
   "cell_type": "code",
   "outputs": [],
   "source": [
    "y_pred = np.argmax(outputs, axis=1)\n",
    "y_pred"
   ],
   "metadata": {
    "collapsed": false,
    "ExecuteTime": {
     "start_time": "2024-05-20T20:15:11.437375300Z"
    }
   },
   "id": "6111fb52dabc7c02",
   "execution_count": null
  },
  {
   "cell_type": "code",
   "outputs": [],
   "source": [
    "INDEX = 6\n",
    "\n",
    "out = model.predict([X_test[:2500][INDEX]])\n",
    "print(\"Predicted class:\", classes[np.argmax(out)])\n",
    "print(\"True class:\", classes[y_test[INDEX].astype(int)])"
   ],
   "metadata": {
    "id": "6071dc5ae78d3e40",
    "ExecuteTime": {
     "start_time": "2024-05-20T20:15:11.438374300Z"
    }
   },
   "id": "6071dc5ae78d3e40",
   "execution_count": null
  }
 ],
 "metadata": {
  "kernelspec": {
   "name": "python3",
   "language": "python",
   "display_name": "Python 3 (ipykernel)"
  },
  "language_info": {
   "codemirror_mode": {
    "name": "ipython",
    "version": 2
   },
   "file_extension": ".py",
   "mimetype": "text/x-python",
   "name": "python",
   "nbconvert_exporter": "python",
   "pygments_lexer": "ipython2",
   "version": "2.7.6"
  },
  "colab": {
   "provenance": [],
   "gpuType": "T4"
  },
  "accelerator": "GPU"
 },
 "nbformat": 4,
 "nbformat_minor": 5
}
