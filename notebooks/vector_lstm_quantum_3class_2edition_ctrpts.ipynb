{
 "cells": [
  {
   "cell_type": "markdown",
   "source": [
    "# Classifier using LSTM layers"
   ],
   "metadata": {
    "collapsed": false,
    "id": "5229e8479776427a"
   },
   "id": "5229e8479776427a"
  },
  {
   "cell_type": "markdown",
   "source": [
    "## 1. Importing Libraries"
   ],
   "metadata": {
    "collapsed": false,
    "id": "39f18e42aad23ab2"
   },
   "id": "39f18e42aad23ab2"
  },
  {
   "cell_type": "code",
   "execution_count": 39,
   "id": "initial_id",
   "metadata": {
    "collapsed": true,
    "colab": {
     "base_uri": "https://localhost:8080/"
    },
    "id": "initial_id",
    "outputId": "a199ac04-45b0-4a7d-ef7d-d8acae5a4fc1",
    "ExecuteTime": {
     "end_time": "2024-05-20T07:38:59.714523200Z",
     "start_time": "2024-05-20T07:38:59.671872700Z"
    }
   },
   "outputs": [
    {
     "name": "stdout",
     "output_type": "stream",
     "text": [
      "cuda\n"
     ]
    }
   ],
   "source": [
    "import torch\n",
    "\n",
    "import numpy as np\n",
    "import pandas as pd\n",
    "\n",
    "data_folder = '../data/ctrpts'\n",
    "\n",
    "EPOCHS = 10\n",
    "BATCH_SIZE = 64\n",
    "\n",
    "MAX_SEQ_LENGTH = 95\n",
    "\n",
    "device = torch.device(\"cuda\" if torch.cuda.is_available() else \"cpu\")\n",
    "print(device)"
   ]
  },
  {
   "cell_type": "markdown",
   "source": [
    "## 2. Data Preprocessing"
   ],
   "metadata": {
    "collapsed": false,
    "id": "5b992f62c4ee6b1e"
   },
   "id": "5b992f62c4ee6b1e"
  },
  {
   "cell_type": "markdown",
   "source": [
    "### 2.1. Loading the data"
   ],
   "metadata": {
    "collapsed": false,
    "id": "daf8e6a6a64418c0"
   },
   "id": "daf8e6a6a64418c0"
  },
  {
   "cell_type": "code",
   "outputs": [
    {
     "data": {
      "text/plain": "{'calculator': 0, 'camera': 1, 'cell phone': 2}"
     },
     "execution_count": 40,
     "metadata": {},
     "output_type": "execute_result"
    }
   ],
   "source": [
    "import os\n",
    "\n",
    "\n",
    "def get_categories_from_data(folder, n=None):\n",
    "    \"\"\"\n",
    "    This function retrieves category names from file names in a specified folder. \n",
    "    The category name is assumed to be a substring of the file name, starting from the 17th character and ending 7 characters before the end of the file name.\n",
    "    If the substring is empty, it is not added to the list of categories.\n",
    "    If a limit 'n' is specified, only the first 'n' categories are returned.\n",
    "\n",
    "    Parameters:\n",
    "    folder (str): The path to the folder containing the files.\n",
    "    n (int, optional): The maximum number of categories to return. If not specified, all categories are returned.\n",
    "\n",
    "    Returns:\n",
    "    list: A list of category names.\n",
    "    \"\"\"\n",
    "    files = os.listdir(folder)\n",
    "    categories = [file[16:-7] for file in files if len(file[16:-7]) > 0]\n",
    "    return categories if n is None else categories[:n]\n",
    "\n",
    "#classes = get_categories_from_data(data_folder)\n",
    "classes = [\"calculator\", \"camera\", \"cell phone\"]\n",
    "class_id = dict(zip(classes, range(len(classes))))\n",
    "\n",
    "calculator_data = np.load(f'../data/ctrlpts/calculator_ctrlpt.npz', allow_pickle=True, encoding='latin1')\n",
    "camera_data = np.load(f'../data/ctrlpts/camera_ctrlpt.npz', allow_pickle=True, encoding='latin1')\n",
    "cellphone_data = np.load(f'../data/ctrlpts/cell_phone_ctrlpt.npz', allow_pickle=True, encoding='latin1')\n",
    "\n",
    "class_id"
   ],
   "metadata": {
    "colab": {
     "base_uri": "https://localhost:8080/"
    },
    "id": "7dfa8ee273347850",
    "outputId": "0b5a6363-c361-4611-aa66-1aa0e0526f9b",
    "ExecuteTime": {
     "end_time": "2024-05-20T07:38:59.731525100Z",
     "start_time": "2024-05-20T07:38:59.719525100Z"
    }
   },
   "id": "7dfa8ee273347850",
   "execution_count": 40
  },
  {
   "cell_type": "code",
   "outputs": [
    {
     "data": {
      "text/plain": "((17928,), (17938,), (17976,))"
     },
     "execution_count": 41,
     "metadata": {},
     "output_type": "execute_result"
    }
   ],
   "source": [
    "calculator_data.get('train').shape, camera_data.get('train').shape, cellphone_data.get('train').shape"
   ],
   "metadata": {
    "collapsed": false,
    "ExecuteTime": {
     "end_time": "2024-05-20T07:39:00.014640600Z",
     "start_time": "2024-05-20T07:38:59.729523800Z"
    }
   },
   "id": "7eb5ceff9eec8509",
   "execution_count": 41
  },
  {
   "cell_type": "code",
   "outputs": [],
   "source": [
    "from sklearn.model_selection import train_test_split\n",
    "\n",
    "# Limiting data to 5000 points per class\n",
    "def slice_data(data):\n",
    "    # Assuming that the data arrays in each 'train', 'test', 'valid' are already shuffled\n",
    "    sliced = []\n",
    "    for key in ['train', 'test', 'valid']:\n",
    "        # Slicing each segment\n",
    "        sliced.append(data[key])\n",
    "    # Concatenate slices from train, test, valid\n",
    "    return np.concatenate(sliced)\n",
    "\n",
    "# Slicing the data\n",
    "calculator_sliced = slice_data(calculator_data)[:5000]\n",
    "camera_sliced = slice_data(camera_data)[:5000]\n",
    "cellphone_sliced = slice_data(cellphone_data)[:5000]\n",
    "\n",
    "# Concatenate all sliced data\n",
    "def concatenate_data(*datasets):\n",
    "    features = []\n",
    "    labels = []\n",
    "    for data, cid in zip(datasets, class_id.values()):\n",
    "        features.append(data)\n",
    "        labels.extend([cid] * len(data))\n",
    "    features = np.concatenate(features)\n",
    "    labels = np.array(labels)\n",
    "    return features, labels\n",
    "\n",
    "features, labels = concatenate_data(calculator_sliced, camera_sliced, cellphone_sliced)\n",
    "\n",
    "# Split into train, test, and validation sets\n",
    "X_train, X_test, y_train, y_test = train_test_split(features, labels, test_size=0.2, random_state=42)"
   ],
   "metadata": {
    "collapsed": false,
    "ExecuteTime": {
     "end_time": "2024-05-20T07:39:00.293196400Z",
     "start_time": "2024-05-20T07:39:00.017641100Z"
    }
   },
   "id": "185cc30f35bc45a4",
   "execution_count": 42
  },
  {
   "cell_type": "code",
   "outputs": [
    {
     "data": {
      "text/plain": "((12000,), (12000,), (3000,), (3000,))"
     },
     "execution_count": 43,
     "metadata": {},
     "output_type": "execute_result"
    }
   ],
   "source": [
    "X_train.shape, y_train.shape, X_test.shape, y_test.shape"
   ],
   "metadata": {
    "collapsed": false,
    "ExecuteTime": {
     "end_time": "2024-05-20T07:39:00.309607500Z",
     "start_time": "2024-05-20T07:39:00.295197300Z"
    }
   },
   "id": "f29404e199bc33cc",
   "execution_count": 43
  },
  {
   "cell_type": "code",
   "outputs": [],
   "source": [
    "from torch.utils.data import TensorDataset, DataLoader\n",
    "\n",
    "import numpy as np\n",
    "from scipy.interpolate import interp1d\n",
    "\n",
    "def standardize_lengths(data, target_length=29):\n",
    "    standardized_data = []\n",
    "\n",
    "    for sequence in data:\n",
    "        # Current length of the sequence\n",
    "        current_length = sequence.shape[0]\n",
    "        \n",
    "        # Create an array of indices based on current length\n",
    "        current_indices = np.linspace(0, 1, current_length)\n",
    "        \n",
    "        # Target indices for interpolation\n",
    "        target_indices = np.linspace(0, 1, target_length)\n",
    "        \n",
    "        # Initialize interpolated sequence\n",
    "        interpolated_sequence = np.zeros((target_length, sequence.shape[1]))\n",
    "        \n",
    "        # Interpolate each channel\n",
    "        for i in range(sequence.shape[1]):\n",
    "            # Interpolate the i-th channel\n",
    "            interpolator = interp1d(current_indices, sequence[:, i], kind='linear')\n",
    "            interpolated_sequence[:, i] = interpolator(target_indices)\n",
    "        \n",
    "        # Append the interpolated sequence to the standardized data list\n",
    "        standardized_data.append(interpolated_sequence)\n",
    "\n",
    "    return np.array(standardized_data)\n",
    "\n",
    "# Apply standardization on X_train and X_test\n",
    "X_train_standardized = standardize_lengths(X_train)\n",
    "X_test_standardized = standardize_lengths(X_test)\n",
    "\n",
    "def convert_to_tensor_datasets(X_train, X_test, y_train, y_test):\n",
    "    \"\"\"\n",
    "    Convert numpy arrays into TensorFlow tensor datasets ready for model training.\n",
    "\n",
    "    Args:\n",
    "    X_train (np.array): Training features.\n",
    "    X_test (np.array): Testing features.\n",
    "    y_train (np.array): Training labels.\n",
    "    y_test (np.array): Testing labels.\n",
    "    batch_size (int): Size of batches for the dataset.\n",
    "\n",
    "    Returns:\n",
    "    tuple: TensorFlow datasets for training and testing.\n",
    "    \"\"\"\n",
    "    train_dataset = TensorDataset(torch.tensor(X_train, dtype=torch.float32).to(device), torch.tensor(y_train, dtype=torch.long).to(device))\n",
    "    test_dataset = TensorDataset(torch.tensor(X_test).to(device, dtype=torch.float32), torch.tensor(y_test, dtype=torch.long).to(device))\n",
    "\n",
    "    return train_dataset, test_dataset\n",
    "\n",
    "train_dataset, test_dataset = convert_to_tensor_datasets(X_train_standardized, X_test_standardized, y_train, y_test)\n",
    "\n",
    "train_loader = DataLoader(train_dataset, batch_size=BATCH_SIZE, shuffle=True)\n",
    "test_loader = DataLoader(test_dataset, batch_size=BATCH_SIZE, shuffle=False)"
   ],
   "metadata": {
    "id": "f08ca72c1b1fb327",
    "ExecuteTime": {
     "end_time": "2024-05-20T07:39:02.045667500Z",
     "start_time": "2024-05-20T07:39:00.313606300Z"
    }
   },
   "id": "f08ca72c1b1fb327",
   "execution_count": 44
  },
  {
   "cell_type": "code",
   "outputs": [
    {
     "name": "stdout",
     "output_type": "stream",
     "text": [
      "188\n",
      "47\n"
     ]
    }
   ],
   "source": [
    "print(len(train_loader))\n",
    "print(len(test_loader))"
   ],
   "metadata": {
    "colab": {
     "base_uri": "https://localhost:8080/"
    },
    "id": "e580dce6f95fda90",
    "outputId": "cdc0baaa-d796-42f3-d80e-bcd30dbea0c1",
    "ExecuteTime": {
     "end_time": "2024-05-20T07:39:02.061595500Z",
     "start_time": "2024-05-20T07:39:02.047588100Z"
    }
   },
   "id": "e580dce6f95fda90",
   "execution_count": 45
  },
  {
   "cell_type": "code",
   "outputs": [
    {
     "data": {
      "text/plain": "((12000, 29, 3), (3000, 29, 3))"
     },
     "execution_count": 46,
     "metadata": {},
     "output_type": "execute_result"
    }
   ],
   "source": [
    "X_train_standardized.shape, X_test_standardized.shape"
   ],
   "metadata": {
    "collapsed": false,
    "ExecuteTime": {
     "end_time": "2024-05-20T07:39:02.086709400Z",
     "start_time": "2024-05-20T07:39:02.062595200Z"
    }
   },
   "id": "7c8eabe3b4debc3e",
   "execution_count": 46
  },
  {
   "cell_type": "markdown",
   "source": [
    "## 3. Model Building"
   ],
   "metadata": {
    "collapsed": false,
    "id": "736300954d6c140b"
   },
   "id": "736300954d6c140b"
  },
  {
   "cell_type": "markdown",
   "source": [
    "### 3.1. Quantum Layer"
   ],
   "metadata": {
    "collapsed": false,
    "id": "e0fbe9347ed9c2c8"
   },
   "id": "e0fbe9347ed9c2c8"
  },
  {
   "cell_type": "code",
   "outputs": [
    {
     "data": {
      "text/plain": "<Figure size 872.774x451.5 with 1 Axes>",
      "image/png": "[encoded data removed]"
     },
     "execution_count": 47,
     "metadata": {},
     "output_type": "execute_result"
    }
   ],
   "source": [
    "from qiskit_machine_learning.neural_networks import SamplerQNN\n",
    "from qiskit import QuantumCircuit\n",
    "from qiskit.circuit import ParameterVector\n",
    "\n",
    "\n",
    "def quantum_feature_map(n: int) -> QuantumCircuit:\n",
    "    circuit = QuantumCircuit(n)\n",
    "    features = ParameterVector(\"x\", n)\n",
    "\n",
    "    for i in range(n):\n",
    "        circuit.rx(features[i], i)\n",
    "\n",
    "    return circuit\n",
    "\n",
    "def quantum_ansatz(n: int) -> QuantumCircuit:\n",
    "    circuit = QuantumCircuit(n)\n",
    "    weights = ParameterVector(\"w\", n * 3)\n",
    "\n",
    "    for i in range(n):\n",
    "        circuit.rz(weights[i], i)\n",
    "\n",
    "    for i in range(n):\n",
    "        circuit.ry(weights[n+i], i)\n",
    "\n",
    "    for i in range(n):\n",
    "        circuit.rz(weights[2*n+i], i)\n",
    "\n",
    "    for i in range(n-1):\n",
    "        circuit.cx(i, i+1)\n",
    "    circuit.cx(n-1, 0)\n",
    "\n",
    "    return circuit\n",
    "\n",
    "def create_qnn(n):\n",
    "    feature_map = quantum_feature_map(n)\n",
    "    ansatz = quantum_ansatz(n)\n",
    "\n",
    "    qc = QuantumCircuit(n)\n",
    "    qc.compose(feature_map, inplace=True)\n",
    "    qc.compose(ansatz, inplace=True)\n",
    "\n",
    "    # REMEMBER TO SET input_gradients=True FOR ENABLING HYBRID GRADIENT BACKPROP\n",
    "    qnn = SamplerQNN(\n",
    "        circuit=qc,\n",
    "        input_params=feature_map.parameters,\n",
    "        weight_params=ansatz.parameters,\n",
    "        input_gradients=True,\n",
    "    )\n",
    "    return qnn, qc\n",
    "\n",
    "qnn, qc = create_qnn(5)\n",
    "qc.draw(\"mpl\")"
   ],
   "metadata": {
    "id": "f3d980584768d91",
    "ExecuteTime": {
     "end_time": "2024-05-20T07:39:02.342754900Z",
     "start_time": "2024-05-20T07:39:02.080601Z"
    }
   },
   "id": "f3d980584768d91",
   "execution_count": 47
  },
  {
   "cell_type": "markdown",
   "source": [
    "### 3.2. Hybrid Neural Network"
   ],
   "metadata": {
    "collapsed": false,
    "id": "e2b6cd9b5fb141ad"
   },
   "id": "e2b6cd9b5fb141ad"
  },
  {
   "cell_type": "code",
   "outputs": [],
   "source": [
    "import torch\n",
    "import torch.nn as nn\n",
    "import torch.nn.functional as F\n",
    "import torch.optim as optim\n",
    "\n",
    "from qiskit_machine_learning.connectors import TorchConnector\n",
    "\n",
    "class HybridNN(nn.Module):\n",
    "    def __init__(self, input_shape, num_categories, n_qubits=5, fname=None):\n",
    "        super(HybridNN, self).__init__()\n",
    "        self.num_categories = num_categories\n",
    "\n",
    "        # Convolutional layers\n",
    "        #self.conv1 = nn.Conv1d(in_channels=input_shape[1], out_channels=16, kernel_size=4)\n",
    "        #self.bn1 = nn.BatchNorm1d(num_features=16)\n",
    "        #self.pool1 = nn.AvgPool1d(kernel_size=2)\n",
    "        \n",
    "        #self.conv2 = nn.Conv1d(in_channels=16, out_channels=32, kernel_size=5)\n",
    "        #self.bn2 = nn.BatchNorm1d(num_features=32)\n",
    "        #self.pool2 = nn.AvgPool1d(kernel_size=2)\n",
    "        \n",
    "        #self.conv3 = nn.Conv1d(in_channels=32, out_channels=64, kernel_size=3)\n",
    "        #self.bn3 = nn.BatchNorm1d(num_features=64)\n",
    "        #self.pool3 = nn.AvgPool1d(kernel_size=2)\n",
    "        \n",
    "        #self.conv4 = nn.Conv1d(in_channels=64, out_channels=128, kernel_size=3)\n",
    "        #self.bn4 = nn.BatchNorm1d(num_features=128)\n",
    "        #self.pool4 = nn.AvgPool1d(kernel_size=2)\n",
    "\n",
    "        # LSTM layers\n",
    "        self.lstm1 = nn.LSTM(input_size=29, hidden_size=29, batch_first=True)\n",
    "        self.lstm2 = nn.LSTM(input_size=29, hidden_size=29, batch_first=True)\n",
    "        \n",
    "        self.pool5 = nn.AvgPool1d(kernel_size=2)\n",
    "\n",
    "        # Dense layers\n",
    "        self.fc1 = nn.Linear(14, 14)\n",
    "        self.fc2 = nn.Linear(14, 14)\n",
    "\n",
    "        # Quantum layer\n",
    "        self.fc3 = nn.Linear(14, n_qubits)\n",
    "        self.qnn = TorchConnector(create_qnn(n_qubits)[0])\n",
    "\n",
    "        # Dense layer for classification\n",
    "        self.fc4 = nn.Linear(2**n_qubits, num_categories)\n",
    "\n",
    "        # Load pre-trained weights\n",
    "        if fname:\n",
    "            self.load_state_dict(torch.load(fname))\n",
    "\n",
    "    def forward(self, x):\n",
    "        #x = x.permute(0, 2, 1)\n",
    "\n",
    "        # Convolutional layers\n",
    "        #x = F.relu(self.bn1(self.conv1(x)))\n",
    "        #x = self.pool1(x)\n",
    "        \n",
    "        #x = F.relu(self.bn2(self.conv2(x)))\n",
    "        #x = self.pool2(x)\n",
    "        \n",
    "        #x = F.relu(self.bn3(self.conv3(x)))\n",
    "        #x = self.pool3(x)\n",
    "        \n",
    "        #x = F.relu(self.bn4(self.conv4(x)))\n",
    "        #x = self.pool4(x)\n",
    "\n",
    "        # Reshape for LSTM\n",
    "        x = x.permute(0, 2, 1)\n",
    "        x, _ = self.lstm1(x)\n",
    "        x, _ = self.lstm2(x)\n",
    "        x = x[:, -1, :]\n",
    "\n",
    "        # Pool layer\n",
    "        x = self.pool5(x)\n",
    "\n",
    "        # Flatten the output for dense layer\n",
    "        x = torch.flatten(x, 1)\n",
    "\n",
    "        # Dense layers\n",
    "        x = F.relu(self.fc1(x))\n",
    "        x = F.relu(self.fc2(x))\n",
    "\n",
    "        # Quantum layer\n",
    "        x = F.relu(self.fc3(x))\n",
    "        x = self.qnn(x)\n",
    "\n",
    "        # Dense layer for classification\n",
    "        x = F.relu(self.fc4(x))\n",
    "        return x\n",
    "\n",
    "    def predict(self, x):\n",
    "        self.eval()\n",
    "        with torch.no_grad():\n",
    "            x = torch.tensor(x, dtype=torch.float32)\n",
    "            x = x.unsqueeze(0)\n",
    "            prediction = self.forward(x)\n",
    "        return prediction.numpy()"
   ],
   "metadata": {
    "id": "49624a778b84529c",
    "ExecuteTime": {
     "end_time": "2024-05-20T07:39:02.392959700Z",
     "start_time": "2024-05-20T07:39:02.351427500Z"
    }
   },
   "id": "49624a778b84529c",
   "execution_count": 48
  },
  {
   "cell_type": "markdown",
   "source": [
    "## 4. Training the Model"
   ],
   "metadata": {
    "collapsed": false,
    "id": "b7fb9e3bc8e4a44f"
   },
   "id": "b7fb9e3bc8e4a44f"
  },
  {
   "cell_type": "code",
   "outputs": [],
   "source": [
    "checkpoint_filepath = 'models/2edition_quantum_lstm/best_model_weights_3classes_ctrlpts.pth'"
   ],
   "metadata": {
    "id": "a033adbcc37ca961",
    "ExecuteTime": {
     "end_time": "2024-05-20T07:39:02.393960200Z",
     "start_time": "2024-05-20T07:39:02.359443Z"
    }
   },
   "id": "a033adbcc37ca961",
   "execution_count": 49
  },
  {
   "cell_type": "code",
   "outputs": [
    {
     "name": "stderr",
     "output_type": "stream",
     "text": [
      "100%|██████████| 188/188 [23:17<00:00,  7.44s/it]\n"
     ]
    },
    {
     "name": "stdout",
     "output_type": "stream",
     "text": [
      "Epoch 1, Accuracy: 0.3303333333333333, Loss: 1.0870001924798844, Validation Accuracy: 0.3456666666666667, Validation Loss: 1.0609920024871826\n"
     ]
    },
    {
     "name": "stderr",
     "output_type": "stream",
     "text": [
      "100%|██████████| 188/188 [23:04<00:00,  7.36s/it]\n"
     ]
    },
    {
     "name": "stdout",
     "output_type": "stream",
     "text": [
      "Epoch 2, Accuracy: 0.33025, Loss: 1.0409779237939956, Validation Accuracy: 0.3456666666666667, Validation Loss: 1.0195567607879639\n"
     ]
    },
    {
     "name": "stderr",
     "output_type": "stream",
     "text": [
      "100%|██████████| 188/188 [22:55<00:00,  7.31s/it]\n"
     ]
    },
    {
     "name": "stdout",
     "output_type": "stream",
     "text": [
      "Epoch 3, Accuracy: 0.33025, Loss: 1.003698508473153, Validation Accuracy: 0.3456666666666667, Validation Loss: 0.9953712821006775\n"
     ]
    },
    {
     "name": "stderr",
     "output_type": "stream",
     "text": [
      "100%|██████████| 188/188 [23:23<00:00,  7.46s/it]\n"
     ]
    },
    {
     "name": "stdout",
     "output_type": "stream",
     "text": [
      "Epoch 4, Accuracy: 0.33025, Loss: 0.9799758205388455, Validation Accuracy: 0.3456666666666667, Validation Loss: 0.9828709363937378\n"
     ]
    },
    {
     "name": "stderr",
     "output_type": "stream",
     "text": [
      "100%|██████████| 188/188 [23:19<00:00,  7.44s/it]\n"
     ]
    },
    {
     "name": "stdout",
     "output_type": "stream",
     "text": [
      "Epoch 5, Accuracy: 0.38425, Loss: 0.9583720155852906, Validation Accuracy: 0.519, Validation Loss: 0.9634131789207458\n"
     ]
    },
    {
     "name": "stderr",
     "output_type": "stream",
     "text": [
      "100%|██████████| 188/188 [22:52<00:00,  7.30s/it]\n"
     ]
    },
    {
     "name": "stdout",
     "output_type": "stream",
     "text": [
      "Epoch 6, Accuracy: 0.54425, Loss: 0.9341048500005235, Validation Accuracy: 0.5213333333333333, Validation Loss: 0.9482519626617432\n"
     ]
    },
    {
     "name": "stderr",
     "output_type": "stream",
     "text": [
      "100%|██████████| 188/188 [22:34<00:00,  7.21s/it]\n"
     ]
    },
    {
     "name": "stdout",
     "output_type": "stream",
     "text": [
      "Epoch 7, Accuracy: 0.5465, Loss: 0.913948451902004, Validation Accuracy: 0.5193333333333333, Validation Loss: 0.924786388874054\n"
     ]
    },
    {
     "name": "stderr",
     "output_type": "stream",
     "text": [
      "100%|██████████| 188/188 [24:00<00:00,  7.66s/it]\n"
     ]
    },
    {
     "name": "stdout",
     "output_type": "stream",
     "text": [
      "Epoch 8, Accuracy: 0.5386666666666666, Loss: 0.8759436318848995, Validation Accuracy: 0.508, Validation Loss: 0.8961911201477051\n"
     ]
    },
    {
     "name": "stderr",
     "output_type": "stream",
     "text": [
      "100%|██████████| 188/188 [23:54<00:00,  7.63s/it]\n"
     ]
    },
    {
     "name": "stdout",
     "output_type": "stream",
     "text": [
      "Epoch 9, Accuracy: 0.5396666666666666, Loss: 0.8396308216008734, Validation Accuracy: 0.504, Validation Loss: 0.8834222555160522\n"
     ]
    },
    {
     "name": "stderr",
     "output_type": "stream",
     "text": [
      "100%|██████████| 188/188 [23:21<00:00,  7.46s/it]\n"
     ]
    },
    {
     "name": "stdout",
     "output_type": "stream",
     "text": [
      "Epoch 10, Accuracy: 0.5428333333333333, Loss: 0.8177404980710212, Validation Accuracy: 0.5093333333333333, Validation Loss: 0.8772150874137878\n"
     ]
    },
    {
     "name": "stderr",
     "output_type": "stream",
     "text": [
      "100%|██████████| 188/188 [23:18<00:00,  7.44s/it]\n"
     ]
    },
    {
     "name": "stdout",
     "output_type": "stream",
     "text": [
      "Epoch 11, Accuracy: 0.54425, Loss: 0.7975594674019103, Validation Accuracy: 0.49766666666666665, Validation Loss: 0.8742719888687134\n"
     ]
    },
    {
     "name": "stderr",
     "output_type": "stream",
     "text": [
      "100%|██████████| 188/188 [23:14<00:00,  7.42s/it]\n"
     ]
    },
    {
     "name": "stdout",
     "output_type": "stream",
     "text": [
      "Epoch 12, Accuracy: 0.6026666666666667, Loss: 0.7685072441050347, Validation Accuracy: 0.7253333333333334, Validation Loss: 0.7939538359642029\n"
     ]
    },
    {
     "name": "stderr",
     "output_type": "stream",
     "text": [
      "100%|██████████| 188/188 [23:18<00:00,  7.44s/it]\n"
     ]
    },
    {
     "name": "stdout",
     "output_type": "stream",
     "text": [
      "Epoch 13, Accuracy: 0.80625, Loss: 0.6302137078439936, Validation Accuracy: 0.7336666666666667, Validation Loss: 0.7266911268234253\n"
     ]
    },
    {
     "name": "stderr",
     "output_type": "stream",
     "text": [
      "100%|██████████| 188/188 [23:14<00:00,  7.42s/it]\n"
     ]
    },
    {
     "name": "stdout",
     "output_type": "stream",
     "text": [
      "Epoch 14, Accuracy: 0.8145833333333333, Loss: 0.5718491587867128, Validation Accuracy: 0.7316666666666667, Validation Loss: 0.7111256122589111\n"
     ]
    },
    {
     "name": "stderr",
     "output_type": "stream",
     "text": [
      "100%|██████████| 188/188 [23:14<00:00,  7.42s/it]\n"
     ]
    },
    {
     "name": "stdout",
     "output_type": "stream",
     "text": [
      "Epoch 15, Accuracy: 0.8211666666666667, Loss: 0.5419930492309813, Validation Accuracy: 0.7393333333333333, Validation Loss: 0.688818097114563\n"
     ]
    },
    {
     "name": "stderr",
     "output_type": "stream",
     "text": [
      "100%|██████████| 188/188 [23:27<00:00,  7.49s/it]\n"
     ]
    },
    {
     "name": "stdout",
     "output_type": "stream",
     "text": [
      "Epoch 16, Accuracy: 0.82925, Loss: 0.512402206976363, Validation Accuracy: 0.7336666666666667, Validation Loss: 0.6800089478492737\n"
     ]
    },
    {
     "name": "stderr",
     "output_type": "stream",
     "text": [
      "100%|██████████| 188/188 [23:27<00:00,  7.49s/it]\n"
     ]
    },
    {
     "name": "stdout",
     "output_type": "stream",
     "text": [
      "Epoch 17, Accuracy: 0.83675, Loss: 0.49550503349684655, Validation Accuracy: 0.757, Validation Loss: 0.6679573059082031\n"
     ]
    },
    {
     "name": "stderr",
     "output_type": "stream",
     "text": [
      "100%|██████████| 188/188 [23:34<00:00,  7.52s/it]\n"
     ]
    },
    {
     "name": "stdout",
     "output_type": "stream",
     "text": [
      "Epoch 18, Accuracy: 0.8476666666666667, Loss: 0.4710858310473726, Validation Accuracy: 0.751, Validation Loss: 0.6710739135742188\n"
     ]
    },
    {
     "name": "stderr",
     "output_type": "stream",
     "text": [
      "100%|██████████| 188/188 [23:37<00:00,  7.54s/it]\n"
     ]
    },
    {
     "name": "stdout",
     "output_type": "stream",
     "text": [
      "Epoch 19, Accuracy: 0.8539166666666667, Loss: 0.4500807249482642, Validation Accuracy: 0.7546666666666667, Validation Loss: 0.6684553027153015\n"
     ]
    },
    {
     "name": "stderr",
     "output_type": "stream",
     "text": [
      "100%|██████████| 188/188 [23:23<00:00,  7.47s/it]\n"
     ]
    },
    {
     "name": "stdout",
     "output_type": "stream",
     "text": [
      "Epoch 20, Accuracy: 0.8555, Loss: 0.44202882003911, Validation Accuracy: 0.7526666666666667, Validation Loss: 0.6585540771484375\n"
     ]
    },
    {
     "name": "stderr",
     "output_type": "stream",
     "text": [
      "100%|██████████| 188/188 [23:54<00:00,  7.63s/it]\n"
     ]
    },
    {
     "name": "stdout",
     "output_type": "stream",
     "text": [
      "Epoch 21, Accuracy: 0.8648333333333333, Loss: 0.4212581295757852, Validation Accuracy: 0.7556666666666667, Validation Loss: 0.6630986332893372\n"
     ]
    },
    {
     "name": "stderr",
     "output_type": "stream",
     "text": [
      "100%|██████████| 188/188 [23:26<00:00,  7.48s/it]\n"
     ]
    },
    {
     "name": "stdout",
     "output_type": "stream",
     "text": [
      "Epoch 22, Accuracy: 0.8713333333333333, Loss: 0.40493527015155933, Validation Accuracy: 0.75, Validation Loss: 0.6750238537788391\n"
     ]
    },
    {
     "name": "stderr",
     "output_type": "stream",
     "text": [
      "100%|██████████| 188/188 [23:22<00:00,  7.46s/it]\n"
     ]
    },
    {
     "name": "stdout",
     "output_type": "stream",
     "text": [
      "Epoch 23, Accuracy: 0.8713333333333333, Loss: 0.40297424167077595, Validation Accuracy: 0.7473333333333333, Validation Loss: 0.6732047200202942\n"
     ]
    },
    {
     "name": "stderr",
     "output_type": "stream",
     "text": [
      "100%|██████████| 188/188 [23:19<00:00,  7.44s/it]\n"
     ]
    },
    {
     "name": "stdout",
     "output_type": "stream",
     "text": [
      "Epoch 24, Accuracy: 0.8765833333333334, Loss: 0.3930826946458918, Validation Accuracy: 0.7506666666666667, Validation Loss: 0.6814671754837036\n"
     ]
    },
    {
     "name": "stderr",
     "output_type": "stream",
     "text": [
      "100%|██████████| 188/188 [23:31<00:00,  7.51s/it]\n"
     ]
    },
    {
     "name": "stdout",
     "output_type": "stream",
     "text": [
      "Epoch 25, Accuracy: 0.8758333333333334, Loss: 0.3878754938536502, Validation Accuracy: 0.756, Validation Loss: 0.6759048700332642\n"
     ]
    },
    {
     "name": "stderr",
     "output_type": "stream",
     "text": [
      "100%|██████████| 188/188 [23:38<00:00,  7.54s/it]\n"
     ]
    },
    {
     "name": "stdout",
     "output_type": "stream",
     "text": [
      "Epoch 26, Accuracy: 0.8850833333333333, Loss: 0.37008665486219083, Validation Accuracy: 0.7556666666666667, Validation Loss: 0.681465208530426\n"
     ]
    },
    {
     "name": "stderr",
     "output_type": "stream",
     "text": [
      "100%|██████████| 188/188 [23:12<00:00,  7.41s/it]\n"
     ]
    },
    {
     "name": "stdout",
     "output_type": "stream",
     "text": [
      "Epoch 27, Accuracy: 0.8884166666666666, Loss: 0.36391404437574937, Validation Accuracy: 0.7536666666666667, Validation Loss: 0.6864519119262695\n"
     ]
    },
    {
     "name": "stderr",
     "output_type": "stream",
     "text": [
      "100%|██████████| 188/188 [22:51<00:00,  7.30s/it]\n"
     ]
    },
    {
     "name": "stdout",
     "output_type": "stream",
     "text": [
      "Epoch 28, Accuracy: 0.8868333333333334, Loss: 0.3627366701022108, Validation Accuracy: 0.7566666666666667, Validation Loss: 0.6821683049201965\n"
     ]
    },
    {
     "name": "stderr",
     "output_type": "stream",
     "text": [
      "100%|██████████| 188/188 [23:01<00:00,  7.35s/it]\n"
     ]
    },
    {
     "name": "stdout",
     "output_type": "stream",
     "text": [
      "Epoch 29, Accuracy: 0.8891666666666667, Loss: 0.3552496112248999, Validation Accuracy: 0.7466666666666667, Validation Loss: 0.712105929851532\n"
     ]
    },
    {
     "name": "stderr",
     "output_type": "stream",
     "text": [
      "100%|██████████| 188/188 [23:36<00:00,  7.54s/it]\n"
     ]
    },
    {
     "name": "stdout",
     "output_type": "stream",
     "text": [
      "Epoch 30, Accuracy: 0.89175, Loss: 0.34906198916600106, Validation Accuracy: 0.759, Validation Loss: 0.6837190389633179\n"
     ]
    },
    {
     "name": "stderr",
     "output_type": "stream",
     "text": [
      "100%|██████████| 188/188 [23:23<00:00,  7.46s/it]\n"
     ]
    },
    {
     "name": "stdout",
     "output_type": "stream",
     "text": [
      "Epoch 31, Accuracy: 0.8916666666666667, Loss: 0.3431378805098381, Validation Accuracy: 0.7586666666666667, Validation Loss: 0.6909518837928772\n"
     ]
    },
    {
     "name": "stderr",
     "output_type": "stream",
     "text": [
      "100%|██████████| 188/188 [24:07<00:00,  7.70s/it]\n"
     ]
    },
    {
     "name": "stdout",
     "output_type": "stream",
     "text": [
      "Epoch 32, Accuracy: 0.891, Loss: 0.34354550276506457, Validation Accuracy: 0.7476666666666667, Validation Loss: 0.7083292007446289\n"
     ]
    },
    {
     "name": "stderr",
     "output_type": "stream",
     "text": [
      "100%|██████████| 188/188 [23:47<00:00,  7.59s/it]\n"
     ]
    },
    {
     "name": "stdout",
     "output_type": "stream",
     "text": [
      "Epoch 33, Accuracy: 0.8955, Loss: 0.3351403625404581, Validation Accuracy: 0.7573333333333333, Validation Loss: 0.7056659460067749\n"
     ]
    },
    {
     "name": "stderr",
     "output_type": "stream",
     "text": [
      "100%|██████████| 188/188 [23:02<00:00,  7.36s/it]\n"
     ]
    },
    {
     "name": "stdout",
     "output_type": "stream",
     "text": [
      "Epoch 34, Accuracy: 0.8998333333333334, Loss: 0.3232198090470852, Validation Accuracy: 0.759, Validation Loss: 0.7175757884979248\n"
     ]
    },
    {
     "name": "stderr",
     "output_type": "stream",
     "text": [
      "100%|██████████| 188/188 [23:03<00:00,  7.36s/it]\n"
     ]
    },
    {
     "name": "stdout",
     "output_type": "stream",
     "text": [
      "Epoch 35, Accuracy: 0.902, Loss: 0.3215020637800719, Validation Accuracy: 0.749, Validation Loss: 0.7205247282981873\n"
     ]
    },
    {
     "name": "stderr",
     "output_type": "stream",
     "text": [
      "100%|██████████| 188/188 [23:03<00:00,  7.36s/it]\n"
     ]
    },
    {
     "name": "stdout",
     "output_type": "stream",
     "text": [
      "Epoch 36, Accuracy: 0.9034166666666666, Loss: 0.3162678356500382, Validation Accuracy: 0.7506666666666667, Validation Loss: 0.7286136746406555\n"
     ]
    },
    {
     "name": "stderr",
     "output_type": "stream",
     "text": [
      "100%|██████████| 188/188 [23:09<00:00,  7.39s/it]\n"
     ]
    },
    {
     "name": "stdout",
     "output_type": "stream",
     "text": [
      "Epoch 37, Accuracy: 0.9031666666666667, Loss: 0.3156145417547606, Validation Accuracy: 0.7613333333333333, Validation Loss: 0.6890755891799927\n"
     ]
    },
    {
     "name": "stderr",
     "output_type": "stream",
     "text": [
      "100%|██████████| 188/188 [23:04<00:00,  7.37s/it]\n"
     ]
    },
    {
     "name": "stdout",
     "output_type": "stream",
     "text": [
      "Epoch 38, Accuracy: 0.9079166666666667, Loss: 0.30318147419614994, Validation Accuracy: 0.7603333333333333, Validation Loss: 0.7145625948905945\n"
     ]
    },
    {
     "name": "stderr",
     "output_type": "stream",
     "text": [
      "100%|██████████| 188/188 [23:05<00:00,  7.37s/it]\n"
     ]
    },
    {
     "name": "stdout",
     "output_type": "stream",
     "text": [
      "Epoch 39, Accuracy: 0.9031666666666667, Loss: 0.3094292671439495, Validation Accuracy: 0.7603333333333333, Validation Loss: 0.7041499018669128\n"
     ]
    },
    {
     "name": "stderr",
     "output_type": "stream",
     "text": [
      "100%|██████████| 188/188 [23:06<00:00,  7.37s/it]\n"
     ]
    },
    {
     "name": "stdout",
     "output_type": "stream",
     "text": [
      "Epoch 40, Accuracy: 0.90975, Loss: 0.2996419538605086, Validation Accuracy: 0.764, Validation Loss: 0.6986867189407349\n"
     ]
    },
    {
     "name": "stderr",
     "output_type": "stream",
     "text": [
      "100%|██████████| 188/188 [23:05<00:00,  7.37s/it]\n"
     ]
    },
    {
     "name": "stdout",
     "output_type": "stream",
     "text": [
      "Epoch 41, Accuracy: 0.9125833333333333, Loss: 0.2876761296486601, Validation Accuracy: 0.7673333333333333, Validation Loss: 0.7088150978088379\n"
     ]
    },
    {
     "name": "stderr",
     "output_type": "stream",
     "text": [
      "100%|██████████| 188/188 [23:07<00:00,  7.38s/it]\n"
     ]
    },
    {
     "name": "stdout",
     "output_type": "stream",
     "text": [
      "Epoch 42, Accuracy: 0.914, Loss: 0.28331586195433395, Validation Accuracy: 0.7533333333333333, Validation Loss: 0.725570023059845\n"
     ]
    },
    {
     "name": "stderr",
     "output_type": "stream",
     "text": [
      "100%|██████████| 188/188 [23:06<00:00,  7.37s/it]\n"
     ]
    },
    {
     "name": "stdout",
     "output_type": "stream",
     "text": [
      "Epoch 43, Accuracy: 0.9101666666666667, Loss: 0.2886184969560263, Validation Accuracy: 0.7633333333333333, Validation Loss: 0.7240883708000183\n"
     ]
    },
    {
     "name": "stderr",
     "output_type": "stream",
     "text": [
      "100%|██████████| 188/188 [23:03<00:00,  7.36s/it]\n"
     ]
    },
    {
     "name": "stdout",
     "output_type": "stream",
     "text": [
      "Epoch 44, Accuracy: 0.9115833333333333, Loss: 0.28502215425226285, Validation Accuracy: 0.7596666666666667, Validation Loss: 0.7343873977661133\n"
     ]
    },
    {
     "name": "stderr",
     "output_type": "stream",
     "text": [
      "100%|██████████| 188/188 [23:06<00:00,  7.38s/it]\n"
     ]
    },
    {
     "name": "stdout",
     "output_type": "stream",
     "text": [
      "Epoch 45, Accuracy: 0.9148333333333334, Loss: 0.2768462985912536, Validation Accuracy: 0.7626666666666667, Validation Loss: 0.7275449633598328\n"
     ]
    },
    {
     "name": "stderr",
     "output_type": "stream",
     "text": [
      "100%|██████████| 188/188 [23:05<00:00,  7.37s/it]\n"
     ]
    },
    {
     "name": "stdout",
     "output_type": "stream",
     "text": [
      "Epoch 46, Accuracy: 0.9145833333333333, Loss: 0.27711174442888575, Validation Accuracy: 0.7663333333333333, Validation Loss: 0.7254805564880371\n"
     ]
    },
    {
     "name": "stderr",
     "output_type": "stream",
     "text": [
      "100%|██████████| 188/188 [22:57<00:00,  7.33s/it]\n"
     ]
    },
    {
     "name": "stdout",
     "output_type": "stream",
     "text": [
      "Epoch 47, Accuracy: 0.91625, Loss: 0.2743086836280975, Validation Accuracy: 0.767, Validation Loss: 0.7330825924873352\n"
     ]
    },
    {
     "name": "stderr",
     "output_type": "stream",
     "text": [
      "100%|██████████| 188/188 [23:01<00:00,  7.35s/it]\n"
     ]
    },
    {
     "name": "stdout",
     "output_type": "stream",
     "text": [
      "Epoch 48, Accuracy: 0.9135833333333333, Loss: 0.2761555713938272, Validation Accuracy: 0.7596666666666667, Validation Loss: 0.7381348609924316\n"
     ]
    },
    {
     "name": "stderr",
     "output_type": "stream",
     "text": [
      "100%|██████████| 188/188 [23:04<00:00,  7.36s/it]\n"
     ]
    },
    {
     "name": "stdout",
     "output_type": "stream",
     "text": [
      "Epoch 49, Accuracy: 0.9165833333333333, Loss: 0.2689962553534102, Validation Accuracy: 0.7606666666666667, Validation Loss: 0.7444018721580505\n"
     ]
    },
    {
     "name": "stderr",
     "output_type": "stream",
     "text": [
      "100%|██████████| 188/188 [22:59<00:00,  7.34s/it]\n"
     ]
    },
    {
     "name": "stdout",
     "output_type": "stream",
     "text": [
      "Epoch 50, Accuracy: 0.9185833333333333, Loss: 0.26135937342459853, Validation Accuracy: 0.7603333333333333, Validation Loss: 0.7666177153587341\n"
     ]
    }
   ],
   "source": [
    "from tqdm import tqdm\n",
    "\n",
    "input_shape = (95, 3)\n",
    "model = HybridNN(input_shape, len(classes)).to(device)\n",
    "\n",
    "# Define optimizer and loss function\n",
    "optimizer = optim.Adam(model.parameters(), lr=0.001)\n",
    "criterion = nn.CrossEntropyLoss()\n",
    "\n",
    "# Function to evaluate the model on validation data\n",
    "def evaluate(model, test_loader):\n",
    "    model.eval()\n",
    "    total_correct = 0\n",
    "    total_loss = 0\n",
    "    total_samples = 0\n",
    "    with torch.no_grad():\n",
    "        for inputs, targets in test_loader:\n",
    "            outputs = model(inputs)\n",
    "            _, predicted = torch.max(outputs.data, 1)\n",
    "            total_samples += targets.size(0)\n",
    "\n",
    "            total_loss += criterion(outputs, targets)\n",
    "            total_correct += (predicted == targets).sum().item()\n",
    "    model.train()\n",
    "    return total_correct / total_samples, total_loss / len(test_loader)\n",
    "\n",
    "# Training loop\n",
    "best_accuracy = 0\n",
    "accuracy_list = []\n",
    "loss_list = []\n",
    "\n",
    "val_accuracy_list = []\n",
    "val_loss_list = []\n",
    "\n",
    "for epoch in range(50):\n",
    "    model.train()\n",
    "\n",
    "    total_loss = []\n",
    "    \n",
    "    total_correct = 0\n",
    "    total_samples = 0\n",
    "    for inputs, labels in tqdm(train_loader):\n",
    "        # Forward pass\n",
    "        optimizer.zero_grad(set_to_none=True)\n",
    "        outputs = model(inputs)\n",
    "\n",
    "        # Calculate loss\n",
    "        loss = criterion(outputs, labels)\n",
    "        loss.backward()\n",
    "\n",
    "        _, predicted = torch.max(outputs.data, 1)\n",
    "        total_correct += (predicted == labels).sum().item()\n",
    "\n",
    "        # Backward pass\n",
    "        optimizer.step()\n",
    "        total_loss.append(loss.item())\n",
    "\n",
    "        total_samples += 1\n",
    "\n",
    "    # Evaluate the model on the validation data after each epoch\n",
    "    val_accuracy, val_loss = evaluate(model, test_loader)\n",
    "    val_accuracy_list.append(val_accuracy)\n",
    "    val_loss_list.append(val_loss)\n",
    "    \n",
    "    accuracy_list.append(total_correct / len(train_loader.dataset))\n",
    "    loss_list.append(sum(total_loss) / len(train_loader))\n",
    "    \n",
    "    print(f'Epoch {epoch + 1}, Accuracy: {total_correct / len(train_loader.dataset)}, Loss: {sum(total_loss) / len(train_loader)}, Validation Accuracy: {val_accuracy}, Validation Loss: {val_loss}')\n",
    "\n",
    "    # Checkpointing\n",
    "    if val_accuracy > best_accuracy:\n",
    "        best_accuracy = val_accuracy\n",
    "        torch.save(model.state_dict(), checkpoint_filepath)"
   ],
   "metadata": {
    "colab": {
     "base_uri": "https://localhost:8080/"
    },
    "id": "68ae5740a75d5963",
    "outputId": "eedcff55-f158-4b91-c007-a1449c87b4d6",
    "ExecuteTime": {
     "end_time": "2024-05-21T03:09:29.423242400Z",
     "start_time": "2024-05-20T07:39:02.378451700Z"
    }
   },
   "id": "68ae5740a75d5963",
   "execution_count": 50
  },
  {
   "cell_type": "markdown",
   "source": [
    "## 5. Model Evaluation"
   ],
   "metadata": {
    "collapsed": false,
    "id": "35b80d71823b6294"
   },
   "id": "35b80d71823b6294"
  },
  {
   "cell_type": "code",
   "outputs": [],
   "source": [
    "val_loss_list = [acc.cpu().numpy() for acc in val_loss_list]"
   ],
   "metadata": {
    "collapsed": false,
    "ExecuteTime": {
     "end_time": "2024-05-21T06:20:17.376342700Z",
     "start_time": "2024-05-21T06:20:17.358825400Z"
    }
   },
   "id": "6257f7044116ffac",
   "execution_count": 52
  },
  {
   "cell_type": "code",
   "outputs": [
    {
     "data": {
      "text/plain": "<Figure size 1000x500 with 2 Axes>",
      "image/png": "[encoded data removed]"
     },
     "metadata": {},
     "output_type": "display_data"
    }
   ],
   "source": [
    "import matplotlib.pyplot as plt\n",
    "\n",
    "def plot_graphs(loss_list, val_loss_list, accuracy_list, val_accuracy_list):\n",
    "    plt.figure(figsize=(10, 5))\n",
    "\n",
    "    # Plotting loss\n",
    "    plt.subplot(1, 2, 1)\n",
    "    plt.plot(loss_list, label='Training Loss')\n",
    "    plt.plot(val_loss_list, label='Validation Loss')\n",
    "    plt.title('Training and Validation Loss')\n",
    "    plt.xlabel('Epoch')\n",
    "    plt.ylabel('Loss')\n",
    "    plt.legend()\n",
    "\n",
    "    # Plotting accuracy\n",
    "    plt.subplot(1, 2, 2)\n",
    "    plt.plot(accuracy_list, label='Training Accuracy')\n",
    "    plt.plot(val_accuracy_list, label='Validation Accuracy')\n",
    "    plt.title('Training and Validation Accuracy')\n",
    "    plt.xlabel('Epoch')\n",
    "    plt.ylabel('Accuracy')\n",
    "    plt.legend()\n",
    "\n",
    "plot_graphs(loss_list, val_loss_list, accuracy_list, val_accuracy_list)"
   ],
   "metadata": {
    "id": "ee82c8612d017e5",
    "ExecuteTime": {
     "end_time": "2024-05-21T06:20:19.194371500Z",
     "start_time": "2024-05-21T06:20:18.958813900Z"
    }
   },
   "id": "ee82c8612d017e5",
   "execution_count": 53
  },
  {
   "cell_type": "code",
   "outputs": [],
   "source": [
    "model = HybridNN(input_shape, num_categories=len(classes), fname=checkpoint_filepath)"
   ],
   "metadata": {
    "id": "521e85186e9fe105",
    "ExecuteTime": {
     "end_time": "2024-05-21T03:09:30.049927300Z",
     "start_time": "2024-05-21T03:09:30.049404300Z"
    }
   },
   "id": "521e85186e9fe105",
   "execution_count": null
  },
  {
   "cell_type": "code",
   "outputs": [],
   "source": [
    "INDEX = 0\n",
    "\n",
    "out = model.predict(X_test[:2500][INDEX])\n",
    "print(\"Predicted class:\", classes[np.argmax(out)])\n",
    "print(\"True class:\", classes[y_test[INDEX].astype(int)])"
   ],
   "metadata": {
    "id": "6071dc5ae78d3e40",
    "ExecuteTime": {
     "end_time": "2024-05-21T03:09:30.050964700Z",
     "start_time": "2024-05-21T03:09:30.050443900Z"
    }
   },
   "id": "6071dc5ae78d3e40",
   "execution_count": null
  }
 ],
 "metadata": {
  "kernelspec": {
   "name": "python3",
   "language": "python",
   "display_name": "Python 3 (ipykernel)"
  },
  "language_info": {
   "codemirror_mode": {
    "name": "ipython",
    "version": 2
   },
   "file_extension": ".py",
   "mimetype": "text/x-python",
   "name": "python",
   "nbconvert_exporter": "python",
   "pygments_lexer": "ipython2",
   "version": "2.7.6"
  },
  "colab": {
   "provenance": [],
   "gpuType": "T4"
  },
  "accelerator": "GPU"
 },
 "nbformat": 4,
 "nbformat_minor": 5
}
